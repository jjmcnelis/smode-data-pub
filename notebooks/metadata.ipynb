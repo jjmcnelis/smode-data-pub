{
 "cells": [
  {
   "cell_type": "markdown",
   "metadata": {
    "toc": true
   },
   "source": [
    "<h1>Table of Contents<span class=\"tocSkip\"></span></h1>\n",
    "<div class=\"toc\"><ul class=\"toc-item\"><li><span><a href=\"#resources\" data-toc-modified-id=\"resources-1\"><span class=\"toc-item-num\">1&nbsp;&nbsp;</span>resources</a></span><ul class=\"toc-item\"><li><span><a href=\"#gcmd\" data-toc-modified-id=\"gcmd-1.1\"><span class=\"toc-item-num\">1.1&nbsp;&nbsp;</span>gcmd</a></span><ul class=\"toc-item\"><li><span><a href=\"#as-a-table\" data-toc-modified-id=\"as-a-table-1.1.1\"><span class=\"toc-item-num\">1.1.1&nbsp;&nbsp;</span>as a table</a></span></li><li><span><a href=\"#as-a-dictionary\" data-toc-modified-id=\"as-a-dictionary-1.1.2\"><span class=\"toc-item-num\">1.1.2&nbsp;&nbsp;</span>as a dictionary</a></span></li></ul></li></ul></li><li><span><a href=\"#gcmd-keyword-summaries\" data-toc-modified-id=\"gcmd-keyword-summaries-2\"><span class=\"toc-item-num\">2&nbsp;&nbsp;</span>gcmd keyword summaries</a></span><ul class=\"toc-item\"><li><span><a href=\"#MimeType\" data-toc-modified-id=\"MimeType-2.1\"><span class=\"toc-item-num\">2.1&nbsp;&nbsp;</span>MimeType</a></span></li><li><span><a href=\"#chronounits\" data-toc-modified-id=\"chronounits-2.2\"><span class=\"toc-item-num\">2.2&nbsp;&nbsp;</span>chronounits</a></span></li><li><span><a href=\"#horizontalresolutionrange\" data-toc-modified-id=\"horizontalresolutionrange-2.3\"><span class=\"toc-item-num\">2.3&nbsp;&nbsp;</span>horizontalresolutionrange</a></span></li><li><span><a href=\"#instruments\" data-toc-modified-id=\"instruments-2.4\"><span class=\"toc-item-num\">2.4&nbsp;&nbsp;</span>instruments</a></span></li><li><span><a href=\"#locations\" data-toc-modified-id=\"locations-2.5\"><span class=\"toc-item-num\">2.5&nbsp;&nbsp;</span>locations</a></span></li><li><span><a href=\"#platforms\" data-toc-modified-id=\"platforms-2.6\"><span class=\"toc-item-num\">2.6&nbsp;&nbsp;</span>platforms</a></span></li><li><span><a href=\"#projects\" data-toc-modified-id=\"projects-2.7\"><span class=\"toc-item-num\">2.7&nbsp;&nbsp;</span>projects</a></span></li><li><span><a href=\"#providers\" data-toc-modified-id=\"providers-2.8\"><span class=\"toc-item-num\">2.8&nbsp;&nbsp;</span>providers</a></span></li><li><span><a href=\"#rucontenttype\" data-toc-modified-id=\"rucontenttype-2.9\"><span class=\"toc-item-num\">2.9&nbsp;&nbsp;</span>rucontenttype</a></span></li><li><span><a href=\"#sciencekeywords\" data-toc-modified-id=\"sciencekeywords-2.10\"><span class=\"toc-item-num\">2.10&nbsp;&nbsp;</span>sciencekeywords</a></span></li><li><span><a href=\"#temporalresolutionrange\" data-toc-modified-id=\"temporalresolutionrange-2.11\"><span class=\"toc-item-num\">2.11&nbsp;&nbsp;</span>temporalresolutionrange</a></span></li><li><span><a href=\"#verticalresolutionrange\" data-toc-modified-id=\"verticalresolutionrange-2.12\"><span class=\"toc-item-num\">2.12&nbsp;&nbsp;</span>verticalresolutionrange</a></span></li></ul></li><li><span><a href=\"#cf-standard_name-summaries\" data-toc-modified-id=\"cf-standard_name-summaries-3\"><span class=\"toc-item-num\">3&nbsp;&nbsp;</span>cf standard_name summaries</a></span></li><li><span><a href=\"#smode\" data-toc-modified-id=\"smode-4\"><span class=\"toc-item-num\">4&nbsp;&nbsp;</span>smode</a></span><ul class=\"toc-item\"><li><span><a href=\"#datasets\" data-toc-modified-id=\"datasets-4.1\"><span class=\"toc-item-num\">4.1&nbsp;&nbsp;</span>datasets</a></span><ul class=\"toc-item\"><li><span><a href=\"#cleanup\" data-toc-modified-id=\"cleanup-4.1.1\"><span class=\"toc-item-num\">4.1.1&nbsp;&nbsp;</span>cleanup</a></span></li><li><span><a href=\"#map/index\" data-toc-modified-id=\"map/index-4.1.2\"><span class=\"toc-item-num\">4.1.2&nbsp;&nbsp;</span>map/index</a></span></li></ul></li><li><span><a href=\"#maps\" data-toc-modified-id=\"maps-4.2\"><span class=\"toc-item-num\">4.2&nbsp;&nbsp;</span>maps</a></span></li><li><span><a href=\"#instruments\" data-toc-modified-id=\"instruments-4.3\"><span class=\"toc-item-num\">4.3&nbsp;&nbsp;</span>instruments</a></span></li><li><span><a href=\"#people\" data-toc-modified-id=\"people-4.4\"><span class=\"toc-item-num\">4.4&nbsp;&nbsp;</span>people</a></span></li><li><span><a href=\"#netcdf\" data-toc-modified-id=\"netcdf-4.5\"><span class=\"toc-item-num\">4.5&nbsp;&nbsp;</span>netcdf</a></span><ul class=\"toc-item\"><li><span><a href=\"#global-attributes\" data-toc-modified-id=\"global-attributes-4.5.1\"><span class=\"toc-item-num\">4.5.1&nbsp;&nbsp;</span>global attributes</a></span></li></ul></li></ul></li></ul></div>"
   ]
  },
  {
   "cell_type": "markdown",
   "metadata": {},
   "source": [
    "# SMODE Metadata Merge \n",
    "\n",
    "This notebook will use pandas and the GCMD Keyword API to harvest and populate smode metadata to the max extent possible. Then, we'll see where to go from there.\n",
    "\n",
    "* integrate cf standard_names "
   ]
  },
  {
   "cell_type": "code",
   "execution_count": 1,
   "metadata": {
    "ExecuteTime": {
     "end_time": "2020-07-24T06:05:03.386309Z",
     "start_time": "2020-07-24T06:05:03.383619Z"
    }
   },
   "outputs": [],
   "source": [
    "from glob import glob\n",
    "from json import load, dumps\n",
    "from urllib.request import urlopen\n",
    "from os.path import isfile, splitext\n",
    "from pandas import read_csv, read_excel, concat, DataFrame"
   ]
  },
  {
   "cell_type": "code",
   "execution_count": 2,
   "metadata": {
    "ExecuteTime": {
     "end_time": "2020-07-24T06:05:03.510220Z",
     "start_time": "2020-07-24T06:05:03.389114Z"
    }
   },
   "outputs": [
    {
     "name": "stdout",
     "output_type": "stream",
     "text": [
      "/Users/jmcnelis/Projects/podaac-git.jpl.nasa.gov/data-publication-docs/smode-data-pub/notebooks\r\n"
     ]
    }
   ],
   "source": [
    "!pwd"
   ]
  },
  {
   "cell_type": "code",
   "execution_count": 3,
   "metadata": {
    "ExecuteTime": {
     "end_time": "2020-07-24T06:05:03.522351Z",
     "start_time": "2020-07-24T06:05:03.512081Z"
    }
   },
   "outputs": [
    {
     "data": {
      "text/plain": [
       "{'rdf': ['../gcmd/rdf/horizontalresolutionrange.rdf',\n",
       "  '../gcmd/rdf/providers.rdf',\n",
       "  '../gcmd/rdf/chronounits.rdf',\n",
       "  '../gcmd/rdf/verticalresolutionrange.rdf',\n",
       "  '../gcmd/rdf/instruments.rdf',\n",
       "  '../gcmd/rdf/sciencekeywords.rdf',\n",
       "  '../gcmd/rdf/projects.rdf',\n",
       "  '../gcmd/rdf/MimeType.rdf',\n",
       "  '../gcmd/rdf/locations.rdf',\n",
       "  '../gcmd/rdf/rucontenttype.rdf',\n",
       "  '../gcmd/rdf/temporalresolutionrange.rdf',\n",
       "  '../gcmd/rdf/platforms.rdf'],\n",
       " 'xml': ['../gcmd/xml/sciencekeywords.xml',\n",
       "  '../gcmd/xml/instruments.xml',\n",
       "  '../gcmd/xml/MimeType.xml',\n",
       "  '../gcmd/xml/projects.xml',\n",
       "  '../gcmd/xml/locations.xml',\n",
       "  '../gcmd/xml/rucontenttype.xml',\n",
       "  '../gcmd/xml/platforms.xml',\n",
       "  '../gcmd/xml/temporalresolutionrange.xml',\n",
       "  '../gcmd/xml/horizontalresolutionrange.xml',\n",
       "  '../gcmd/xml/providers.xml',\n",
       "  '../gcmd/xml/verticalresolutionrange.xml',\n",
       "  '../gcmd/xml/chronounits.xml'],\n",
       " 'json': ['../gcmd/json/locations.json',\n",
       "  '../gcmd/json/MimeType.json',\n",
       "  '../gcmd/json/chronounits.json',\n",
       "  '../gcmd/json/providers.json',\n",
       "  '../gcmd/json/instruments.json',\n",
       "  '../gcmd/json/horizontalresolutionrange.json',\n",
       "  '../gcmd/json/sciencekeywords.json',\n",
       "  '../gcmd/json/projects.json',\n",
       "  '../gcmd/json/rucontenttype.json',\n",
       "  '../gcmd/json/temporalresolutionrange.json',\n",
       "  '../gcmd/json/verticalresolutionrange.json',\n",
       "  '../gcmd/json/platforms.json'],\n",
       " 'csv': ['../gcmd/csv/providers.csv',\n",
       "  '../gcmd/csv/chronounits.csv',\n",
       "  '../gcmd/csv/verticalresolutionrange.csv',\n",
       "  '../gcmd/csv/horizontalresolutionrange.csv',\n",
       "  '../gcmd/csv/rucontenttype.csv',\n",
       "  '../gcmd/csv/locations.csv',\n",
       "  '../gcmd/csv/platforms.csv',\n",
       "  '../gcmd/csv/temporalresolutionrange.csv',\n",
       "  '../gcmd/csv/instruments.csv',\n",
       "  '../gcmd/csv/sciencekeywords.csv',\n",
       "  '../gcmd/csv/MimeType.csv',\n",
       "  '../gcmd/csv/projects.csv']}"
      ]
     },
     "execution_count": 3,
     "metadata": {},
     "output_type": "execute_result"
    }
   ],
   "source": [
    "ref = {d: [f for f in glob(f\"../gcmd/{d}/*\")] for d in ['rdf', 'xml', 'json', 'csv']}\n",
    "ref"
   ]
  },
  {
   "cell_type": "markdown",
   "metadata": {},
   "source": [
    "## resources\n",
    "\n",
    "Read some resource files version controlled by this repo."
   ]
  },
  {
   "cell_type": "markdown",
   "metadata": {},
   "source": [
    "### gcmd"
   ]
  },
  {
   "cell_type": "code",
   "execution_count": 4,
   "metadata": {
    "ExecuteTime": {
     "end_time": "2020-07-24T06:05:03.842219Z",
     "start_time": "2020-07-24T06:05:03.769288Z"
    },
    "scrolled": false
   },
   "outputs": [
    {
     "name": "stdout",
     "output_type": "stream",
     "text": [
      "---------------------------------------------------------------------------\n",
      " WARNING | Failed to parse md/json/locations.csv  \n",
      "---------------------------------------------------------------------------\n",
      " Error tokenizing data. C error: Expected 6 fields in line 377, saw 7\n",
      "\n",
      "\n",
      "---------------------------------------------------------------------------\n",
      " WARNING | Failed to parse md/json/projects.csv  \n",
      "---------------------------------------------------------------------------\n",
      " Error tokenizing data. C error: Expected 4 fields in line 1306, saw 5\n",
      "\n",
      "\n",
      "---------------------------------------------------------------------------\n",
      " WARNING | Failed to parse md/json/platforms.csv  \n",
      "---------------------------------------------------------------------------\n",
      " Error tokenizing data. C error: Expected 5 fields in line 757, saw 6\n",
      "\n",
      "\n"
     ]
    },
    {
     "data": {
      "text/plain": [
       "['locations',\n",
       " 'MimeType',\n",
       " 'chronounits',\n",
       " 'providers',\n",
       " 'instruments',\n",
       " 'horizontalresolutionrange',\n",
       " 'sciencekeywords',\n",
       " 'projects',\n",
       " 'rucontenttype',\n",
       " 'temporalresolutionrange',\n",
       " 'verticalresolutionrange',\n",
       " 'platforms']"
      ]
     },
     "execution_count": 4,
     "metadata": {},
     "output_type": "execute_result"
    }
   ],
   "source": [
    "KEYWORDS = {}\n",
    "for j in ref['json']:\n",
    "    fn = j[13:-5]\n",
    "    with open(f\"../gcmd/json/{fn}.json\", \"r\") as f:\n",
    "        kwjson = load(f)\n",
    "    try:\n",
    "        kwcsv = read_csv(f\"../gcmd/csv/{fn}.csv\", header=1)\n",
    "    except Exception as e:\n",
    "        print(f\"\"\"{\"-\"*75}\\n WARNING | Failed to parse {j[5:-5]}.csv  \\n{\"-\"*75}\\n {e}\\n\"\"\")\n",
    "        kwcsv = None\n",
    "    KEYWORDS[fn[0:]] = (kwcsv, kwjson)\n",
    "    \n",
    "list(KEYWORDS.keys())"
   ]
  },
  {
   "cell_type": "code",
   "execution_count": 5,
   "metadata": {
    "ExecuteTime": {
     "end_time": "2020-07-24T06:05:03.969237Z",
     "start_time": "2020-07-24T06:05:03.843907Z"
    }
   },
   "outputs": [
    {
     "name": "stdout",
     "output_type": "stream",
     "text": [
      "MimeType.json                  projects.json\r\n",
      "chronounits.json               providers.json\r\n",
      "horizontalresolutionrange.json rucontenttype.json\r\n",
      "instruments.json               sciencekeywords.json\r\n",
      "locations.json                 temporalresolutionrange.json\r\n",
      "platforms.json                 verticalresolutionrange.json\r\n"
     ]
    }
   ],
   "source": [
    "!ls ../gcmd/json"
   ]
  },
  {
   "cell_type": "markdown",
   "metadata": {},
   "source": [
    "#### as a table\n",
    "\n",
    "Flat for convenient summarization and indexing/searching/mapping."
   ]
  },
  {
   "cell_type": "code",
   "execution_count": 6,
   "metadata": {
    "ExecuteTime": {
     "end_time": "2020-07-24T06:05:03.976737Z",
     "start_time": "2020-07-24T06:05:03.971513Z"
    }
   },
   "outputs": [
    {
     "data": {
      "text/plain": [
       "Category                           EARTH SCIENCE SERVICES\n",
       "Topic                     DATA ANALYSIS AND VISUALIZATION\n",
       "Term                               CALIBRATION/VALIDATION\n",
       "Variable_Level_1                              CALIBRATION\n",
       "Variable_Level_2                                      NaN\n",
       "Variable_Level_3                                      NaN\n",
       "Detailed_Variable                                     NaN\n",
       "UUID                 ecf29317-bd5e-447b-b911-f8bfb153c83b\n",
       "Name: 0, dtype: object"
      ]
     },
     "execution_count": 6,
     "metadata": {},
     "output_type": "execute_result"
    }
   ],
   "source": [
    "KEYWORDS['sciencekeywords'][0].iloc[0]"
   ]
  },
  {
   "cell_type": "markdown",
   "metadata": {
    "ExecuteTime": {
     "end_time": "2020-07-24T00:41:04.357874Z",
     "start_time": "2020-07-24T00:41:04.354948Z"
    }
   },
   "source": [
    "#### as a dictionary\n",
    "\n",
    "Nested for easier processing the keyword hierarchies. They have inconsistent depths across and within."
   ]
  },
  {
   "cell_type": "code",
   "execution_count": 7,
   "metadata": {
    "ExecuteTime": {
     "end_time": "2020-07-24T06:05:04.142948Z",
     "start_time": "2020-07-24T06:05:04.140206Z"
    }
   },
   "outputs": [
    {
     "data": {
      "text/plain": [
       "dict_keys(['termsOfUse', 'keywordVersion', 'schemeVersion', 'concepts'])"
      ]
     },
     "execution_count": 7,
     "metadata": {},
     "output_type": "execute_result"
    }
   ],
   "source": [
    "KEYWORDS['sciencekeywords'][1].keys()"
   ]
  },
  {
   "cell_type": "code",
   "execution_count": 8,
   "metadata": {
    "ExecuteTime": {
     "end_time": "2020-07-24T06:05:04.147662Z",
     "start_time": "2020-07-24T06:05:04.144492Z"
    }
   },
   "outputs": [
    {
     "data": {
      "text/plain": [
       "[{'id': 552245,\n",
       "  'uuid': '1eb0ea0a-312c-4d74-8d42-6f1ad758f999',\n",
       "  'prefLabel': 'Science Keywords',\n",
       "  'conceptScheme': 'sciencekeywords',\n",
       "  'isLeaf': 'false'},\n",
       " {'id': 552247,\n",
       "  'uuid': 'df160e31-ae45-41a4-9093-a80fe5303cea',\n",
       "  'prefLabel': 'ATMOSPHERIC WINDS',\n",
       "  'conceptScheme': 'sciencekeywords',\n",
       "  'isLeaf': 'false'},\n",
       " {'id': 552249,\n",
       "  'uuid': 'c47f6052-634e-40ef-a5ac-13f69f6f4c2a',\n",
       "  'prefLabel': 'ATMOSPHERE',\n",
       "  'conceptScheme': 'sciencekeywords',\n",
       "  'isLeaf': 'false'}]"
      ]
     },
     "execution_count": 8,
     "metadata": {},
     "output_type": "execute_result"
    }
   ],
   "source": [
    "KEYWORDS['sciencekeywords'][1]['concepts'][:3]"
   ]
  },
  {
   "cell_type": "markdown",
   "metadata": {},
   "source": [
    "## gcmd keyword summaries\n",
    "\n",
    "Summarize the keyword categories to their terminal depths. We want the unique options for each.\n",
    "\n",
    "(*Some are flat, like `MimeType`. Just display those.*)"
   ]
  },
  {
   "cell_type": "code",
   "execution_count": 9,
   "metadata": {
    "ExecuteTime": {
     "end_time": "2020-07-24T06:05:04.298732Z",
     "start_time": "2020-07-24T06:05:04.294693Z"
    }
   },
   "outputs": [
    {
     "data": {
      "text/plain": [
       "dict_keys(['locations', 'MimeType', 'chronounits', 'providers', 'instruments', 'horizontalresolutionrange', 'sciencekeywords', 'projects', 'rucontenttype', 'temporalresolutionrange', 'verticalresolutionrange', 'platforms'])"
      ]
     },
     "execution_count": 9,
     "metadata": {},
     "output_type": "execute_result"
    }
   ],
   "source": [
    "KEYWORDS.keys()"
   ]
  },
  {
   "cell_type": "code",
   "execution_count": 10,
   "metadata": {
    "ExecuteTime": {
     "end_time": "2020-07-24T06:05:04.309328Z",
     "start_time": "2020-07-24T06:05:04.300465Z"
    }
   },
   "outputs": [
    {
     "data": {
      "text/plain": [
       "dict_keys(['Category', 'Topic', 'Term', 'Variable_Level_1', 'Variable_Level_2', 'Variable_Level_3', 'Detailed_Variable', 'UUID'])"
      ]
     },
     "execution_count": 10,
     "metadata": {},
     "output_type": "execute_result"
    }
   ],
   "source": [
    "def _retrieve_keywords(uuid: str):\n",
    "    return loads(urlopen(f\"https://gcmd.earthdata.nasa.gov/kms/concept/{uuid}?format=json\").read())\n",
    "\n",
    "def _unique_keywords(category: str):\n",
    "    return (KEYWORDS[category][0].apply(lambda x: x.unique().tolist())).to_dict()\n",
    "\n",
    "test = _unique_keywords(\"sciencekeywords\")\n",
    "test.keys()"
   ]
  },
  {
   "cell_type": "code",
   "execution_count": 11,
   "metadata": {
    "ExecuteTime": {
     "end_time": "2020-07-24T06:05:04.313462Z",
     "start_time": "2020-07-24T06:05:04.311009Z"
    }
   },
   "outputs": [
    {
     "data": {
      "text/plain": [
       "['EARTH SCIENCE SERVICES', 'EARTH SCIENCE']"
      ]
     },
     "execution_count": 11,
     "metadata": {},
     "output_type": "execute_result"
    }
   ],
   "source": [
    "test['Category']"
   ]
  },
  {
   "cell_type": "markdown",
   "metadata": {},
   "source": [
    "### MimeType"
   ]
  },
  {
   "cell_type": "code",
   "execution_count": 12,
   "metadata": {
    "ExecuteTime": {
     "end_time": "2020-07-24T06:05:04.483510Z",
     "start_time": "2020-07-24T06:05:04.473970Z"
    }
   },
   "outputs": [
    {
     "data": {
      "text/html": [
       "<div>\n",
       "<style scoped>\n",
       "    .dataframe tbody tr th:only-of-type {\n",
       "        vertical-align: middle;\n",
       "    }\n",
       "\n",
       "    .dataframe tbody tr th {\n",
       "        vertical-align: top;\n",
       "    }\n",
       "\n",
       "    .dataframe thead th {\n",
       "        text-align: right;\n",
       "    }\n",
       "</style>\n",
       "<table border=\"1\" class=\"dataframe\">\n",
       "  <thead>\n",
       "    <tr style=\"text-align: right;\">\n",
       "      <th></th>\n",
       "      <th>MimeType</th>\n",
       "      <th>UUID</th>\n",
       "    </tr>\n",
       "  </thead>\n",
       "  <tbody>\n",
       "    <tr>\n",
       "      <th>0</th>\n",
       "      <td>application/gml+xml</td>\n",
       "      <td>40bdf6e5-780c-43e2-ab8e-e5dfae4bd779</td>\n",
       "    </tr>\n",
       "    <tr>\n",
       "      <th>1</th>\n",
       "      <td>application/gzip</td>\n",
       "      <td>a8ee535a-8bc8-46fd-8b97-917bd7ea7666</td>\n",
       "    </tr>\n",
       "    <tr>\n",
       "      <th>2</th>\n",
       "      <td>application/json</td>\n",
       "      <td>8542dd4a-a11b-475d-8d46-cad785a7f510</td>\n",
       "    </tr>\n",
       "    <tr>\n",
       "      <th>3</th>\n",
       "      <td>application/msword</td>\n",
       "      <td>c79a0e11-2774-4cf3-a194-45b9e58a93fd</td>\n",
       "    </tr>\n",
       "    <tr>\n",
       "      <th>4</th>\n",
       "      <td>application/octet-stream</td>\n",
       "      <td>b77e64ef-ce80-4dab-b552-c6062990a6e0</td>\n",
       "    </tr>\n",
       "    <tr>\n",
       "      <th>5</th>\n",
       "      <td>application/opensearchdescription+xml</td>\n",
       "      <td>07bcc60e-1551-44d9-b87e-7c260d230ecb</td>\n",
       "    </tr>\n",
       "    <tr>\n",
       "      <th>6</th>\n",
       "      <td>application/pdf</td>\n",
       "      <td>627269ae-ba93-492e-8c31-cc4de1d69810</td>\n",
       "    </tr>\n",
       "    <tr>\n",
       "      <th>7</th>\n",
       "      <td>application/vnd.google-earth.kml+xml</td>\n",
       "      <td>80045dcb-18ee-463a-8baf-ffcabed510ea</td>\n",
       "    </tr>\n",
       "    <tr>\n",
       "      <th>8</th>\n",
       "      <td>application/vnd.google-earth.kmz</td>\n",
       "      <td>f7328bf5-8ef2-4f95-a4e0-6fb16d122237</td>\n",
       "    </tr>\n",
       "    <tr>\n",
       "      <th>9</th>\n",
       "      <td>application/vnd.ms-excel</td>\n",
       "      <td>7c99ff72-5239-424d-a0bf-9712c33ea76d</td>\n",
       "    </tr>\n",
       "    <tr>\n",
       "      <th>10</th>\n",
       "      <td>application/x-bufr</td>\n",
       "      <td>e384b8a8-8cec-4230-9ebe-4db76bbef706</td>\n",
       "    </tr>\n",
       "    <tr>\n",
       "      <th>11</th>\n",
       "      <td>application/x-hdf5</td>\n",
       "      <td>4e80047b-c50b-4805-ac68-789dbc38803f</td>\n",
       "    </tr>\n",
       "    <tr>\n",
       "      <th>12</th>\n",
       "      <td>application/x-hdf</td>\n",
       "      <td>b0a3e733-4d1b-486f-b56c-c405a5e4367b</td>\n",
       "    </tr>\n",
       "    <tr>\n",
       "      <th>13</th>\n",
       "      <td>application/x-netcdf</td>\n",
       "      <td>2b192915-32a8-4b68-a720-8ca8a84f04ca</td>\n",
       "    </tr>\n",
       "    <tr>\n",
       "      <th>14</th>\n",
       "      <td>application/x-tar-gz</td>\n",
       "      <td>5e70beda-396e-4cc8-bdd5-70dfc8a1142e</td>\n",
       "    </tr>\n",
       "    <tr>\n",
       "      <th>15</th>\n",
       "      <td>application/x-vnd.iso.19139-2+xml</td>\n",
       "      <td>c1a8dbb7-312d-4481-998e-58d126b32080</td>\n",
       "    </tr>\n",
       "    <tr>\n",
       "      <th>16</th>\n",
       "      <td>application/xml</td>\n",
       "      <td>dd6c5cea-4100-4973-9ba9-659fdd7fd608</td>\n",
       "    </tr>\n",
       "    <tr>\n",
       "      <th>17</th>\n",
       "      <td>application/zip</td>\n",
       "      <td>4e5db77b-bc1d-4f7c-9f13-e3e54e0b2e3b</td>\n",
       "    </tr>\n",
       "    <tr>\n",
       "      <th>18</th>\n",
       "      <td>image/bmp</td>\n",
       "      <td>b7687b8f-7a24-4150-bd9d-28e0d53f7554</td>\n",
       "    </tr>\n",
       "    <tr>\n",
       "      <th>19</th>\n",
       "      <td>image/gif</td>\n",
       "      <td>ad61b259-8131-4e0e-aac8-a800a0a51ca6</td>\n",
       "    </tr>\n",
       "    <tr>\n",
       "      <th>20</th>\n",
       "      <td>image/jpeg</td>\n",
       "      <td>3f697f52-6a1c-4e2c-bd4b-13aaaf45f2e6</td>\n",
       "    </tr>\n",
       "    <tr>\n",
       "      <th>21</th>\n",
       "      <td>image/png</td>\n",
       "      <td>edb9e800-ec31-4d5c-848d-c548fd151db2</td>\n",
       "    </tr>\n",
       "    <tr>\n",
       "      <th>22</th>\n",
       "      <td>image/tiff</td>\n",
       "      <td>3e048f9e-8f93-4f0c-9f0b-20bafb909c68</td>\n",
       "    </tr>\n",
       "    <tr>\n",
       "      <th>23</th>\n",
       "      <td>image/vnd.collada+xml</td>\n",
       "      <td>d3ef6fe7-b6cd-45b4-9a27-d42fa3289116</td>\n",
       "    </tr>\n",
       "    <tr>\n",
       "      <th>24</th>\n",
       "      <td>text/css</td>\n",
       "      <td>3195dfce-51db-4b40-aadb-808b43573743</td>\n",
       "    </tr>\n",
       "    <tr>\n",
       "      <th>25</th>\n",
       "      <td>text/csv</td>\n",
       "      <td>2065aabb-9beb-4c84-8ad7-0e16cfed17cf</td>\n",
       "    </tr>\n",
       "    <tr>\n",
       "      <th>26</th>\n",
       "      <td>text/html</td>\n",
       "      <td>415a10b5-7286-4195-a88e-00c7b995b7d0</td>\n",
       "    </tr>\n",
       "    <tr>\n",
       "      <th>27</th>\n",
       "      <td>text/javascript</td>\n",
       "      <td>40cb0bdd-67f4-43c8-aa57-2bdc260e6950</td>\n",
       "    </tr>\n",
       "    <tr>\n",
       "      <th>28</th>\n",
       "      <td>text/markdown</td>\n",
       "      <td>b403039f-a107-4a84-88a1-29e4d1b30b0b</td>\n",
       "    </tr>\n",
       "    <tr>\n",
       "      <th>29</th>\n",
       "      <td>text/plain</td>\n",
       "      <td>fea4e0a7-d794-481d-9915-52f1be226714</td>\n",
       "    </tr>\n",
       "    <tr>\n",
       "      <th>30</th>\n",
       "      <td>text/xml</td>\n",
       "      <td>091b6afc-ab75-4790-8e71-3b32ae8bd0a4</td>\n",
       "    </tr>\n",
       "  </tbody>\n",
       "</table>\n",
       "</div>"
      ],
      "text/plain": [
       "                                 MimeType  \\\n",
       "0                     application/gml+xml   \n",
       "1                        application/gzip   \n",
       "2                        application/json   \n",
       "3                      application/msword   \n",
       "4                application/octet-stream   \n",
       "5   application/opensearchdescription+xml   \n",
       "6                         application/pdf   \n",
       "7    application/vnd.google-earth.kml+xml   \n",
       "8        application/vnd.google-earth.kmz   \n",
       "9                application/vnd.ms-excel   \n",
       "10                     application/x-bufr   \n",
       "11                     application/x-hdf5   \n",
       "12                      application/x-hdf   \n",
       "13                   application/x-netcdf   \n",
       "14                   application/x-tar-gz   \n",
       "15      application/x-vnd.iso.19139-2+xml   \n",
       "16                        application/xml   \n",
       "17                        application/zip   \n",
       "18                              image/bmp   \n",
       "19                              image/gif   \n",
       "20                             image/jpeg   \n",
       "21                              image/png   \n",
       "22                             image/tiff   \n",
       "23                  image/vnd.collada+xml   \n",
       "24                               text/css   \n",
       "25                               text/csv   \n",
       "26                              text/html   \n",
       "27                        text/javascript   \n",
       "28                          text/markdown   \n",
       "29                             text/plain   \n",
       "30                               text/xml   \n",
       "\n",
       "                                    UUID  \n",
       "0   40bdf6e5-780c-43e2-ab8e-e5dfae4bd779  \n",
       "1   a8ee535a-8bc8-46fd-8b97-917bd7ea7666  \n",
       "2   8542dd4a-a11b-475d-8d46-cad785a7f510  \n",
       "3   c79a0e11-2774-4cf3-a194-45b9e58a93fd  \n",
       "4   b77e64ef-ce80-4dab-b552-c6062990a6e0  \n",
       "5   07bcc60e-1551-44d9-b87e-7c260d230ecb  \n",
       "6   627269ae-ba93-492e-8c31-cc4de1d69810  \n",
       "7   80045dcb-18ee-463a-8baf-ffcabed510ea  \n",
       "8   f7328bf5-8ef2-4f95-a4e0-6fb16d122237  \n",
       "9   7c99ff72-5239-424d-a0bf-9712c33ea76d  \n",
       "10  e384b8a8-8cec-4230-9ebe-4db76bbef706  \n",
       "11  4e80047b-c50b-4805-ac68-789dbc38803f  \n",
       "12  b0a3e733-4d1b-486f-b56c-c405a5e4367b  \n",
       "13  2b192915-32a8-4b68-a720-8ca8a84f04ca  \n",
       "14  5e70beda-396e-4cc8-bdd5-70dfc8a1142e  \n",
       "15  c1a8dbb7-312d-4481-998e-58d126b32080  \n",
       "16  dd6c5cea-4100-4973-9ba9-659fdd7fd608  \n",
       "17  4e5db77b-bc1d-4f7c-9f13-e3e54e0b2e3b  \n",
       "18  b7687b8f-7a24-4150-bd9d-28e0d53f7554  \n",
       "19  ad61b259-8131-4e0e-aac8-a800a0a51ca6  \n",
       "20  3f697f52-6a1c-4e2c-bd4b-13aaaf45f2e6  \n",
       "21  edb9e800-ec31-4d5c-848d-c548fd151db2  \n",
       "22  3e048f9e-8f93-4f0c-9f0b-20bafb909c68  \n",
       "23  d3ef6fe7-b6cd-45b4-9a27-d42fa3289116  \n",
       "24  3195dfce-51db-4b40-aadb-808b43573743  \n",
       "25  2065aabb-9beb-4c84-8ad7-0e16cfed17cf  \n",
       "26  415a10b5-7286-4195-a88e-00c7b995b7d0  \n",
       "27  40cb0bdd-67f4-43c8-aa57-2bdc260e6950  \n",
       "28  b403039f-a107-4a84-88a1-29e4d1b30b0b  \n",
       "29  fea4e0a7-d794-481d-9915-52f1be226714  \n",
       "30  091b6afc-ab75-4790-8e71-3b32ae8bd0a4  "
      ]
     },
     "execution_count": 12,
     "metadata": {},
     "output_type": "execute_result"
    }
   ],
   "source": [
    "KEYWORDS['MimeType'][0]"
   ]
  },
  {
   "cell_type": "markdown",
   "metadata": {},
   "source": [
    "### chronounits"
   ]
  },
  {
   "cell_type": "code",
   "execution_count": 13,
   "metadata": {
    "ExecuteTime": {
     "end_time": "2020-07-24T06:05:04.654882Z",
     "start_time": "2020-07-24T06:05:04.651888Z"
    }
   },
   "outputs": [
    {
     "data": {
      "text/plain": [
       "Index(['Eon', 'Era', 'Period', 'Epoch', 'Age', 'Sub-Age', 'UUID'], dtype='object')"
      ]
     },
     "execution_count": 13,
     "metadata": {},
     "output_type": "execute_result"
    }
   ],
   "source": [
    "KEYWORDS['chronounits'][0].columns"
   ]
  },
  {
   "cell_type": "code",
   "execution_count": 14,
   "metadata": {
    "ExecuteTime": {
     "end_time": "2020-07-24T06:05:04.677890Z",
     "start_time": "2020-07-24T06:05:04.656328Z"
    }
   },
   "outputs": [
    {
     "data": {
      "text/html": [
       "<div>\n",
       "<style scoped>\n",
       "    .dataframe tbody tr th:only-of-type {\n",
       "        vertical-align: middle;\n",
       "    }\n",
       "\n",
       "    .dataframe tbody tr th {\n",
       "        vertical-align: top;\n",
       "    }\n",
       "\n",
       "    .dataframe thead th {\n",
       "        text-align: right;\n",
       "    }\n",
       "</style>\n",
       "<table border=\"1\" class=\"dataframe\">\n",
       "  <thead>\n",
       "    <tr style=\"text-align: right;\">\n",
       "      <th></th>\n",
       "      <th>count</th>\n",
       "      <th>unique</th>\n",
       "      <th>top</th>\n",
       "      <th>freq</th>\n",
       "    </tr>\n",
       "  </thead>\n",
       "  <tbody>\n",
       "    <tr>\n",
       "      <th>Eon</th>\n",
       "      <td>183</td>\n",
       "      <td>5</td>\n",
       "      <td>PHANEROZOIC</td>\n",
       "      <td>158</td>\n",
       "    </tr>\n",
       "    <tr>\n",
       "      <th>Era</th>\n",
       "      <td>178</td>\n",
       "      <td>11</td>\n",
       "      <td>PALEOZOIC</td>\n",
       "      <td>80</td>\n",
       "    </tr>\n",
       "    <tr>\n",
       "      <th>Period</th>\n",
       "      <td>167</td>\n",
       "      <td>23</td>\n",
       "      <td>CARBONIFEROUS</td>\n",
       "      <td>17</td>\n",
       "    </tr>\n",
       "    <tr>\n",
       "      <th>Epoch</th>\n",
       "      <td>144</td>\n",
       "      <td>24</td>\n",
       "      <td>EARLY</td>\n",
       "      <td>22</td>\n",
       "    </tr>\n",
       "    <tr>\n",
       "      <th>Age</th>\n",
       "      <td>109</td>\n",
       "      <td>96</td>\n",
       "      <td>LATE</td>\n",
       "      <td>6</td>\n",
       "    </tr>\n",
       "    <tr>\n",
       "      <th>Sub-Age</th>\n",
       "      <td>8</td>\n",
       "      <td>8</td>\n",
       "      <td>BASHKIRIAN</td>\n",
       "      <td>1</td>\n",
       "    </tr>\n",
       "    <tr>\n",
       "      <th>UUID</th>\n",
       "      <td>183</td>\n",
       "      <td>183</td>\n",
       "      <td>8dff752e-939d-4b16-a735-bb4af8dbd785</td>\n",
       "      <td>1</td>\n",
       "    </tr>\n",
       "  </tbody>\n",
       "</table>\n",
       "</div>"
      ],
      "text/plain": [
       "        count unique                                   top freq\n",
       "Eon       183      5                           PHANEROZOIC  158\n",
       "Era       178     11                             PALEOZOIC   80\n",
       "Period    167     23                         CARBONIFEROUS   17\n",
       "Epoch     144     24                                 EARLY   22\n",
       "Age       109     96                                  LATE    6\n",
       "Sub-Age     8      8                            BASHKIRIAN    1\n",
       "UUID      183    183  8dff752e-939d-4b16-a735-bb4af8dbd785    1"
      ]
     },
     "execution_count": 14,
     "metadata": {},
     "output_type": "execute_result"
    }
   ],
   "source": [
    "KEYWORDS['chronounits'][0].describe().T"
   ]
  },
  {
   "cell_type": "markdown",
   "metadata": {},
   "source": [
    "Getting unique options down to the `Period` is satisfactory for this demo."
   ]
  },
  {
   "cell_type": "code",
   "execution_count": 15,
   "metadata": {
    "ExecuteTime": {
     "end_time": "2020-07-24T06:05:04.844817Z",
     "start_time": "2020-07-24T06:05:04.840647Z"
    },
    "scrolled": true
   },
   "outputs": [
    {
     "name": "stdout",
     "output_type": "stream",
     "text": [
      "{\n",
      "  \"Eon\": [\n",
      "    \"ARCHAEAN\",\n",
      "    \"HADEAN\",\n",
      "    \"NOT APPLICABLE\",\n",
      "    \"PHANEROZOIC\",\n",
      "    \"PROTEROZOIC\"\n",
      "  ],\n",
      "  \"Era\": [\n",
      "    \"EOARCHEAN\",\n",
      "    \"MESOARCHEAN\",\n",
      "    \"NEOARCHEAN\",\n",
      "    \"PALEOARCHEAN\",\n",
      "    NaN,\n",
      "    \"NOT APPLICABLE\",\n",
      "    \"CENOZOIC\",\n",
      "    \"MESOZOIC\",\n",
      "    \"PALEOZOIC\",\n",
      "    \"MESOPROTEROZOIC\",\n",
      "    \"NEOPROTEROZOIC\",\n",
      "    \"PALEOPROTEROZOIC\"\n",
      "  ],\n",
      "  \"Period\": [\n",
      "    NaN,\n",
      "    \"NOT APPLICABLE\",\n",
      "    \"NEOGENE\",\n",
      "    \"PALEOGENE\",\n",
      "    \"QUATERNARY\",\n",
      "    \"CRETACEOUS\",\n",
      "    \"JURASSIC\",\n",
      "    \"TRIASSIC\",\n",
      "    \"CAMBRIAN\",\n",
      "    \"CARBONIFEROUS\",\n",
      "    \"DEVONIAN\",\n",
      "    \"ORDOVICIAN\",\n",
      "    \"PERMIAN\",\n",
      "    \"SILURIAN\",\n",
      "    \"CALYMMIAN\",\n",
      "    \"ECTASIAN\",\n",
      "    \"STENIAN\",\n",
      "    \"CRYOGENIAN\",\n",
      "    \"EDIACARAN\",\n",
      "    \"TONIAN\",\n",
      "    \"OROSIRIAN\",\n",
      "    \"RHYACIAN\",\n",
      "    \"SIDERIAN\",\n",
      "    \"STATHERIAN\"\n",
      "  ]\n",
      "}\n"
     ]
    }
   ],
   "source": [
    "chronounits = _unique_keywords(\"chronounits\")\n",
    "print(dumps({d: chronounits[d] for d in ['Eon', 'Era', 'Period']}, indent=2))"
   ]
  },
  {
   "cell_type": "markdown",
   "metadata": {},
   "source": [
    "### horizontalresolutionrange"
   ]
  },
  {
   "cell_type": "code",
   "execution_count": 16,
   "metadata": {
    "ExecuteTime": {
     "end_time": "2020-07-24T06:05:05.040752Z",
     "start_time": "2020-07-24T06:05:05.037663Z"
    }
   },
   "outputs": [
    {
     "data": {
      "text/plain": [
       "Index(['Horizontal_Resolution_Range', 'UUID'], dtype='object')"
      ]
     },
     "execution_count": 16,
     "metadata": {},
     "output_type": "execute_result"
    }
   ],
   "source": [
    "KEYWORDS['horizontalresolutionrange'][0].columns"
   ]
  },
  {
   "cell_type": "code",
   "execution_count": 17,
   "metadata": {
    "ExecuteTime": {
     "end_time": "2020-07-24T06:05:05.049373Z",
     "start_time": "2020-07-24T06:05:05.042629Z"
    }
   },
   "outputs": [
    {
     "data": {
      "text/html": [
       "<div>\n",
       "<style scoped>\n",
       "    .dataframe tbody tr th:only-of-type {\n",
       "        vertical-align: middle;\n",
       "    }\n",
       "\n",
       "    .dataframe tbody tr th {\n",
       "        vertical-align: top;\n",
       "    }\n",
       "\n",
       "    .dataframe thead th {\n",
       "        text-align: right;\n",
       "    }\n",
       "</style>\n",
       "<table border=\"1\" class=\"dataframe\">\n",
       "  <thead>\n",
       "    <tr style=\"text-align: right;\">\n",
       "      <th></th>\n",
       "      <th>Horizontal_Resolution_Range</th>\n",
       "      <th>UUID</th>\n",
       "    </tr>\n",
       "  </thead>\n",
       "  <tbody>\n",
       "    <tr>\n",
       "      <th>0</th>\n",
       "      <td>1 km - &lt; 10 km or approximately .01 degree - &lt;...</td>\n",
       "      <td>6dd8224f-944e-4798-ac48-44c23a567eeb</td>\n",
       "    </tr>\n",
       "    <tr>\n",
       "      <th>1</th>\n",
       "      <td>1 meter - &lt; 30 meters</td>\n",
       "      <td>abf43d91-a65d-4b3b-a6dd-593e211b2c7b</td>\n",
       "    </tr>\n",
       "    <tr>\n",
       "      <th>2</th>\n",
       "      <td>10 km - &lt; 50 km or approximately .09 degree - ...</td>\n",
       "      <td>3b36beea-9637-4213-bdbe-42e878ca14df</td>\n",
       "    </tr>\n",
       "    <tr>\n",
       "      <th>3</th>\n",
       "      <td>100 km - &lt; 250 km or approximately 1 degree - ...</td>\n",
       "      <td>2207b375-113b-4499-a5a6-0ae6edc2aae8</td>\n",
       "    </tr>\n",
       "    <tr>\n",
       "      <th>4</th>\n",
       "      <td>100 meters - &lt; 250 meters</td>\n",
       "      <td>8d197170-3639-4850-b012-0cae4a288e2b</td>\n",
       "    </tr>\n",
       "    <tr>\n",
       "      <th>5</th>\n",
       "      <td>250 km - &lt;  500 km  or approximately  2.5 degr...</td>\n",
       "      <td>8d520e8b-e1c6-4c18-bf8a-7a41b006f66f</td>\n",
       "    </tr>\n",
       "    <tr>\n",
       "      <th>6</th>\n",
       "      <td>250 meters - &lt; 500 meters</td>\n",
       "      <td>e5c4876e-47b7-4d53-90a2-081a6b150140</td>\n",
       "    </tr>\n",
       "    <tr>\n",
       "      <th>7</th>\n",
       "      <td>30 meters - &lt; 100 meters</td>\n",
       "      <td>437daa1f-f584-4afc-9104-b245f3a3d26d</td>\n",
       "    </tr>\n",
       "    <tr>\n",
       "      <th>8</th>\n",
       "      <td>50 km  - &lt; 100 km or approximately .5 degree -...</td>\n",
       "      <td>35a7a6f2-69fe-4ba7-a2b5-91f83f52afb3</td>\n",
       "    </tr>\n",
       "    <tr>\n",
       "      <th>9</th>\n",
       "      <td>500 km - &lt; 1000 km or approximately 5 degrees ...</td>\n",
       "      <td>e2d588c7-76a5-4655-bfaf-bf66874b61c4</td>\n",
       "    </tr>\n",
       "    <tr>\n",
       "      <th>10</th>\n",
       "      <td>500 meters - &lt; 1 km</td>\n",
       "      <td>9e5ebee1-3ba2-4522-8d90-7ddf47987581</td>\n",
       "    </tr>\n",
       "    <tr>\n",
       "      <th>11</th>\n",
       "      <td>&lt; 1 meter</td>\n",
       "      <td>08e4b31c-0be3-49cd-9374-caac345e7402</td>\n",
       "    </tr>\n",
       "    <tr>\n",
       "      <th>12</th>\n",
       "      <td>&gt; 1000 km or &gt; 10 degrees</td>\n",
       "      <td>c19001e4-dfbf-491b-b6d5-c4d0cee8f2fe</td>\n",
       "    </tr>\n",
       "    <tr>\n",
       "      <th>13</th>\n",
       "      <td>Point Resolution</td>\n",
       "      <td>75c9d806-9e29-40f5-b479-4c63c90f77a9</td>\n",
       "    </tr>\n",
       "  </tbody>\n",
       "</table>\n",
       "</div>"
      ],
      "text/plain": [
       "                          Horizontal_Resolution_Range  \\\n",
       "0   1 km - < 10 km or approximately .01 degree - <...   \n",
       "1                               1 meter - < 30 meters   \n",
       "2   10 km - < 50 km or approximately .09 degree - ...   \n",
       "3   100 km - < 250 km or approximately 1 degree - ...   \n",
       "4                           100 meters - < 250 meters   \n",
       "5   250 km - <  500 km  or approximately  2.5 degr...   \n",
       "6                           250 meters - < 500 meters   \n",
       "7                            30 meters - < 100 meters   \n",
       "8   50 km  - < 100 km or approximately .5 degree -...   \n",
       "9   500 km - < 1000 km or approximately 5 degrees ...   \n",
       "10                                500 meters - < 1 km   \n",
       "11                                          < 1 meter   \n",
       "12                          > 1000 km or > 10 degrees   \n",
       "13                                   Point Resolution   \n",
       "\n",
       "                                    UUID  \n",
       "0   6dd8224f-944e-4798-ac48-44c23a567eeb  \n",
       "1   abf43d91-a65d-4b3b-a6dd-593e211b2c7b  \n",
       "2   3b36beea-9637-4213-bdbe-42e878ca14df  \n",
       "3   2207b375-113b-4499-a5a6-0ae6edc2aae8  \n",
       "4   8d197170-3639-4850-b012-0cae4a288e2b  \n",
       "5   8d520e8b-e1c6-4c18-bf8a-7a41b006f66f  \n",
       "6   e5c4876e-47b7-4d53-90a2-081a6b150140  \n",
       "7   437daa1f-f584-4afc-9104-b245f3a3d26d  \n",
       "8   35a7a6f2-69fe-4ba7-a2b5-91f83f52afb3  \n",
       "9   e2d588c7-76a5-4655-bfaf-bf66874b61c4  \n",
       "10  9e5ebee1-3ba2-4522-8d90-7ddf47987581  \n",
       "11  08e4b31c-0be3-49cd-9374-caac345e7402  \n",
       "12  c19001e4-dfbf-491b-b6d5-c4d0cee8f2fe  \n",
       "13  75c9d806-9e29-40f5-b479-4c63c90f77a9  "
      ]
     },
     "execution_count": 17,
     "metadata": {},
     "output_type": "execute_result"
    }
   ],
   "source": [
    "KEYWORDS['horizontalresolutionrange'][0]"
   ]
  },
  {
   "cell_type": "markdown",
   "metadata": {},
   "source": [
    "### instruments"
   ]
  },
  {
   "cell_type": "code",
   "execution_count": 18,
   "metadata": {
    "ExecuteTime": {
     "end_time": "2020-07-24T06:05:05.834286Z",
     "start_time": "2020-07-24T06:05:05.822856Z"
    }
   },
   "outputs": [
    {
     "data": {
      "text/plain": [
       "Index(['Category', 'Class', 'Type', 'Subtype', 'Short_Name', 'Long_Name',\n",
       "       'UUID'],\n",
       "      dtype='object')"
      ]
     },
     "execution_count": 18,
     "metadata": {},
     "output_type": "execute_result"
    }
   ],
   "source": [
    "KEYWORDS['instruments'][0].columns"
   ]
  },
  {
   "cell_type": "code",
   "execution_count": 19,
   "metadata": {
    "ExecuteTime": {
     "end_time": "2020-07-24T06:05:05.265592Z",
     "start_time": "2020-07-24T06:05:05.243255Z"
    }
   },
   "outputs": [
    {
     "data": {
      "text/html": [
       "<div>\n",
       "<style scoped>\n",
       "    .dataframe tbody tr th:only-of-type {\n",
       "        vertical-align: middle;\n",
       "    }\n",
       "\n",
       "    .dataframe tbody tr th {\n",
       "        vertical-align: top;\n",
       "    }\n",
       "\n",
       "    .dataframe thead th {\n",
       "        text-align: right;\n",
       "    }\n",
       "</style>\n",
       "<table border=\"1\" class=\"dataframe\">\n",
       "  <thead>\n",
       "    <tr style=\"text-align: right;\">\n",
       "      <th></th>\n",
       "      <th>count</th>\n",
       "      <th>unique</th>\n",
       "      <th>top</th>\n",
       "      <th>freq</th>\n",
       "    </tr>\n",
       "  </thead>\n",
       "  <tbody>\n",
       "    <tr>\n",
       "      <th>Category</th>\n",
       "      <td>1778</td>\n",
       "      <td>4</td>\n",
       "      <td>Earth Remote Sensing Instruments</td>\n",
       "      <td>983</td>\n",
       "    </tr>\n",
       "    <tr>\n",
       "      <th>Class</th>\n",
       "      <td>1772</td>\n",
       "      <td>26</td>\n",
       "      <td>Passive Remote Sensing</td>\n",
       "      <td>776</td>\n",
       "    </tr>\n",
       "    <tr>\n",
       "      <th>Type</th>\n",
       "      <td>1117</td>\n",
       "      <td>31</td>\n",
       "      <td>Spectrometers/Radiometers</td>\n",
       "      <td>407</td>\n",
       "    </tr>\n",
       "    <tr>\n",
       "      <th>Subtype</th>\n",
       "      <td>762</td>\n",
       "      <td>42</td>\n",
       "      <td>Imaging Spectrometers/Radiometers</td>\n",
       "      <td>186</td>\n",
       "    </tr>\n",
       "    <tr>\n",
       "      <th>Short_Name</th>\n",
       "      <td>1664</td>\n",
       "      <td>1643</td>\n",
       "      <td>GNSS RECEIVER</td>\n",
       "      <td>7</td>\n",
       "    </tr>\n",
       "    <tr>\n",
       "      <th>Long_Name</th>\n",
       "      <td>1214</td>\n",
       "      <td>1199</td>\n",
       "      <td>Wide Field Imager</td>\n",
       "      <td>2</td>\n",
       "    </tr>\n",
       "    <tr>\n",
       "      <th>UUID</th>\n",
       "      <td>1778</td>\n",
       "      <td>1778</td>\n",
       "      <td>2b2d61c1-30be-429d-8bc3-9ca8b81b4400</td>\n",
       "      <td>1</td>\n",
       "    </tr>\n",
       "  </tbody>\n",
       "</table>\n",
       "</div>"
      ],
      "text/plain": [
       "           count unique                                   top freq\n",
       "Category    1778      4      Earth Remote Sensing Instruments  983\n",
       "Class       1772     26                Passive Remote Sensing  776\n",
       "Type        1117     31             Spectrometers/Radiometers  407\n",
       "Subtype      762     42     Imaging Spectrometers/Radiometers  186\n",
       "Short_Name  1664   1643                         GNSS RECEIVER    7\n",
       "Long_Name   1214   1199                     Wide Field Imager    2\n",
       "UUID        1778   1778  2b2d61c1-30be-429d-8bc3-9ca8b81b4400    1"
      ]
     },
     "execution_count": 19,
     "metadata": {},
     "output_type": "execute_result"
    }
   ],
   "source": [
    "KEYWORDS['instruments'][0].describe().T"
   ]
  },
  {
   "cell_type": "code",
   "execution_count": 20,
   "metadata": {
    "ExecuteTime": {
     "end_time": "2020-07-24T06:05:05.271981Z",
     "start_time": "2020-07-24T06:05:05.267331Z"
    },
    "scrolled": true
   },
   "outputs": [
    {
     "data": {
      "text/plain": [
       "dict_keys(['Category', 'Class', 'Type', 'Subtype', 'Short_Name', 'Long_Name', 'UUID'])"
      ]
     },
     "execution_count": 20,
     "metadata": {},
     "output_type": "execute_result"
    }
   ],
   "source": [
    "instruments = _unique_keywords(\"instruments\")\n",
    "instruments.keys()"
   ]
  },
  {
   "cell_type": "markdown",
   "metadata": {},
   "source": [
    "Should be satisfactory to summarize options to depth four (`\"SubType\"`)."
   ]
  },
  {
   "cell_type": "code",
   "execution_count": 21,
   "metadata": {
    "ExecuteTime": {
     "end_time": "2020-07-24T06:05:05.428378Z",
     "start_time": "2020-07-24T06:05:05.425517Z"
    },
    "scrolled": false
   },
   "outputs": [
    {
     "name": "stdout",
     "output_type": "stream",
     "text": [
      "{\n",
      "  \"Category\": [\n",
      "    \"Earth Remote Sensing Instruments\",\n",
      "    \"In Situ/Laboratory Instruments\",\n",
      "    \"NOT APPLICABLE\",\n",
      "    \"Solar/Space Observing Instruments\"\n",
      "  ],\n",
      "  \"Class\": [\n",
      "    \"Active Remote Sensing\",\n",
      "    \"Passive Remote Sensing\",\n",
      "    NaN,\n",
      "    \"Chemical Meters/Analyzers\",\n",
      "    \"Conductivity Sensors\",\n",
      "    \"Corers\",\n",
      "    \"Current/Wind Meters\",\n",
      "    \"Data Analysis\",\n",
      "    \"Electrical Meters\",\n",
      "    \"Gauges\",\n",
      "    \"Magnetic/Motion Sensors\",\n",
      "    \"Photon/Optical Detectors\",\n",
      "    \"Pressure/Height Meters\",\n",
      "    \"Probes\",\n",
      "    \"Profilers/Sounders\",\n",
      "    \"Radiation Sensors\",\n",
      "    \"Recorders/Loggers\",\n",
      "    \"Samplers\",\n",
      "    \"Spectrometers/Radiometers\",\n",
      "    \"Temperature/Humidity Sensors\",\n",
      "    \"NOT APPLICABLE\",\n",
      "    \"Magnetic Field/Electric Field Instruments\",\n",
      "    \"Particle Detectors\",\n",
      "    \"Radio Wave Detectors\",\n",
      "    \"Ultraviolet Instruments\",\n",
      "    \"Visible/Infrared Instruments\",\n",
      "    \"X-Ray/Gamma Ray Detectors\"\n",
      "  ],\n",
      "  \"Type\": [\n",
      "    \"Altimeters\",\n",
      "    \"Imaging Radars\",\n",
      "    \"Positioning/Navigation\",\n",
      "    \"Profilers/Sounders\",\n",
      "    \"Scatterometers\",\n",
      "    \"Spectrometers/Radiometers\",\n",
      "    NaN,\n",
      "    \"Magnetic Field/Electric Field Instruments\",\n",
      "    \"Magnetic/Motion Sensors\",\n",
      "    \"Photon/Optical Detectors\",\n",
      "    \"Pyrometers\",\n",
      "    \"Thermal/Radiation Detectors\",\n",
      "    \"Environmental Modeling\",\n",
      "    \"Accelerometers\",\n",
      "    \"Gravimeters\",\n",
      "    \"Seismometers\",\n",
      "    \"Cameras\",\n",
      "    \"Acoustic Sounders\",\n",
      "    \"Ceptometers\",\n",
      "    \"Bottles/Flasks/Jars\",\n",
      "    \"Grabbers/Traps/Collectors\",\n",
      "    \"Trawls/Nets\",\n",
      "    \"Hyperspectral Spectrometers/Radiometers\",\n",
      "    \"Hydrometers\",\n",
      "    \"Hydrothermographs\",\n",
      "    \"Hygrometers\",\n",
      "    \"Hypsometers\",\n",
      "    \"Thermistors\",\n",
      "    \"Thermocouples\",\n",
      "    \"Thermometers\",\n",
      "    \"Charged Coupled Devices\",\n",
      "    \"Telescopes\"\n",
      "  ],\n",
      "  \"Subtype\": [\n",
      "    \"Lidar/Laser Altimeters\",\n",
      "    \"Radar Altimeters\",\n",
      "    NaN,\n",
      "    \"Laser Ranging\",\n",
      "    \"Acoustic Sounders\",\n",
      "    \"Lidar/Laser Sounders\",\n",
      "    \"Radar Sounders\",\n",
      "    \"Radio Sounders\",\n",
      "    \"Lidar/Laser Spectrometers\",\n",
      "    \"Radar Spectrometers\",\n",
      "    \"Pressure Altimeters\",\n",
      "    \"Composition Analyzer\",\n",
      "    \"Gun Detector\",\n",
      "    \"MAGNETOMETERS\",\n",
      "    \"Particle Detectors\",\n",
      "    \"Probes\",\n",
      "    \"Spectrometers\",\n",
      "    \"Accelerometers\",\n",
      "    \"Gravimeters\",\n",
      "    \"Cameras\",\n",
      "    \"JRE (CARMEN-3 + LPT)\",\n",
      "    \"NEPHELOMETERS\",\n",
      "    \"Passive Remote Sensing\",\n",
      "    \"Photometers\",\n",
      "    \"Beidou\",\n",
      "    \"GLONASS\",\n",
      "    \"GPS\",\n",
      "    \"Galileo\",\n",
      "    \"IRNSS\",\n",
      "    \"QZSS\",\n",
      "    \"Radar\",\n",
      "    \"Radio\",\n",
      "    \"SBAS\",\n",
      "    \"GOES I-M SOUNDER\",\n",
      "    \"GOES N-P SOUNDER\",\n",
      "    \"Interferometers\",\n",
      "    \"Infrared Pyrometers\",\n",
      "    \"Hyperspectral Spectrometers/Radiometers\",\n",
      "    \"Imaging Spectrometers/Radiometers\",\n",
      "    \"Radiometers\",\n",
      "    \"Spectroradiometers\",\n",
      "    \"PYRGEOMETERS\",\n",
      "    \"Soil Characteristics\"\n",
      "  ]\n",
      "}\n"
     ]
    }
   ],
   "source": [
    "print(dumps({d: instruments[d] for d in ['Category', 'Class', 'Type', 'Subtype']}, indent=2))"
   ]
  },
  {
   "cell_type": "markdown",
   "metadata": {},
   "source": [
    "### locations\n",
    "\n",
    "The CSV on the dumps web page is invalid. Make alternative index for `locations` here:"
   ]
  },
  {
   "cell_type": "code",
   "execution_count": 22,
   "metadata": {
    "ExecuteTime": {
     "end_time": "2020-07-24T06:05:05.834286Z",
     "start_time": "2020-07-24T06:05:05.822856Z"
    }
   },
   "outputs": [
    {
     "data": {
      "text/html": [
       "<div>\n",
       "<style scoped>\n",
       "    .dataframe tbody tr th:only-of-type {\n",
       "        vertical-align: middle;\n",
       "    }\n",
       "\n",
       "    .dataframe tbody tr th {\n",
       "        vertical-align: top;\n",
       "    }\n",
       "\n",
       "    .dataframe thead th {\n",
       "        text-align: right;\n",
       "    }\n",
       "</style>\n",
       "<table border=\"1\" class=\"dataframe\">\n",
       "  <thead>\n",
       "    <tr style=\"text-align: right;\">\n",
       "      <th></th>\n",
       "      <th>id</th>\n",
       "      <th>uuid</th>\n",
       "      <th>prefLabel</th>\n",
       "      <th>conceptScheme</th>\n",
       "      <th>isLeaf</th>\n",
       "    </tr>\n",
       "  </thead>\n",
       "  <tbody>\n",
       "    <tr>\n",
       "      <th>0</th>\n",
       "      <td>532709</td>\n",
       "      <td>0086ca79-d40d-4119-97d0-f5911df75a37</td>\n",
       "      <td>PALMYRA ATOLL</td>\n",
       "      <td>locations</td>\n",
       "      <td>true</td>\n",
       "    </tr>\n",
       "    <tr>\n",
       "      <th>1</th>\n",
       "      <td>532711</td>\n",
       "      <td>009ebc80-5561-40d1-98d9-13cbc5bd1591</td>\n",
       "      <td>NEWFOUNDLAND AND LABRADOR</td>\n",
       "      <td>locations</td>\n",
       "      <td>true</td>\n",
       "    </tr>\n",
       "    <tr>\n",
       "      <th>2</th>\n",
       "      <td>532713</td>\n",
       "      <td>00fdb6a0-3063-45d3-9930-71b5a9a3206c</td>\n",
       "      <td>TURKS AND CAICOS ISLANDS</td>\n",
       "      <td>locations</td>\n",
       "      <td>true</td>\n",
       "    </tr>\n",
       "    <tr>\n",
       "      <th>3</th>\n",
       "      <td>532715</td>\n",
       "      <td>00fdc4bb-8f93-4170-bca1-e51315b46304</td>\n",
       "      <td>KIRIBATI</td>\n",
       "      <td>locations</td>\n",
       "      <td>true</td>\n",
       "    </tr>\n",
       "    <tr>\n",
       "      <th>4</th>\n",
       "      <td>532717</td>\n",
       "      <td>017ac312-b650-4800-992f-5167708b4d31</td>\n",
       "      <td>HAWAII</td>\n",
       "      <td>locations</td>\n",
       "      <td>true</td>\n",
       "    </tr>\n",
       "    <tr>\n",
       "      <th>...</th>\n",
       "      <td>...</td>\n",
       "      <td>...</td>\n",
       "      <td>...</td>\n",
       "      <td>...</td>\n",
       "      <td>...</td>\n",
       "    </tr>\n",
       "    <tr>\n",
       "      <th>538</th>\n",
       "      <td>533785</td>\n",
       "      <td>feff6e5e-27be-4404-af9c-c80b56d48ad4</td>\n",
       "      <td>CYPRUS</td>\n",
       "      <td>locations</td>\n",
       "      <td>true</td>\n",
       "    </tr>\n",
       "    <tr>\n",
       "      <th>539</th>\n",
       "      <td>533787</td>\n",
       "      <td>ff03e9fc-9882-4a5e-ad0b-830d8f1186cb</td>\n",
       "      <td>OCEAN</td>\n",
       "      <td>locations</td>\n",
       "      <td>false</td>\n",
       "    </tr>\n",
       "    <tr>\n",
       "      <th>540</th>\n",
       "      <td>533789</td>\n",
       "      <td>ff1cfc9c-5e73-4137-b8e1-d6f4e83e61c4</td>\n",
       "      <td>ITALY</td>\n",
       "      <td>locations</td>\n",
       "      <td>true</td>\n",
       "    </tr>\n",
       "    <tr>\n",
       "      <th>541</th>\n",
       "      <td>533791</td>\n",
       "      <td>ff28159f-dbc2-4585-bbfd-fbc8cabbffe3</td>\n",
       "      <td>CZECH REPUBLIC</td>\n",
       "      <td>locations</td>\n",
       "      <td>true</td>\n",
       "    </tr>\n",
       "    <tr>\n",
       "      <th>542</th>\n",
       "      <td>533793</td>\n",
       "      <td>ffcee960-5527-43e0-bfd0-ad48b1151cf0</td>\n",
       "      <td>ALBANIA</td>\n",
       "      <td>locations</td>\n",
       "      <td>true</td>\n",
       "    </tr>\n",
       "  </tbody>\n",
       "</table>\n",
       "<p>543 rows × 5 columns</p>\n",
       "</div>"
      ],
      "text/plain": [
       "         id                                  uuid                  prefLabel  \\\n",
       "0    532709  0086ca79-d40d-4119-97d0-f5911df75a37              PALMYRA ATOLL   \n",
       "1    532711  009ebc80-5561-40d1-98d9-13cbc5bd1591  NEWFOUNDLAND AND LABRADOR   \n",
       "2    532713  00fdb6a0-3063-45d3-9930-71b5a9a3206c   TURKS AND CAICOS ISLANDS   \n",
       "3    532715  00fdc4bb-8f93-4170-bca1-e51315b46304                   KIRIBATI   \n",
       "4    532717  017ac312-b650-4800-992f-5167708b4d31                     HAWAII   \n",
       "..      ...                                   ...                        ...   \n",
       "538  533785  feff6e5e-27be-4404-af9c-c80b56d48ad4                     CYPRUS   \n",
       "539  533787  ff03e9fc-9882-4a5e-ad0b-830d8f1186cb                      OCEAN   \n",
       "540  533789  ff1cfc9c-5e73-4137-b8e1-d6f4e83e61c4                      ITALY   \n",
       "541  533791  ff28159f-dbc2-4585-bbfd-fbc8cabbffe3             CZECH REPUBLIC   \n",
       "542  533793  ffcee960-5527-43e0-bfd0-ad48b1151cf0                    ALBANIA   \n",
       "\n",
       "    conceptScheme isLeaf  \n",
       "0       locations   true  \n",
       "1       locations   true  \n",
       "2       locations   true  \n",
       "3       locations   true  \n",
       "4       locations   true  \n",
       "..            ...    ...  \n",
       "538     locations   true  \n",
       "539     locations  false  \n",
       "540     locations   true  \n",
       "541     locations   true  \n",
       "542     locations   true  \n",
       "\n",
       "[543 rows x 5 columns]"
      ]
     },
     "execution_count": 22,
     "metadata": {},
     "output_type": "execute_result"
    }
   ],
   "source": [
    "KEYWORDS['locations'] = (DataFrame(KEYWORDS['locations'][1]['concepts']), KEYWORDS['locations'][1])\n",
    "KEYWORDS['locations'][0]"
   ]
  },
  {
   "cell_type": "markdown",
   "metadata": {},
   "source": [
    "### platforms\n",
    "\n",
    "The CSV on the dumps web page is invalid. Make alternative index for `platforms` here:"
   ]
  },
  {
   "cell_type": "code",
   "execution_count": 23,
   "metadata": {
    "ExecuteTime": {
     "end_time": "2020-07-24T06:05:05.834286Z",
     "start_time": "2020-07-24T06:05:05.822856Z"
    }
   },
   "outputs": [
    {
     "data": {
      "text/html": [
       "<div>\n",
       "<style scoped>\n",
       "    .dataframe tbody tr th:only-of-type {\n",
       "        vertical-align: middle;\n",
       "    }\n",
       "\n",
       "    .dataframe tbody tr th {\n",
       "        vertical-align: top;\n",
       "    }\n",
       "\n",
       "    .dataframe thead th {\n",
       "        text-align: right;\n",
       "    }\n",
       "</style>\n",
       "<table border=\"1\" class=\"dataframe\">\n",
       "  <thead>\n",
       "    <tr style=\"text-align: right;\">\n",
       "      <th></th>\n",
       "      <th>id</th>\n",
       "      <th>uuid</th>\n",
       "      <th>prefLabel</th>\n",
       "      <th>conceptScheme</th>\n",
       "      <th>isLeaf</th>\n",
       "    </tr>\n",
       "  </thead>\n",
       "  <tbody>\n",
       "    <tr>\n",
       "      <th>0</th>\n",
       "      <td>541125</td>\n",
       "      <td>00274700-26c1-4c44-88a4-10a7ec6214de</td>\n",
       "      <td>GLONASS</td>\n",
       "      <td>platforms</td>\n",
       "      <td>true</td>\n",
       "    </tr>\n",
       "    <tr>\n",
       "      <th>1</th>\n",
       "      <td>541127</td>\n",
       "      <td>007c3084-89db-458e-8387-14e192b6cb8e</td>\n",
       "      <td>SENTINEL-1</td>\n",
       "      <td>platforms</td>\n",
       "      <td>false</td>\n",
       "    </tr>\n",
       "    <tr>\n",
       "      <th>2</th>\n",
       "      <td>541129</td>\n",
       "      <td>00f8ab1f-040f-40b4-ba64-9f6a4c2ca7ed</td>\n",
       "      <td>MICOM</td>\n",
       "      <td>platforms</td>\n",
       "      <td>true</td>\n",
       "    </tr>\n",
       "    <tr>\n",
       "      <th>3</th>\n",
       "      <td>541131</td>\n",
       "      <td>019b76a2-3576-4a03-a91f-8519319d66ee</td>\n",
       "      <td>STS-62</td>\n",
       "      <td>platforms</td>\n",
       "      <td>true</td>\n",
       "    </tr>\n",
       "    <tr>\n",
       "      <th>4</th>\n",
       "      <td>541133</td>\n",
       "      <td>01b319ce-cbe2-4894-bb33-04c43ceef23b</td>\n",
       "      <td>CALIPSO</td>\n",
       "      <td>platforms</td>\n",
       "      <td>true</td>\n",
       "    </tr>\n",
       "    <tr>\n",
       "      <th>...</th>\n",
       "      <td>...</td>\n",
       "      <td>...</td>\n",
       "      <td>...</td>\n",
       "      <td>...</td>\n",
       "      <td>...</td>\n",
       "    </tr>\n",
       "    <tr>\n",
       "      <th>987</th>\n",
       "      <td>542993</td>\n",
       "      <td>feb61055-a920-4fe3-90a2-caac0c4fd08a</td>\n",
       "      <td>SGO</td>\n",
       "      <td>platforms</td>\n",
       "      <td>true</td>\n",
       "    </tr>\n",
       "    <tr>\n",
       "      <th>988</th>\n",
       "      <td>542995</td>\n",
       "      <td>fecf6a37-ffa9-4e11-90cf-1abfeb95cb95</td>\n",
       "      <td>IMS</td>\n",
       "      <td>platforms</td>\n",
       "      <td>false</td>\n",
       "    </tr>\n",
       "    <tr>\n",
       "      <th>989</th>\n",
       "      <td>542997</td>\n",
       "      <td>ff0ed18d-c476-4dc4-a248-d42ad74bb4a1</td>\n",
       "      <td>WORLDVIEW-2</td>\n",
       "      <td>platforms</td>\n",
       "      <td>true</td>\n",
       "    </tr>\n",
       "    <tr>\n",
       "      <th>990</th>\n",
       "      <td>542999</td>\n",
       "      <td>ff2141a6-5682-44da-88fc-9a4e78de35ad</td>\n",
       "      <td>Resurs DK 1</td>\n",
       "      <td>platforms</td>\n",
       "      <td>true</td>\n",
       "    </tr>\n",
       "    <tr>\n",
       "      <th>991</th>\n",
       "      <td>543001</td>\n",
       "      <td>ff60d0cf-4665-40b6-b375-dd59dba896f9</td>\n",
       "      <td>OGO-4</td>\n",
       "      <td>platforms</td>\n",
       "      <td>true</td>\n",
       "    </tr>\n",
       "  </tbody>\n",
       "</table>\n",
       "<p>992 rows × 5 columns</p>\n",
       "</div>"
      ],
      "text/plain": [
       "         id                                  uuid    prefLabel conceptScheme  \\\n",
       "0    541125  00274700-26c1-4c44-88a4-10a7ec6214de      GLONASS     platforms   \n",
       "1    541127  007c3084-89db-458e-8387-14e192b6cb8e   SENTINEL-1     platforms   \n",
       "2    541129  00f8ab1f-040f-40b4-ba64-9f6a4c2ca7ed        MICOM     platforms   \n",
       "3    541131  019b76a2-3576-4a03-a91f-8519319d66ee       STS-62     platforms   \n",
       "4    541133  01b319ce-cbe2-4894-bb33-04c43ceef23b      CALIPSO     platforms   \n",
       "..      ...                                   ...          ...           ...   \n",
       "987  542993  feb61055-a920-4fe3-90a2-caac0c4fd08a          SGO     platforms   \n",
       "988  542995  fecf6a37-ffa9-4e11-90cf-1abfeb95cb95          IMS     platforms   \n",
       "989  542997  ff0ed18d-c476-4dc4-a248-d42ad74bb4a1  WORLDVIEW-2     platforms   \n",
       "990  542999  ff2141a6-5682-44da-88fc-9a4e78de35ad  Resurs DK 1     platforms   \n",
       "991  543001  ff60d0cf-4665-40b6-b375-dd59dba896f9        OGO-4     platforms   \n",
       "\n",
       "    isLeaf  \n",
       "0     true  \n",
       "1    false  \n",
       "2     true  \n",
       "3     true  \n",
       "4     true  \n",
       "..     ...  \n",
       "987   true  \n",
       "988  false  \n",
       "989   true  \n",
       "990   true  \n",
       "991   true  \n",
       "\n",
       "[992 rows x 5 columns]"
      ]
     },
     "execution_count": 23,
     "metadata": {},
     "output_type": "execute_result"
    }
   ],
   "source": [
    "KEYWORDS['platforms'] = (DataFrame(KEYWORDS['platforms'][1]['concepts']), KEYWORDS['platforms'][1])\n",
    "KEYWORDS['platforms'][0]"
   ]
  },
  {
   "cell_type": "code",
   "execution_count": 24,
   "metadata": {
    "ExecuteTime": {
     "end_time": "2020-07-24T06:05:05.844328Z",
     "start_time": "2020-07-24T06:05:05.835704Z"
    }
   },
   "outputs": [
    {
     "data": {
      "text/html": [
       "<div>\n",
       "<style scoped>\n",
       "    .dataframe tbody tr th:only-of-type {\n",
       "        vertical-align: middle;\n",
       "    }\n",
       "\n",
       "    .dataframe tbody tr th {\n",
       "        vertical-align: top;\n",
       "    }\n",
       "\n",
       "    .dataframe thead th {\n",
       "        text-align: right;\n",
       "    }\n",
       "</style>\n",
       "<table border=\"1\" class=\"dataframe\">\n",
       "  <thead>\n",
       "    <tr style=\"text-align: right;\">\n",
       "      <th></th>\n",
       "      <th>id</th>\n",
       "      <th>uuid</th>\n",
       "      <th>prefLabel</th>\n",
       "      <th>conceptScheme</th>\n",
       "      <th>isLeaf</th>\n",
       "    </tr>\n",
       "  </thead>\n",
       "  <tbody>\n",
       "    <tr>\n",
       "      <th>0</th>\n",
       "      <td>541125</td>\n",
       "      <td>00274700-26c1-4c44-88a4-10a7ec6214de</td>\n",
       "      <td>GLONASS</td>\n",
       "      <td>platforms</td>\n",
       "      <td>true</td>\n",
       "    </tr>\n",
       "    <tr>\n",
       "      <th>1</th>\n",
       "      <td>541127</td>\n",
       "      <td>007c3084-89db-458e-8387-14e192b6cb8e</td>\n",
       "      <td>SENTINEL-1</td>\n",
       "      <td>platforms</td>\n",
       "      <td>false</td>\n",
       "    </tr>\n",
       "    <tr>\n",
       "      <th>2</th>\n",
       "      <td>541129</td>\n",
       "      <td>00f8ab1f-040f-40b4-ba64-9f6a4c2ca7ed</td>\n",
       "      <td>MICOM</td>\n",
       "      <td>platforms</td>\n",
       "      <td>true</td>\n",
       "    </tr>\n",
       "    <tr>\n",
       "      <th>3</th>\n",
       "      <td>541131</td>\n",
       "      <td>019b76a2-3576-4a03-a91f-8519319d66ee</td>\n",
       "      <td>STS-62</td>\n",
       "      <td>platforms</td>\n",
       "      <td>true</td>\n",
       "    </tr>\n",
       "    <tr>\n",
       "      <th>4</th>\n",
       "      <td>541133</td>\n",
       "      <td>01b319ce-cbe2-4894-bb33-04c43ceef23b</td>\n",
       "      <td>CALIPSO</td>\n",
       "      <td>platforms</td>\n",
       "      <td>true</td>\n",
       "    </tr>\n",
       "    <tr>\n",
       "      <th>...</th>\n",
       "      <td>...</td>\n",
       "      <td>...</td>\n",
       "      <td>...</td>\n",
       "      <td>...</td>\n",
       "      <td>...</td>\n",
       "    </tr>\n",
       "    <tr>\n",
       "      <th>987</th>\n",
       "      <td>542993</td>\n",
       "      <td>feb61055-a920-4fe3-90a2-caac0c4fd08a</td>\n",
       "      <td>SGO</td>\n",
       "      <td>platforms</td>\n",
       "      <td>true</td>\n",
       "    </tr>\n",
       "    <tr>\n",
       "      <th>988</th>\n",
       "      <td>542995</td>\n",
       "      <td>fecf6a37-ffa9-4e11-90cf-1abfeb95cb95</td>\n",
       "      <td>IMS</td>\n",
       "      <td>platforms</td>\n",
       "      <td>false</td>\n",
       "    </tr>\n",
       "    <tr>\n",
       "      <th>989</th>\n",
       "      <td>542997</td>\n",
       "      <td>ff0ed18d-c476-4dc4-a248-d42ad74bb4a1</td>\n",
       "      <td>WORLDVIEW-2</td>\n",
       "      <td>platforms</td>\n",
       "      <td>true</td>\n",
       "    </tr>\n",
       "    <tr>\n",
       "      <th>990</th>\n",
       "      <td>542999</td>\n",
       "      <td>ff2141a6-5682-44da-88fc-9a4e78de35ad</td>\n",
       "      <td>Resurs DK 1</td>\n",
       "      <td>platforms</td>\n",
       "      <td>true</td>\n",
       "    </tr>\n",
       "    <tr>\n",
       "      <th>991</th>\n",
       "      <td>543001</td>\n",
       "      <td>ff60d0cf-4665-40b6-b375-dd59dba896f9</td>\n",
       "      <td>OGO-4</td>\n",
       "      <td>platforms</td>\n",
       "      <td>true</td>\n",
       "    </tr>\n",
       "  </tbody>\n",
       "</table>\n",
       "<p>992 rows × 5 columns</p>\n",
       "</div>"
      ],
      "text/plain": [
       "         id                                  uuid    prefLabel conceptScheme  \\\n",
       "0    541125  00274700-26c1-4c44-88a4-10a7ec6214de      GLONASS     platforms   \n",
       "1    541127  007c3084-89db-458e-8387-14e192b6cb8e   SENTINEL-1     platforms   \n",
       "2    541129  00f8ab1f-040f-40b4-ba64-9f6a4c2ca7ed        MICOM     platforms   \n",
       "3    541131  019b76a2-3576-4a03-a91f-8519319d66ee       STS-62     platforms   \n",
       "4    541133  01b319ce-cbe2-4894-bb33-04c43ceef23b      CALIPSO     platforms   \n",
       "..      ...                                   ...          ...           ...   \n",
       "987  542993  feb61055-a920-4fe3-90a2-caac0c4fd08a          SGO     platforms   \n",
       "988  542995  fecf6a37-ffa9-4e11-90cf-1abfeb95cb95          IMS     platforms   \n",
       "989  542997  ff0ed18d-c476-4dc4-a248-d42ad74bb4a1  WORLDVIEW-2     platforms   \n",
       "990  542999  ff2141a6-5682-44da-88fc-9a4e78de35ad  Resurs DK 1     platforms   \n",
       "991  543001  ff60d0cf-4665-40b6-b375-dd59dba896f9        OGO-4     platforms   \n",
       "\n",
       "    isLeaf  \n",
       "0     true  \n",
       "1    false  \n",
       "2     true  \n",
       "3     true  \n",
       "4     true  \n",
       "..     ...  \n",
       "987   true  \n",
       "988  false  \n",
       "989   true  \n",
       "990   true  \n",
       "991   true  \n",
       "\n",
       "[992 rows x 5 columns]"
      ]
     },
     "execution_count": 24,
     "metadata": {},
     "output_type": "execute_result"
    }
   ],
   "source": [
    "KEYWORDS['platforms'][0]"
   ]
  },
  {
   "cell_type": "markdown",
   "metadata": {
    "ExecuteTime": {
     "end_time": "2020-07-24T06:05:05.265592Z",
     "start_time": "2020-07-24T06:05:05.243255Z"
    }
   },
   "source": [
    "Start here later.\n",
    "\n",
    "```python\n",
    "def _fix_platforms(uuid: str):\n",
    "    data = _retrieve_keywords(uuid)\n",
    "    try:\n",
    "        return data['altLabels'][0]['text']\n",
    "    except KeyError as e:\n",
    "        return data['broader']\n",
    "\n",
    "KEYWORDS['platforms'][0]['altLabels'] = KEYWORDS['platforms'][0].uuid.apply(_fix_platforms)\n",
    "KEYWORDS['platforms'][0]\n",
    "```"
   ]
  },
  {
   "cell_type": "markdown",
   "metadata": {},
   "source": [
    "### projects"
   ]
  },
  {
   "cell_type": "code",
   "execution_count": 25,
   "metadata": {
    "ExecuteTime": {
     "end_time": "2020-07-24T06:05:06.158005Z",
     "start_time": "2020-07-24T06:05:06.146134Z"
    }
   },
   "outputs": [
    {
     "data": {
      "text/html": [
       "<div>\n",
       "<style scoped>\n",
       "    .dataframe tbody tr th:only-of-type {\n",
       "        vertical-align: middle;\n",
       "    }\n",
       "\n",
       "    .dataframe tbody tr th {\n",
       "        vertical-align: top;\n",
       "    }\n",
       "\n",
       "    .dataframe thead th {\n",
       "        text-align: right;\n",
       "    }\n",
       "</style>\n",
       "<table border=\"1\" class=\"dataframe\">\n",
       "  <thead>\n",
       "    <tr style=\"text-align: right;\">\n",
       "      <th></th>\n",
       "      <th>id</th>\n",
       "      <th>uuid</th>\n",
       "      <th>prefLabel</th>\n",
       "      <th>conceptScheme</th>\n",
       "      <th>isLeaf</th>\n",
       "    </tr>\n",
       "  </thead>\n",
       "  <tbody>\n",
       "    <tr>\n",
       "      <th>0</th>\n",
       "      <td>546435</td>\n",
       "      <td>00230dbe-8532-4644-b241-79533b808846</td>\n",
       "      <td>PPGM</td>\n",
       "      <td>projects</td>\n",
       "      <td>true</td>\n",
       "    </tr>\n",
       "    <tr>\n",
       "      <th>1</th>\n",
       "      <td>546437</td>\n",
       "      <td>004d93e3-1a3b-4308-9917-d522e822f1d3</td>\n",
       "      <td>MERGE</td>\n",
       "      <td>projects</td>\n",
       "      <td>true</td>\n",
       "    </tr>\n",
       "    <tr>\n",
       "      <th>2</th>\n",
       "      <td>546439</td>\n",
       "      <td>006d842b-9c63-498f-b198-9afdc16c91b6</td>\n",
       "      <td>CEAREX</td>\n",
       "      <td>projects</td>\n",
       "      <td>true</td>\n",
       "    </tr>\n",
       "    <tr>\n",
       "      <th>3</th>\n",
       "      <td>546441</td>\n",
       "      <td>00923bad-d9ac-4093-aca3-83d3e9ae3171</td>\n",
       "      <td>CREEFS</td>\n",
       "      <td>projects</td>\n",
       "      <td>true</td>\n",
       "    </tr>\n",
       "    <tr>\n",
       "      <th>4</th>\n",
       "      <td>546443</td>\n",
       "      <td>00ab1bb7-6b30-4be0-9ef5-68b5af38d991</td>\n",
       "      <td>BDBP</td>\n",
       "      <td>projects</td>\n",
       "      <td>true</td>\n",
       "    </tr>\n",
       "    <tr>\n",
       "      <th>...</th>\n",
       "      <td>...</td>\n",
       "      <td>...</td>\n",
       "      <td>...</td>\n",
       "      <td>...</td>\n",
       "      <td>...</td>\n",
       "    </tr>\n",
       "    <tr>\n",
       "      <th>1797</th>\n",
       "      <td>560400</td>\n",
       "      <td>836912f3-2ae4-4b5c-8c0a-c8e3d7b10bce</td>\n",
       "      <td>TSIS</td>\n",
       "      <td>projects</td>\n",
       "      <td>true</td>\n",
       "    </tr>\n",
       "    <tr>\n",
       "      <th>1798</th>\n",
       "      <td>560402</td>\n",
       "      <td>131f1025-4fea-44e3-accf-c68c758c570b</td>\n",
       "      <td>Aeolus</td>\n",
       "      <td>projects</td>\n",
       "      <td>true</td>\n",
       "    </tr>\n",
       "    <tr>\n",
       "      <th>1799</th>\n",
       "      <td>560514</td>\n",
       "      <td>06e9cf54-c97d-4e49-9810-5f8cc4812757</td>\n",
       "      <td>PISTON</td>\n",
       "      <td>projects</td>\n",
       "      <td>true</td>\n",
       "    </tr>\n",
       "    <tr>\n",
       "      <th>1800</th>\n",
       "      <td>560522</td>\n",
       "      <td>18e56193-e740-44c1-b605-4ad9a3f33f16</td>\n",
       "      <td>Hypoxia Watch</td>\n",
       "      <td>projects</td>\n",
       "      <td>true</td>\n",
       "    </tr>\n",
       "    <tr>\n",
       "      <th>1801</th>\n",
       "      <td>560524</td>\n",
       "      <td>c1fd707d-420e-4236-bb00-cdfcc0287400</td>\n",
       "      <td>R2R</td>\n",
       "      <td>projects</td>\n",
       "      <td>true</td>\n",
       "    </tr>\n",
       "  </tbody>\n",
       "</table>\n",
       "<p>1802 rows × 5 columns</p>\n",
       "</div>"
      ],
      "text/plain": [
       "          id                                  uuid      prefLabel  \\\n",
       "0     546435  00230dbe-8532-4644-b241-79533b808846           PPGM   \n",
       "1     546437  004d93e3-1a3b-4308-9917-d522e822f1d3          MERGE   \n",
       "2     546439  006d842b-9c63-498f-b198-9afdc16c91b6         CEAREX   \n",
       "3     546441  00923bad-d9ac-4093-aca3-83d3e9ae3171         CREEFS   \n",
       "4     546443  00ab1bb7-6b30-4be0-9ef5-68b5af38d991           BDBP   \n",
       "...      ...                                   ...            ...   \n",
       "1797  560400  836912f3-2ae4-4b5c-8c0a-c8e3d7b10bce           TSIS   \n",
       "1798  560402  131f1025-4fea-44e3-accf-c68c758c570b         Aeolus   \n",
       "1799  560514  06e9cf54-c97d-4e49-9810-5f8cc4812757         PISTON   \n",
       "1800  560522  18e56193-e740-44c1-b605-4ad9a3f33f16  Hypoxia Watch   \n",
       "1801  560524  c1fd707d-420e-4236-bb00-cdfcc0287400            R2R   \n",
       "\n",
       "     conceptScheme isLeaf  \n",
       "0         projects   true  \n",
       "1         projects   true  \n",
       "2         projects   true  \n",
       "3         projects   true  \n",
       "4         projects   true  \n",
       "...            ...    ...  \n",
       "1797      projects   true  \n",
       "1798      projects   true  \n",
       "1799      projects   true  \n",
       "1800      projects   true  \n",
       "1801      projects   true  \n",
       "\n",
       "[1802 rows x 5 columns]"
      ]
     },
     "execution_count": 25,
     "metadata": {},
     "output_type": "execute_result"
    }
   ],
   "source": [
    "KEYWORDS['projects'] = (DataFrame(KEYWORDS['projects'][1]['concepts']), KEYWORDS['projects'][1])\n",
    "KEYWORDS['projects'][0]"
   ]
  },
  {
   "cell_type": "markdown",
   "metadata": {},
   "source": [
    "### providers"
   ]
  },
  {
   "cell_type": "code",
   "execution_count": 26,
   "metadata": {
    "ExecuteTime": {
     "end_time": "2020-07-24T06:05:06.323988Z",
     "start_time": "2020-07-24T06:05:06.320950Z"
    }
   },
   "outputs": [
    {
     "data": {
      "text/plain": [
       "Index(['Bucket_Level0', 'Bucket_Level1', 'Bucket_Level2', 'Bucket_Level3',\n",
       "       'Short_Name', 'Long_Name', 'Data_Center_URL', 'UUID'],\n",
       "      dtype='object')"
      ]
     },
     "execution_count": 26,
     "metadata": {},
     "output_type": "execute_result"
    }
   ],
   "source": [
    "KEYWORDS['providers'][0].columns"
   ]
  },
  {
   "cell_type": "code",
   "execution_count": 27,
   "metadata": {
    "ExecuteTime": {
     "end_time": "2020-07-24T06:05:06.329367Z",
     "start_time": "2020-07-24T06:05:06.325619Z"
    }
   },
   "outputs": [
    {
     "data": {
      "text/plain": [
       "Bucket_Level0                                  ACADEMIC\n",
       "Bucket_Level1                                   GERMANY\n",
       "Bucket_Level2                                       NaN\n",
       "Bucket_Level3                                       NaN\n",
       "Short_Name                                       DE/DLR\n",
       "Long_Name                 German Aerospace Center (DLR)\n",
       "Data_Center_URL                                     NaN\n",
       "UUID               2f9d7c12-c02d-41fb-a168-4d91794187f7\n",
       "Name: 0, dtype: object"
      ]
     },
     "execution_count": 27,
     "metadata": {},
     "output_type": "execute_result"
    }
   ],
   "source": [
    "KEYWORDS['providers'][0].iloc[0]"
   ]
  },
  {
   "cell_type": "code",
   "execution_count": 28,
   "metadata": {
    "ExecuteTime": {
     "end_time": "2020-07-24T06:05:06.338356Z",
     "start_time": "2020-07-24T06:05:06.331036Z"
    },
    "scrolled": true
   },
   "outputs": [
    {
     "data": {
      "text/plain": [
       "dict_keys(['Bucket_Level0', 'Bucket_Level1', 'Bucket_Level2', 'Bucket_Level3', 'Short_Name', 'Long_Name', 'Data_Center_URL', 'UUID'])"
      ]
     },
     "execution_count": 28,
     "metadata": {},
     "output_type": "execute_result"
    }
   ],
   "source": [
    "providers = _unique_keywords(\"providers\")\n",
    "providers.keys()"
   ]
  },
  {
   "cell_type": "code",
   "execution_count": 29,
   "metadata": {
    "ExecuteTime": {
     "end_time": "2020-07-24T06:05:06.357130Z",
     "start_time": "2020-07-24T06:05:06.339712Z"
    }
   },
   "outputs": [
    {
     "data": {
      "text/html": [
       "<div>\n",
       "<style scoped>\n",
       "    .dataframe tbody tr th:only-of-type {\n",
       "        vertical-align: middle;\n",
       "    }\n",
       "\n",
       "    .dataframe tbody tr th {\n",
       "        vertical-align: top;\n",
       "    }\n",
       "\n",
       "    .dataframe thead th {\n",
       "        text-align: right;\n",
       "    }\n",
       "</style>\n",
       "<table border=\"1\" class=\"dataframe\">\n",
       "  <thead>\n",
       "    <tr style=\"text-align: right;\">\n",
       "      <th></th>\n",
       "      <th>count</th>\n",
       "      <th>unique</th>\n",
       "      <th>top</th>\n",
       "      <th>freq</th>\n",
       "    </tr>\n",
       "  </thead>\n",
       "  <tbody>\n",
       "    <tr>\n",
       "      <th>Short_Name</th>\n",
       "      <td>3533</td>\n",
       "      <td>3533</td>\n",
       "      <td>DOC/NOAA/NOS/NCCOS</td>\n",
       "      <td>1</td>\n",
       "    </tr>\n",
       "    <tr>\n",
       "      <th>Long_Name</th>\n",
       "      <td>3497</td>\n",
       "      <td>3487</td>\n",
       "      <td>Coastal Engineering Research Center, Coastal a...</td>\n",
       "      <td>2</td>\n",
       "    </tr>\n",
       "    <tr>\n",
       "      <th>Data_Center_URL</th>\n",
       "      <td>3484</td>\n",
       "      <td>3415</td>\n",
       "      <td>http://www.statcan.ca/english/reference/refcen...</td>\n",
       "      <td>3</td>\n",
       "    </tr>\n",
       "  </tbody>\n",
       "</table>\n",
       "</div>"
      ],
      "text/plain": [
       "                count unique  \\\n",
       "Short_Name       3533   3533   \n",
       "Long_Name        3497   3487   \n",
       "Data_Center_URL  3484   3415   \n",
       "\n",
       "                                                               top freq  \n",
       "Short_Name                                      DOC/NOAA/NOS/NCCOS    1  \n",
       "Long_Name        Coastal Engineering Research Center, Coastal a...    2  \n",
       "Data_Center_URL  http://www.statcan.ca/english/reference/refcen...    3  "
      ]
     },
     "execution_count": 29,
     "metadata": {},
     "output_type": "execute_result"
    }
   ],
   "source": [
    "KEYWORDS['providers'][0][['Short_Name', 'Long_Name', 'Data_Center_URL']].describe().T"
   ]
  },
  {
   "cell_type": "markdown",
   "metadata": {},
   "source": [
    "### rucontenttype"
   ]
  },
  {
   "cell_type": "code",
   "execution_count": 30,
   "metadata": {
    "ExecuteTime": {
     "end_time": "2020-07-24T06:05:06.510808Z",
     "start_time": "2020-07-24T06:05:06.507635Z"
    }
   },
   "outputs": [
    {
     "data": {
      "text/plain": [
       "Index(['Type', 'Subtype', 'UUID'], dtype='object')"
      ]
     },
     "execution_count": 30,
     "metadata": {},
     "output_type": "execute_result"
    }
   ],
   "source": [
    "KEYWORDS['rucontenttype'][0].columns"
   ]
  },
  {
   "cell_type": "code",
   "execution_count": 31,
   "metadata": {
    "ExecuteTime": {
     "end_time": "2020-07-24T06:05:06.525859Z",
     "start_time": "2020-07-24T06:05:06.512885Z"
    }
   },
   "outputs": [
    {
     "data": {
      "text/html": [
       "<div>\n",
       "<style scoped>\n",
       "    .dataframe tbody tr th:only-of-type {\n",
       "        vertical-align: middle;\n",
       "    }\n",
       "\n",
       "    .dataframe tbody tr th {\n",
       "        vertical-align: top;\n",
       "    }\n",
       "\n",
       "    .dataframe thead th {\n",
       "        text-align: right;\n",
       "    }\n",
       "</style>\n",
       "<table border=\"1\" class=\"dataframe\">\n",
       "  <thead>\n",
       "    <tr style=\"text-align: right;\">\n",
       "      <th></th>\n",
       "      <th>count</th>\n",
       "      <th>unique</th>\n",
       "      <th>top</th>\n",
       "      <th>freq</th>\n",
       "    </tr>\n",
       "  </thead>\n",
       "  <tbody>\n",
       "    <tr>\n",
       "      <th>Type</th>\n",
       "      <td>77</td>\n",
       "      <td>10</td>\n",
       "      <td>VIEW RELATED INFORMATION</td>\n",
       "      <td>27</td>\n",
       "    </tr>\n",
       "    <tr>\n",
       "      <th>Subtype</th>\n",
       "      <td>67</td>\n",
       "      <td>66</td>\n",
       "      <td>GIOVANNI</td>\n",
       "      <td>2</td>\n",
       "    </tr>\n",
       "    <tr>\n",
       "      <th>UUID</th>\n",
       "      <td>77</td>\n",
       "      <td>77</td>\n",
       "      <td>f00cf885-8fc5-42ca-a70e-1689530f00cf</td>\n",
       "      <td>1</td>\n",
       "    </tr>\n",
       "  </tbody>\n",
       "</table>\n",
       "</div>"
      ],
      "text/plain": [
       "        count unique                                   top freq\n",
       "Type       77     10              VIEW RELATED INFORMATION   27\n",
       "Subtype    67     66                              GIOVANNI    2\n",
       "UUID       77     77  f00cf885-8fc5-42ca-a70e-1689530f00cf    1"
      ]
     },
     "execution_count": 31,
     "metadata": {},
     "output_type": "execute_result"
    }
   ],
   "source": [
    "KEYWORDS['rucontenttype'][0].describe().T"
   ]
  },
  {
   "cell_type": "code",
   "execution_count": 32,
   "metadata": {
    "ExecuteTime": {
     "end_time": "2020-07-24T06:05:06.530983Z",
     "start_time": "2020-07-24T06:05:06.527508Z"
    },
    "scrolled": true
   },
   "outputs": [
    {
     "data": {
      "text/plain": [
       "dict_keys(['Type', 'Subtype', 'UUID'])"
      ]
     },
     "execution_count": 32,
     "metadata": {},
     "output_type": "execute_result"
    }
   ],
   "source": [
    "rucontenttype = _unique_keywords(\"rucontenttype\")\n",
    "rucontenttype.keys()"
   ]
  },
  {
   "cell_type": "code",
   "execution_count": 33,
   "metadata": {
    "ExecuteTime": {
     "end_time": "2020-07-24T06:05:06.534914Z",
     "start_time": "2020-07-24T06:05:06.532441Z"
    },
    "scrolled": false
   },
   "outputs": [
    {
     "name": "stdout",
     "output_type": "stream",
     "text": [
      "{\n",
      "  \"Type\": [\n",
      "    \"DATA SET LANDING PAGE\",\n",
      "    \"DOWNLOAD SOFTWARE\",\n",
      "    \"EXTENDED METADATA\",\n",
      "    \"GET DATA\",\n",
      "    \"GET RELATED VISUALIZATION\",\n",
      "    \"GOTO WEB TOOL\",\n",
      "    \"PROFESSIONAL HOME PAGE\",\n",
      "    \"PROJECT HOME PAGE\",\n",
      "    \"USE SERVICE API\",\n",
      "    \"VIEW RELATED INFORMATION\"\n",
      "  ],\n",
      "  \"Subtype\": [\n",
      "    NaN,\n",
      "    \"MOBILE APP\",\n",
      "    \"APPEEARS\",\n",
      "    \"DATA COLLECTION BUNDLE\",\n",
      "    \"DATA TREE\",\n",
      "    \"DATACAST URL\",\n",
      "    \"DIRECT DOWNLOAD\",\n",
      "    \"EOSDIS DATA POOL\",\n",
      "    \"Earthdata Search\",\n",
      "    \"GIOVANNI\",\n",
      "    \"GoLIVE Portal\",\n",
      "    \"IceBridge Portal\",\n",
      "    \"LAADS\",\n",
      "    \"LANCE\",\n",
      "    \"MIRADOR\",\n",
      "    \"MODAPS\",\n",
      "    \"NOAA CLASS\",\n",
      "    \"NOMADS\",\n",
      "    \"Order\",\n",
      "    \"PORTAL\",\n",
      "    \"Subscribe\",\n",
      "    \"USGS EARTH EXPLORER\",\n",
      "    \"VERTEX\",\n",
      "    \"VIRTUAL COLLECTION\",\n",
      "    \"MAP\",\n",
      "    \"WORLDVIEW\",\n",
      "    \"LIVE ACCESS SERVER (LAS)\",\n",
      "    \"MAP VIEWER\",\n",
      "    \"SIMPLE SUBSET WIZARD (SSW)\",\n",
      "    \"SUBSETTER\",\n",
      "    \"GRADS DATA SERVER (GDS)\",\n",
      "    \"MAP SERVICE\",\n",
      "    \"OPENDAP DATA\",\n",
      "    \"OpenSearch\",\n",
      "    \"SERVICE CHAINING\",\n",
      "    \"TABULAR DATA STREAM (TDS)\",\n",
      "    \"THREDDS DATA\",\n",
      "    \"WEB COVERAGE SERVICE (WCS)\",\n",
      "    \"WEB FEATURE SERVICE (WFS)\",\n",
      "    \"WEB MAP SERVICE (WMS)\",\n",
      "    \"WEB MAP TILE SERVICE (WMTS)\",\n",
      "    \"ALGORITHM DOCUMENTATION\",\n",
      "    \"ALGORITHM THEORETICAL BASIS DOCUMENT (ATBD)\",\n",
      "    \"ANOMALIES\",\n",
      "    \"CASE STUDY\",\n",
      "    \"DATA CITATION POLICY\",\n",
      "    \"DATA QUALITY\",\n",
      "    \"DATA RECIPE\",\n",
      "    \"DELIVERABLES CHECKLIST\",\n",
      "    \"GENERAL DOCUMENTATION\",\n",
      "    \"HOW-TO\",\n",
      "    \"IMPORTANT NOTICE\",\n",
      "    \"INSTRUMENT/SENSOR CALIBRATION DOCUMENTATION\",\n",
      "    \"MICRO ARTICLE\",\n",
      "    \"PI DOCUMENTATION\",\n",
      "    \"PROCESSING HISTORY\",\n",
      "    \"PRODUCT HISTORY\",\n",
      "    \"PRODUCT QUALITY ASSESSMENT\",\n",
      "    \"PRODUCT USAGE\",\n",
      "    \"PRODUCTION HISTORY\",\n",
      "    \"PUBLICATIONS\",\n",
      "    \"READ-ME\",\n",
      "    \"REQUIREMENTS AND DESIGN\",\n",
      "    \"SCIENCE DATA PRODUCT SOFTWARE DOCUMENTATION\",\n",
      "    \"SCIENCE DATA PRODUCT VALIDATION\",\n",
      "    \"USER FEEDBACK PAGE\",\n",
      "    \"USER'S GUIDE\"\n",
      "  ]\n",
      "}\n"
     ]
    }
   ],
   "source": [
    "print(dumps({d: rucontenttype[d] for d in rucontenttype.keys() if d in ['Type', 'Subtype']}, indent=2))"
   ]
  },
  {
   "cell_type": "markdown",
   "metadata": {},
   "source": [
    "### sciencekeywords"
   ]
  },
  {
   "cell_type": "code",
   "execution_count": 34,
   "metadata": {
    "ExecuteTime": {
     "end_time": "2020-07-24T06:05:06.685737Z",
     "start_time": "2020-07-24T06:05:06.682536Z"
    }
   },
   "outputs": [
    {
     "data": {
      "text/plain": [
       "Index(['Category', 'Topic', 'Term', 'Variable_Level_1', 'Variable_Level_2',\n",
       "       'Variable_Level_3', 'Detailed_Variable', 'UUID'],\n",
       "      dtype='object')"
      ]
     },
     "execution_count": 34,
     "metadata": {},
     "output_type": "execute_result"
    }
   ],
   "source": [
    "KEYWORDS['sciencekeywords'][0].columns"
   ]
  },
  {
   "cell_type": "code",
   "execution_count": 35,
   "metadata": {
    "ExecuteTime": {
     "end_time": "2020-07-24T06:05:06.710326Z",
     "start_time": "2020-07-24T06:05:06.687582Z"
    }
   },
   "outputs": [
    {
     "data": {
      "text/html": [
       "<div>\n",
       "<style scoped>\n",
       "    .dataframe tbody tr th:only-of-type {\n",
       "        vertical-align: middle;\n",
       "    }\n",
       "\n",
       "    .dataframe tbody tr th {\n",
       "        vertical-align: top;\n",
       "    }\n",
       "\n",
       "    .dataframe thead th {\n",
       "        text-align: right;\n",
       "    }\n",
       "</style>\n",
       "<table border=\"1\" class=\"dataframe\">\n",
       "  <thead>\n",
       "    <tr style=\"text-align: right;\">\n",
       "      <th></th>\n",
       "      <th>count</th>\n",
       "      <th>unique</th>\n",
       "      <th>top</th>\n",
       "      <th>freq</th>\n",
       "    </tr>\n",
       "  </thead>\n",
       "  <tbody>\n",
       "    <tr>\n",
       "      <th>Category</th>\n",
       "      <td>3283</td>\n",
       "      <td>2</td>\n",
       "      <td>EARTH SCIENCE</td>\n",
       "      <td>3093</td>\n",
       "    </tr>\n",
       "    <tr>\n",
       "      <th>Topic</th>\n",
       "      <td>3281</td>\n",
       "      <td>23</td>\n",
       "      <td>ATMOSPHERE</td>\n",
       "      <td>582</td>\n",
       "    </tr>\n",
       "    <tr>\n",
       "      <th>Term</th>\n",
       "      <td>3258</td>\n",
       "      <td>195</td>\n",
       "      <td>GEOMORPHIC LANDFORMS/PROCESSES</td>\n",
       "      <td>436</td>\n",
       "    </tr>\n",
       "    <tr>\n",
       "      <th>Variable_Level_1</th>\n",
       "      <td>3057</td>\n",
       "      <td>1026</td>\n",
       "      <td>TROPICAL CYCLONES</td>\n",
       "      <td>90</td>\n",
       "    </tr>\n",
       "    <tr>\n",
       "      <th>Variable_Level_2</th>\n",
       "      <td>1742</td>\n",
       "      <td>983</td>\n",
       "      <td>SEDIMENTATION</td>\n",
       "      <td>32</td>\n",
       "    </tr>\n",
       "    <tr>\n",
       "      <th>Variable_Level_3</th>\n",
       "      <td>506</td>\n",
       "      <td>291</td>\n",
       "      <td>HURRICANES (N. ATLANTIC/E. PACIFIC)</td>\n",
       "      <td>16</td>\n",
       "    </tr>\n",
       "    <tr>\n",
       "      <th>Detailed_Variable</th>\n",
       "      <td>17</td>\n",
       "      <td>17</td>\n",
       "      <td>HYDROGEN ISOTOPE</td>\n",
       "      <td>1</td>\n",
       "    </tr>\n",
       "    <tr>\n",
       "      <th>UUID</th>\n",
       "      <td>3283</td>\n",
       "      <td>3283</td>\n",
       "      <td>51ce7da1-b441-474f-b7e5-cedaa04903f7</td>\n",
       "      <td>1</td>\n",
       "    </tr>\n",
       "  </tbody>\n",
       "</table>\n",
       "</div>"
      ],
      "text/plain": [
       "                  count unique                                   top  freq\n",
       "Category           3283      2                         EARTH SCIENCE  3093\n",
       "Topic              3281     23                            ATMOSPHERE   582\n",
       "Term               3258    195        GEOMORPHIC LANDFORMS/PROCESSES   436\n",
       "Variable_Level_1   3057   1026                     TROPICAL CYCLONES    90\n",
       "Variable_Level_2   1742    983                         SEDIMENTATION    32\n",
       "Variable_Level_3    506    291   HURRICANES (N. ATLANTIC/E. PACIFIC)    16\n",
       "Detailed_Variable    17     17                      HYDROGEN ISOTOPE     1\n",
       "UUID               3283   3283  51ce7da1-b441-474f-b7e5-cedaa04903f7     1"
      ]
     },
     "execution_count": 35,
     "metadata": {},
     "output_type": "execute_result"
    }
   ],
   "source": [
    "KEYWORDS['sciencekeywords'][0].describe().T"
   ]
  },
  {
   "cell_type": "code",
   "execution_count": 36,
   "metadata": {
    "ExecuteTime": {
     "end_time": "2020-07-24T06:05:06.718401Z",
     "start_time": "2020-07-24T06:05:06.711982Z"
    },
    "scrolled": true
   },
   "outputs": [
    {
     "data": {
      "text/plain": [
       "dict_keys(['Category', 'Topic', 'Term', 'Variable_Level_1', 'Variable_Level_2', 'Variable_Level_3', 'Detailed_Variable', 'UUID'])"
      ]
     },
     "execution_count": 36,
     "metadata": {},
     "output_type": "execute_result"
    }
   ],
   "source": [
    "sciencekeywords = _unique_keywords(\"sciencekeywords\")\n",
    "sciencekeywords.keys()"
   ]
  },
  {
   "cell_type": "code",
   "execution_count": 37,
   "metadata": {
    "ExecuteTime": {
     "end_time": "2020-07-24T06:05:06.722309Z",
     "start_time": "2020-07-24T06:05:06.719791Z"
    }
   },
   "outputs": [
    {
     "name": "stdout",
     "output_type": "stream",
     "text": [
      "{\n",
      "  \"Category\": [\n",
      "    \"EARTH SCIENCE SERVICES\",\n",
      "    \"EARTH SCIENCE\"\n",
      "  ],\n",
      "  \"Topic\": [\n",
      "    \"DATA ANALYSIS AND VISUALIZATION\",\n",
      "    \"DATA MANAGEMENT/DATA HANDLING\",\n",
      "    \"EDUCATION/OUTREACH\",\n",
      "    \"ENVIRONMENTAL ADVISORIES\",\n",
      "    \"HAZARDS MANAGEMENT\",\n",
      "    \"METADATA HANDLING\",\n",
      "    \"MODELS\",\n",
      "    \"REFERENCE AND INFORMATION SERVICES\",\n",
      "    \"WEB SERVICES\",\n",
      "    NaN,\n",
      "    \"AGRICULTURE\",\n",
      "    \"ATMOSPHERE\",\n",
      "    \"BIOLOGICAL CLASSIFICATION\",\n",
      "    \"BIOSPHERE\",\n",
      "    \"CLIMATE INDICATORS\",\n",
      "    \"CRYOSPHERE\",\n",
      "    \"HUMAN DIMENSIONS\",\n",
      "    \"LAND SURFACE\",\n",
      "    \"OCEANS\",\n",
      "    \"PALEOCLIMATE\",\n",
      "    \"SOLID EARTH\",\n",
      "    \"SPECTRAL/ENGINEERING\",\n",
      "    \"SUN-EARTH INTERACTIONS\",\n",
      "    \"TERRESTRIAL HYDROSPHERE\"\n",
      "  ],\n",
      "  \"Term\": [\n",
      "    \"CALIBRATION/VALIDATION\",\n",
      "    \"DATA ANALYSIS\",\n",
      "    \"DATA VISUALIZATION\",\n",
      "    \"GEOGRAPHIC INFORMATION SYSTEMS\",\n",
      "    \"GLOBAL POSITIONING SYSTEMS\",\n",
      "    \"IMAGE PROCESSING\",\n",
      "    \"STATISTICAL APPLICATIONS\",\n",
      "    NaN,\n",
      "    \"ARCHIVING\",\n",
      "    \"CATALOGING\",\n",
      "    \"DATA ACCESS/RETRIEVAL\",\n",
      "    \"DATA COMPRESSION\",\n",
      "    \"DATA CUSTOMIZATION\",\n",
      "    \"DATA DELIVERY\",\n",
      "    \"DATA INTEROPERABILITY\",\n",
      "    \"DATA MINING\",\n",
      "    \"DATA NETWORKING/DATA TRANSFER TOOLS\",\n",
      "    \"DATA SEARCH\",\n",
      "    \"DATA SUBSETTING/SUPERSETTING\",\n",
      "    \"DATA TRANSFORMATION/CONVERSION\",\n",
      "    \"MEDIA TRANSFER/DATA RESCUE\",\n",
      "    \"CURRICULUM SUPPORT\",\n",
      "    \"EXHIBIT MATERIALS\",\n",
      "    \"INTERACTIVE PROGRAMS\",\n",
      "    \"AGRICULTURAL ADVISORIES\",\n",
      "    \"FIRE ADVISORIES\",\n",
      "    \"GEOLOGICAL ADVISORIES\",\n",
      "    \"HEALTH ADVISORIES\",\n",
      "    \"HYDROLOGICAL ADVISORIES\",\n",
      "    \"MARINE ADVISORIES\",\n",
      "    \"SPACE WEATHER ADVISORIES\",\n",
      "    \"WEATHER/CLIMATE ADVISORIES\",\n",
      "    \"DISASTER RECOVERY/RELIEF\",\n",
      "    \"DISASTER RESPONSE\",\n",
      "    \"HAZARDS MAPPING\",\n",
      "    \"HAZARDS MITIGATION\",\n",
      "    \"HAZARDS PLANNING\",\n",
      "    \"AUTHORING TOOLS\",\n",
      "    \"DATA DISCOVERY\",\n",
      "    \"METADATA TRANSFORMATION/CONVERSION\",\n",
      "    \"SERVICE DISCOVERY\",\n",
      "    \"ANCILLARY MODELS\",\n",
      "    \"ATMOSPHERIC CHEMISTRY MODELS\",\n",
      "    \"ATMOSPHERIC GENERAL CIRCULATION MODELS\",\n",
      "    \"CARBON CYCLE/CARBON BUDGET MODELS\",\n",
      "    \"CLIMATE CHANGE IMPACT ASSESSMENT MODELS\",\n",
      "    \"COMPONENT PROCESS MODELS\",\n",
      "    \"COUPLED CLIMATE MODELS\",\n",
      "    \"CRYOSPHERE MODELS\",\n",
      "    \"DIGITAL ELEVATION/DIGITAL TERRAIN MODELS\",\n",
      "    \"DYNAMIC VEGETATION/ECOSYSTEM MODELS\",\n",
      "    \"EARTH SCIENCE REANALYSES/ASSIMILATION MODELS\",\n",
      "    \"GEOLOGIC/TECTONIC/PALEOCLIMATE MODELS\",\n",
      "    \"GLACIO-HYDROLOGICAL MODELS\",\n",
      "    \"HYDROLOGIC AND TERRESTRIAL WATER CYCLE MODELS\",\n",
      "    \"LAND SURFACE MODELS\",\n",
      "    \"OCEAN GENERAL CIRCULATION MODELS (OGCM)/REGIONAL OCEAN MODELS\",\n",
      "    \"PHENOMENOLOGICAL MODELS\",\n",
      "    \"PHYSICAL/LABORATORY MODELS\",\n",
      "    \"REGULATORY MODELS\",\n",
      "    \"SOCIAL AND ECONOMIC MODELS\",\n",
      "    \"SOLAR-ATMOSPHERE/SPACE-WEATHER MODELS\",\n",
      "    \"SPECIES DISTRIBUTION MODELS\",\n",
      "    \"WEATHER RESEARCH/FORECAST MODELS\",\n",
      "    \"BIBLIOGRAPHIC\",\n",
      "    \"DIGITAL/VIRTUAL REFERENCE DESKS\",\n",
      "    \"GAZETTEER\",\n",
      "    \"IDENTIFICATION/CLASSIFICATION SYSTEMS\",\n",
      "    \"KNOWLEDGE/DECISION SYSTEMS\",\n",
      "    \"SUBSCRIPTION SERVICES\",\n",
      "    \"THESAURI\",\n",
      "    \"DATA APPLICATION SERVICES\",\n",
      "    \"DATA PROCESSING SERVICES\",\n",
      "    \"INFORMATION MANAGEMENT SERVICES\",\n",
      "    \"AGRICULTURAL AQUATIC SCIENCES\",\n",
      "    \"AGRICULTURAL CHEMICALS\",\n",
      "    \"AGRICULTURAL ENGINEERING\",\n",
      "    \"AGRICULTURAL PLANT SCIENCE\",\n",
      "    \"ANIMAL COMMODITIES\",\n",
      "    \"ANIMAL SCIENCE\",\n",
      "    \"FEED PRODUCTS\",\n",
      "    \"FOOD SCIENCE\",\n",
      "    \"FOREST SCIENCE\",\n",
      "    \"PLANT COMMODITIES\",\n",
      "    \"SOILS\",\n",
      "    \"AEROSOLS\",\n",
      "    \"AIR QUALITY\",\n",
      "    \"ALTITUDE\",\n",
      "    \"ATMOSPHERIC CHEMISTRY\",\n",
      "    \"ATMOSPHERIC ELECTRICITY\",\n",
      "    \"ATMOSPHERIC PRESSURE\",\n",
      "    \"ATMOSPHERIC RADIATION\",\n",
      "    \"ATMOSPHERIC TEMPERATURE\",\n",
      "    \"ATMOSPHERIC WATER VAPOR\",\n",
      "    \"ATMOSPHERIC WINDS\",\n",
      "    \"CLOUDS\",\n",
      "    \"PRECIPITATION\",\n",
      "    \"WEATHER EVENTS\",\n",
      "    \"ANIMALS/INVERTEBRATES\",\n",
      "    \"ANIMALS/VERTEBRATES\",\n",
      "    \"BACTERIA/ARCHAEA\",\n",
      "    \"FUNGI\",\n",
      "    \"PLANTS\",\n",
      "    \"PROTISTS\",\n",
      "    \"VIRUSES\",\n",
      "    \"ECOLOGICAL DYNAMICS\",\n",
      "    \"ECOSYSTEMS\",\n",
      "    \"VEGETATION\",\n",
      "    \"ATMOSPHERIC/OCEAN INDICATORS\",\n",
      "    \"BIOSPHERIC INDICATORS\",\n",
      "    \"CARBON FLUX\",\n",
      "    \"CLIMATE FEEDBACKS\",\n",
      "    \"CRYOSPHERIC INDICATORS\",\n",
      "    \"ENVIRONMENTAL VULNERABILITY INDEX (EVI)\",\n",
      "    \"LAND SURFACE/AGRICULTURE INDICATORS\",\n",
      "    \"PALEOCLIMATE INDICATORS\",\n",
      "    \"REGIONAL CLIMATE LEVELS\",\n",
      "    \"SUN-EARTH INTERACTIONS\",\n",
      "    \"TERRESTRIAL HYDROSPHERE INDICATORS\",\n",
      "    \"FROZEN GROUND\",\n",
      "    \"GLACIERS/ICE SHEETS\",\n",
      "    \"LAND ICE/OCEAN CLASSIFICATION\",\n",
      "    \"SEA ICE\",\n",
      "    \"SNOW/ICE\",\n",
      "    \"BOUNDARIES\",\n",
      "    \"ECONOMIC RESOURCES\",\n",
      "    \"ENVIRONMENTAL GOVERNANCE/MANAGEMENT\",\n",
      "    \"ENVIRONMENTAL IMPACTS\",\n",
      "    \"GLOBAL CHANGE RESPONSES\",\n",
      "    \"HABITAT CONVERSION/FRAGMENTATION\",\n",
      "    \"HUMAN SETTLEMENTS\",\n",
      "    \"INFRASTRUCTURE\",\n",
      "    \"NATURAL HAZARDS\",\n",
      "    \"POPULATION\",\n",
      "    \"PUBLIC HEALTH\",\n",
      "    \"SOCIAL BEHAVIOR\",\n",
      "    \"SOCIOECONOMICS\",\n",
      "    \"SUSTAINABILITY\",\n",
      "    \"EROSION/SEDIMENTATION\",\n",
      "    \"GEOMORPHIC LANDFORMS/PROCESSES\",\n",
      "    \"LAND USE/LAND COVER\",\n",
      "    \"LANDSCAPE\",\n",
      "    \"SURFACE RADIATIVE PROPERTIES\",\n",
      "    \"SURFACE THERMAL PROPERTIES\",\n",
      "    \"TOPOGRAPHY\",\n",
      "    \"AQUATIC SCIENCES\",\n",
      "    \"BATHYMETRY/SEAFLOOR TOPOGRAPHY\",\n",
      "    \"COASTAL PROCESSES\",\n",
      "    \"MARINE ENVIRONMENT MONITORING\",\n",
      "    \"MARINE GEOPHYSICS\",\n",
      "    \"MARINE SEDIMENTS\",\n",
      "    \"MARINE VOLCANISM\",\n",
      "    \"OCEAN ACOUSTICS\",\n",
      "    \"OCEAN CHEMISTRY\",\n",
      "    \"OCEAN CIRCULATION\",\n",
      "    \"OCEAN HEAT BUDGET\",\n",
      "    \"OCEAN OPTICS\",\n",
      "    \"OCEAN PRESSURE\",\n",
      "    \"OCEAN TEMPERATURE\",\n",
      "    \"OCEAN WAVES\",\n",
      "    \"OCEAN WINDS\",\n",
      "    \"SALINITY/DENSITY\",\n",
      "    \"SEA SURFACE TOPOGRAPHY\",\n",
      "    \"TIDES\",\n",
      "    \"WATER QUALITY\",\n",
      "    \"ICE CORE RECORDS\",\n",
      "    \"LAND RECORDS\",\n",
      "    \"OCEAN/LAKE RECORDS\",\n",
      "    \"PALEOCLIMATE RECONSTRUCTIONS\",\n",
      "    \"EARTH GASES/LIQUIDS\",\n",
      "    \"GEOCHEMISTRY\",\n",
      "    \"GEODETICS\",\n",
      "    \"GEOMAGNETISM\",\n",
      "    \"GEOTHERMAL DYNAMICS\",\n",
      "    \"GRAVITY/GRAVITATIONAL FIELD\",\n",
      "    \"ROCKS/MINERALS/CRYSTALS\",\n",
      "    \"TECTONICS\",\n",
      "    \"GAMMA RAY\",\n",
      "    \"INFRARED WAVELENGTHS\",\n",
      "    \"LIDAR\",\n",
      "    \"MICROWAVE\",\n",
      "    \"PLATFORM CHARACTERISTICS\",\n",
      "    \"RADAR\",\n",
      "    \"RADIO WAVE\",\n",
      "    \"SENSOR CHARACTERISTICS\",\n",
      "    \"ULTRAVIOLET WAVELENGTHS\",\n",
      "    \"VISIBLE WAVELENGTHS\",\n",
      "    \"X-RAY\",\n",
      "    \"IONOSPHERE/MAGNETOSPHERE DYNAMICS\",\n",
      "    \"SOLAR ACTIVITY\",\n",
      "    \"SOLAR ENERGETIC PARTICLE FLUX\",\n",
      "    \"SOLAR ENERGETIC PARTICLE PROPERTIES\",\n",
      "    \"GROUND WATER\",\n",
      "    \"SURFACE WATER\",\n",
      "    \"WATER BUDGET\",\n",
      "    \"WATER QUALITY/WATER CHEMISTRY\"\n",
      "  ]\n",
      "}\n"
     ]
    }
   ],
   "source": [
    "print(dumps({d: sciencekeywords[d] for d in ['Category', 'Topic', 'Term']}, indent=2))"
   ]
  },
  {
   "cell_type": "markdown",
   "metadata": {},
   "source": [
    "### temporalresolutionrange"
   ]
  },
  {
   "cell_type": "code",
   "execution_count": 38,
   "metadata": {
    "ExecuteTime": {
     "end_time": "2020-07-24T06:05:06.904184Z",
     "start_time": "2020-07-24T06:05:06.901106Z"
    }
   },
   "outputs": [
    {
     "data": {
      "text/plain": [
       "Index(['Temporal_Resolution_Range', 'UUID'], dtype='object')"
      ]
     },
     "execution_count": 38,
     "metadata": {},
     "output_type": "execute_result"
    }
   ],
   "source": [
    "KEYWORDS['temporalresolutionrange'][0].columns"
   ]
  },
  {
   "cell_type": "code",
   "execution_count": 39,
   "metadata": {
    "ExecuteTime": {
     "end_time": "2020-07-24T06:05:06.913636Z",
     "start_time": "2020-07-24T06:05:06.906941Z"
    }
   },
   "outputs": [
    {
     "data": {
      "text/html": [
       "<div>\n",
       "<style scoped>\n",
       "    .dataframe tbody tr th:only-of-type {\n",
       "        vertical-align: middle;\n",
       "    }\n",
       "\n",
       "    .dataframe tbody tr th {\n",
       "        vertical-align: top;\n",
       "    }\n",
       "\n",
       "    .dataframe thead th {\n",
       "        text-align: right;\n",
       "    }\n",
       "</style>\n",
       "<table border=\"1\" class=\"dataframe\">\n",
       "  <thead>\n",
       "    <tr style=\"text-align: right;\">\n",
       "      <th></th>\n",
       "      <th>Temporal_Resolution_Range</th>\n",
       "      <th>UUID</th>\n",
       "    </tr>\n",
       "  </thead>\n",
       "  <tbody>\n",
       "    <tr>\n",
       "      <th>0</th>\n",
       "      <td>1 minute - &lt; 1 hour</td>\n",
       "      <td>bca20202-2b06-4657-a425-5b0e416bce0c</td>\n",
       "    </tr>\n",
       "    <tr>\n",
       "      <th>1</th>\n",
       "      <td>1 second - &lt; 1 minute</td>\n",
       "      <td>48ff676f-836c-4cff-bc88-4c4cc06b2e1b</td>\n",
       "    </tr>\n",
       "    <tr>\n",
       "      <th>2</th>\n",
       "      <td>&lt; 1 second</td>\n",
       "      <td>42a2f639-d1c3-4e82-a8b8-63f0f4a60ac6</td>\n",
       "    </tr>\n",
       "    <tr>\n",
       "      <th>3</th>\n",
       "      <td>Annual Climatology</td>\n",
       "      <td>af931dca-9a7d-4ba9-b40f-2a21e31f2d5b</td>\n",
       "    </tr>\n",
       "    <tr>\n",
       "      <th>4</th>\n",
       "      <td>Annual</td>\n",
       "      <td>40e09855-fb48-4a7d-9851-d6e809e6c309</td>\n",
       "    </tr>\n",
       "    <tr>\n",
       "      <th>5</th>\n",
       "      <td>Climate Normal (30-year climatology)</td>\n",
       "      <td>f308a8db-40ea-4932-a58c-fb0a093959dc</td>\n",
       "    </tr>\n",
       "    <tr>\n",
       "      <th>6</th>\n",
       "      <td>Daily - &lt; Weekly</td>\n",
       "      <td>1ac968ef-a90a-4ffc-adbf-ea0c0d69a7f9</td>\n",
       "    </tr>\n",
       "    <tr>\n",
       "      <th>7</th>\n",
       "      <td>Daily Climatology</td>\n",
       "      <td>f86e464a-cf9d-4e15-a39b-501855d1dc5a</td>\n",
       "    </tr>\n",
       "    <tr>\n",
       "      <th>8</th>\n",
       "      <td>Decadal</td>\n",
       "      <td>3d97e993-dc6a-41ff-8a49-3e837c1fc2b1</td>\n",
       "    </tr>\n",
       "    <tr>\n",
       "      <th>9</th>\n",
       "      <td>Diurnal</td>\n",
       "      <td>99ef187e-6940-4c10-8d65-00d4426d493b</td>\n",
       "    </tr>\n",
       "    <tr>\n",
       "      <th>10</th>\n",
       "      <td>Hourly - &lt; Daily</td>\n",
       "      <td>31765761-b153-478a-92b3-1088997fd74b</td>\n",
       "    </tr>\n",
       "    <tr>\n",
       "      <th>11</th>\n",
       "      <td>Hourly Climatology</td>\n",
       "      <td>027dee16-b361-481e-868d-add966eb5b71</td>\n",
       "    </tr>\n",
       "    <tr>\n",
       "      <th>12</th>\n",
       "      <td>Monthly - &lt; Annual</td>\n",
       "      <td>8900c323-8789-4403-91e9-c399de369935</td>\n",
       "    </tr>\n",
       "    <tr>\n",
       "      <th>13</th>\n",
       "      <td>Monthly Climatology</td>\n",
       "      <td>8c8c70b1-f6c5-4f34-89b5-510049b8c8ab</td>\n",
       "    </tr>\n",
       "    <tr>\n",
       "      <th>14</th>\n",
       "      <td>Pentad Climatology</td>\n",
       "      <td>e0040d4b-e398-4b65-bd42-d39434b5cc95</td>\n",
       "    </tr>\n",
       "    <tr>\n",
       "      <th>15</th>\n",
       "      <td>Seasonal</td>\n",
       "      <td>7c5420a6-94e2-40ca-9dff-20309090d327</td>\n",
       "    </tr>\n",
       "    <tr>\n",
       "      <th>16</th>\n",
       "      <td>Subannual</td>\n",
       "      <td>7afdb8ba-a504-45b6-b301-730e3c69d23a</td>\n",
       "    </tr>\n",
       "    <tr>\n",
       "      <th>17</th>\n",
       "      <td>Weekly - &lt; Monthly</td>\n",
       "      <td>7b2a303c-3cb7-4961-9851-650548964674</td>\n",
       "    </tr>\n",
       "    <tr>\n",
       "      <th>18</th>\n",
       "      <td>Weekly Climatology</td>\n",
       "      <td>2de882f0-d84a-471e-8fb5-9f8a1c7913c1</td>\n",
       "    </tr>\n",
       "  </tbody>\n",
       "</table>\n",
       "</div>"
      ],
      "text/plain": [
       "               Temporal_Resolution_Range                                  UUID\n",
       "0                    1 minute - < 1 hour  bca20202-2b06-4657-a425-5b0e416bce0c\n",
       "1                  1 second - < 1 minute  48ff676f-836c-4cff-bc88-4c4cc06b2e1b\n",
       "2                             < 1 second  42a2f639-d1c3-4e82-a8b8-63f0f4a60ac6\n",
       "3                     Annual Climatology  af931dca-9a7d-4ba9-b40f-2a21e31f2d5b\n",
       "4                                 Annual  40e09855-fb48-4a7d-9851-d6e809e6c309\n",
       "5   Climate Normal (30-year climatology)  f308a8db-40ea-4932-a58c-fb0a093959dc\n",
       "6                       Daily - < Weekly  1ac968ef-a90a-4ffc-adbf-ea0c0d69a7f9\n",
       "7                      Daily Climatology  f86e464a-cf9d-4e15-a39b-501855d1dc5a\n",
       "8                                Decadal  3d97e993-dc6a-41ff-8a49-3e837c1fc2b1\n",
       "9                                Diurnal  99ef187e-6940-4c10-8d65-00d4426d493b\n",
       "10                      Hourly - < Daily  31765761-b153-478a-92b3-1088997fd74b\n",
       "11                    Hourly Climatology  027dee16-b361-481e-868d-add966eb5b71\n",
       "12                    Monthly - < Annual  8900c323-8789-4403-91e9-c399de369935\n",
       "13                   Monthly Climatology  8c8c70b1-f6c5-4f34-89b5-510049b8c8ab\n",
       "14                    Pentad Climatology  e0040d4b-e398-4b65-bd42-d39434b5cc95\n",
       "15                              Seasonal  7c5420a6-94e2-40ca-9dff-20309090d327\n",
       "16                             Subannual  7afdb8ba-a504-45b6-b301-730e3c69d23a\n",
       "17                    Weekly - < Monthly  7b2a303c-3cb7-4961-9851-650548964674\n",
       "18                    Weekly Climatology  2de882f0-d84a-471e-8fb5-9f8a1c7913c1"
      ]
     },
     "execution_count": 39,
     "metadata": {},
     "output_type": "execute_result"
    }
   ],
   "source": [
    "KEYWORDS['temporalresolutionrange'][0]"
   ]
  },
  {
   "cell_type": "markdown",
   "metadata": {},
   "source": [
    "### verticalresolutionrange"
   ]
  },
  {
   "cell_type": "code",
   "execution_count": 40,
   "metadata": {
    "ExecuteTime": {
     "end_time": "2020-07-24T06:05:07.139470Z",
     "start_time": "2020-07-24T06:05:07.136297Z"
    }
   },
   "outputs": [
    {
     "data": {
      "text/plain": [
       "Index(['Vertical_Resolution_Range', 'UUID'], dtype='object')"
      ]
     },
     "execution_count": 40,
     "metadata": {},
     "output_type": "execute_result"
    }
   ],
   "source": [
    "KEYWORDS['verticalresolutionrange'][0].columns"
   ]
  },
  {
   "cell_type": "code",
   "execution_count": 41,
   "metadata": {
    "ExecuteTime": {
     "end_time": "2020-07-24T06:05:07.146401Z",
     "start_time": "2020-07-24T06:05:07.141130Z"
    }
   },
   "outputs": [
    {
     "data": {
      "text/html": [
       "<div>\n",
       "<style scoped>\n",
       "    .dataframe tbody tr th:only-of-type {\n",
       "        vertical-align: middle;\n",
       "    }\n",
       "\n",
       "    .dataframe tbody tr th {\n",
       "        vertical-align: top;\n",
       "    }\n",
       "\n",
       "    .dataframe thead th {\n",
       "        text-align: right;\n",
       "    }\n",
       "</style>\n",
       "<table border=\"1\" class=\"dataframe\">\n",
       "  <thead>\n",
       "    <tr style=\"text-align: right;\">\n",
       "      <th></th>\n",
       "      <th>Vertical_Resolution_Range</th>\n",
       "      <th>UUID</th>\n",
       "    </tr>\n",
       "  </thead>\n",
       "  <tbody>\n",
       "    <tr>\n",
       "      <th>0</th>\n",
       "      <td>1 meter - &lt; 10 meters</td>\n",
       "      <td>201337ea-fa14-4e58-a538-e92c5ff734a4</td>\n",
       "    </tr>\n",
       "    <tr>\n",
       "      <th>1</th>\n",
       "      <td>10 meters - &lt; 30 meters</td>\n",
       "      <td>20505a5b-4df8-4430-83a3-ad7b212c9bfc</td>\n",
       "    </tr>\n",
       "    <tr>\n",
       "      <th>2</th>\n",
       "      <td>100 meters - &lt; 1 km</td>\n",
       "      <td>eccf8700-c503-46a3-b6f7-86cf7e48465a</td>\n",
       "    </tr>\n",
       "    <tr>\n",
       "      <th>3</th>\n",
       "      <td>30 meters - &lt; 100 meters</td>\n",
       "      <td>a66aa809-5320-408d-9cbe-86ed7940b8ec</td>\n",
       "    </tr>\n",
       "    <tr>\n",
       "      <th>4</th>\n",
       "      <td>&lt; 1 meter</td>\n",
       "      <td>cf1f085e-4948-4874-9640-e236fff7bc8d</td>\n",
       "    </tr>\n",
       "    <tr>\n",
       "      <th>5</th>\n",
       "      <td>&gt; 1 km</td>\n",
       "      <td>3f0aa4fc-802c-4804-9f9f-8b666f3a2776</td>\n",
       "    </tr>\n",
       "    <tr>\n",
       "      <th>6</th>\n",
       "      <td>Point Resolution</td>\n",
       "      <td>0893353d-4e8c-4b31-bcc5-fce552ccfff3</td>\n",
       "    </tr>\n",
       "  </tbody>\n",
       "</table>\n",
       "</div>"
      ],
      "text/plain": [
       "  Vertical_Resolution_Range                                  UUID\n",
       "0     1 meter - < 10 meters  201337ea-fa14-4e58-a538-e92c5ff734a4\n",
       "1   10 meters - < 30 meters  20505a5b-4df8-4430-83a3-ad7b212c9bfc\n",
       "2       100 meters - < 1 km  eccf8700-c503-46a3-b6f7-86cf7e48465a\n",
       "3  30 meters - < 100 meters  a66aa809-5320-408d-9cbe-86ed7940b8ec\n",
       "4                 < 1 meter  cf1f085e-4948-4874-9640-e236fff7bc8d\n",
       "5                    > 1 km  3f0aa4fc-802c-4804-9f9f-8b666f3a2776\n",
       "6          Point Resolution  0893353d-4e8c-4b31-bcc5-fce552ccfff3"
      ]
     },
     "execution_count": 41,
     "metadata": {},
     "output_type": "execute_result"
    }
   ],
   "source": [
    "KEYWORDS['verticalresolutionrange'][0]"
   ]
  },
  {
   "cell_type": "markdown",
   "metadata": {
    "ExecuteTime": {
     "end_time": "2020-07-24T02:29:00.335333Z",
     "start_time": "2020-07-24T02:29:00.333085Z"
    }
   },
   "source": [
    "## cf standard_name summaries"
   ]
  },
  {
   "cell_type": "code",
   "execution_count": null,
   "metadata": {},
   "outputs": [],
   "source": []
  },
  {
   "cell_type": "markdown",
   "metadata": {},
   "source": [
    "## smode\n",
    "\n",
    "Use curative approach to cross-reference and populate metadata tables."
   ]
  },
  {
   "cell_type": "markdown",
   "metadata": {},
   "source": [
    "Check for files in smode [`../references`](../references/) + [`../references/attributes`](../references/attributes/) directories:"
   ]
  },
  {
   "cell_type": "code",
   "execution_count": 42,
   "metadata": {
    "ExecuteTime": {
     "end_time": "2020-07-24T06:05:07.754974Z",
     "start_time": "2020-07-24T06:05:07.750137Z"
    }
   },
   "outputs": [
    {
     "data": {
      "text/plain": [
       "(['../references/references.json',\n",
       "  '../references/people.csv',\n",
       "  '../references/authors.json',\n",
       "  '../references/README.md',\n",
       "  '../references/attributes',\n",
       "  '../references/instruments.csv'],\n",
       " ['../references/attributes/attribute-reference_1_2.xlsx',\n",
       "  '../references/attributes/attribute-reference_FB.xlsx',\n",
       "  '../references/attributes/README.md',\n",
       "  '../references/attributes/~$attribute-reference_1_2.xlsx',\n",
       "  '../references/attributes/attribute-reference_1_1.xlsx'])"
      ]
     },
     "execution_count": 42,
     "metadata": {},
     "output_type": "execute_result"
    }
   ],
   "source": [
    "from glob import glob\n",
    "refs_dir = \"../references\"\n",
    "atts_dir = f\"{refs_dir}/attributes\"\n",
    "_refs, _atts = glob(f\"{refs_dir}/*\"), glob(f\"{atts_dir}/*\")\n",
    "_refs, _atts"
   ]
  },
  {
   "cell_type": "markdown",
   "metadata": {},
   "source": [
    "This JSON will manage the details to describe each of the contents of the smode references directory."
   ]
  },
  {
   "cell_type": "code",
   "execution_count": 43,
   "metadata": {
    "ExecuteTime": {
     "end_time": "2020-07-24T06:05:07.942688Z",
     "start_time": "2020-07-24T06:05:07.938726Z"
    }
   },
   "outputs": [
    {
     "data": {
      "text/plain": [
       "{'REFERENCES': ('../references/references.json', '<file_description>'),\n",
       " 'PEOPLE': ('../references/people.csv', '<file_description>'),\n",
       " 'AUTHORS': ('../references/authors.json', '<file_description>'),\n",
       " 'INSTRUMENTS': ('../references/instruments.csv', '<file_description>')}"
      ]
     },
     "execution_count": 43,
     "metadata": {},
     "output_type": "execute_result"
    }
   ],
   "source": [
    "references = {splitext(basename(f))[0].upper(): (f, \"<file_description>\",\n",
    "    ) for f in _refs if isfile(f) and not f.endswith(\"README.md\")}\n",
    "\n",
    "references"
   ]
  },
  {
   "cell_type": "code",
   "execution_count": 44,
   "metadata": {
    "ExecuteTime": {
     "end_time": "2020-07-24T06:05:07.946952Z",
     "start_time": "2020-07-24T06:05:07.944231Z"
    }
   },
   "outputs": [],
   "source": [
    "with open(\"../references/references.json\", \"w\") as f:\n",
    "    f.write(dumps(references, indent=2))"
   ]
  },
  {
   "cell_type": "markdown",
   "metadata": {},
   "source": [
    "### datasets\n",
    "\n",
    "Read the files we started with and manipulate."
   ]
  },
  {
   "cell_type": "code",
   "execution_count": 45,
   "metadata": {
    "ExecuteTime": {
     "end_time": "2020-07-24T06:05:08.195880Z",
     "start_time": "2020-07-24T06:05:08.121268Z"
    }
   },
   "outputs": [
    {
     "data": {
      "text/plain": [
       "ID                    SMODE-KABR2\n",
       "LEVEL                          L2\n",
       "DESCRIPTION         Ka-band radar\n",
       "PEOPLE         Rodriguez, Siquera\n",
       "INSTITUTION           UMass / JPL\n",
       "VOLUME                  TBD / TBD\n",
       "FORMAT                     netCDF\n",
       "TEMPLATE                      NaN\n",
       "Name: 0, dtype: object"
      ]
     },
     "execution_count": 45,
     "metadata": {},
     "output_type": "execute_result"
    }
   ],
   "source": [
    "dset = read_excel(_atts[0], sheet_name=1, names=[\n",
    "    'ID',\n",
    "    'LEVEL',\n",
    "    'DESCRIPTION',\n",
    "    'PEOPLE',\n",
    "    'INSTITUTION',\n",
    "    'VOLUME',\n",
    "    'FORMAT',\n",
    "    'TEMPLATE',\n",
    "])\n",
    "dset.iloc[0]"
   ]
  },
  {
   "cell_type": "markdown",
   "metadata": {},
   "source": [
    "#### cleanup"
   ]
  },
  {
   "cell_type": "code",
   "execution_count": 46,
   "metadata": {
    "ExecuteTime": {
     "end_time": "2020-07-24T06:05:08.307131Z",
     "start_time": "2020-07-24T06:05:08.300080Z"
    }
   },
   "outputs": [
    {
     "data": {
      "text/plain": [
       "ID                     SMODE-KABR2\n",
       "LEVEL                           L2\n",
       "DESCRIPTION          Ka-band radar\n",
       "PEOPLE          Rodriguez, Siquera\n",
       "INSTITUTION            UMass / JPL\n",
       "VOLUME                   TBD / TBD\n",
       "FORMAT                      netCDF\n",
       "TEMPLATE                       NaN\n",
       "FILE_VOLUME                    TBD\n",
       "TOTAL_VOLUME                   TBD\n",
       "Name: 0, dtype: object"
      ]
     },
     "execution_count": 46,
     "metadata": {},
     "output_type": "execute_result"
    }
   ],
   "source": [
    "dset.VOLUME.at[17] = \"TBD / TBD\"\n",
    "dset.VOLUME.at[18] = \"TBD / TBD\"\n",
    "dset['FILE_VOLUME'] = dset.VOLUME.apply(lambda x: x.split(\" / \")[0])\n",
    "dset['TOTAL_VOLUME'] = dset.VOLUME.apply(lambda x: x.split(\" / \")[1])\n",
    "dset.iloc[0]"
   ]
  },
  {
   "cell_type": "markdown",
   "metadata": {},
   "source": [
    "Use JSON as the reference format for columns/fields that are lists or otherwise nested."
   ]
  },
  {
   "cell_type": "markdown",
   "metadata": {},
   "source": [
    "**Turn the enum columns into reference files.**\n",
    "\n",
    "These are the master copies of the curated metadata. We merge all optimizations into these."
   ]
  },
  {
   "cell_type": "code",
   "execution_count": 47,
   "metadata": {
    "ExecuteTime": {
     "end_time": "2020-07-24T06:05:08.695799Z",
     "start_time": "2020-07-24T06:05:08.691787Z"
    }
   },
   "outputs": [
    {
     "data": {
      "text/plain": [
       "['Rodriguez, Siquera']"
      ]
     },
     "execution_count": 47,
     "metadata": {},
     "output_type": "execute_result"
    }
   ],
   "source": [
    "dset.PEOPLE = dset.PEOPLE.apply(lambda x: x.split(\" / \"))\n",
    "dset.PEOPLE.iloc[0]"
   ]
  },
  {
   "cell_type": "code",
   "execution_count": 48,
   "metadata": {
    "ExecuteTime": {
     "end_time": "2020-07-24T06:05:08.701922Z",
     "start_time": "2020-07-24T06:05:08.697489Z"
    }
   },
   "outputs": [
    {
     "data": {
      "text/plain": [
       "{'SMODE-KABR2': ['RODRIGUEZ, SIQUERA'],\n",
       " 'SMODE-POLC2': ['ZAPPA'],\n",
       " 'SMODE-DSCA2': ['RODRIGUEZ, SIQUERA'],\n",
       " 'SMODE-PRSM0': ['GIERACH, THOMPSON'],\n",
       " 'SMODE-PRSM1': ['GIERACH, THOMPSON'],\n",
       " 'SMODE-PRSM2': ['GIERACH, THOMPSON'],\n",
       " 'SMODE-MASS0': ['LENAIN'],\n",
       " 'SMODE-MASS1': ['LENAIN'],\n",
       " 'SMODE-MOSE0': ['MOLEMAKER'],\n",
       " 'SMODE-MOSE1': ['MOLEMAKER'],\n",
       " 'SMODE-MOSE2': ['MOLEMAKER'],\n",
       " 'SMODE-MOSE3': ['MOLEMAKER'],\n",
       " 'SMODE-DSCT0': ['RODRIGUEZ'],\n",
       " 'SMODE-DSCT1': ['RODRIGUEZ'],\n",
       " 'SMODE-DSCT2': ['RODRIGUEZ'],\n",
       " 'SMODE-CTD00': ['OMAND'],\n",
       " 'SMODE-UCTD0': ['OMAND'],\n",
       " 'SMODE-UNOLS': ['OMAND'],\n",
       " 'SMODE-BIOPT': ['OMAND, MAHADEVAN'],\n",
       " 'SMODE-GLID3': ['FARRAR'],\n",
       " 'SMODE-FLOAT': ['SHCHERBINA'],\n",
       " 'SMODE-DRIFT': ['SHCHERBINA'],\n",
       " 'SMODE-SDRON': ['ROCHA'],\n",
       " 'SMODE-SONDE': ['ONEILL'],\n",
       " 'SMODE-GLID1': ['FARRAR'],\n",
       " 'SMODE-SUNA2': ['MAHADAVAN'],\n",
       " 'SMODE-ECTD2': ['MAHADAVAN']}"
      ]
     },
     "execution_count": 48,
     "metadata": {},
     "output_type": "execute_result"
    }
   ],
   "source": [
    "_people = dset.PEOPLE.apply(lambda x: [n.upper().replace(\"'\", \"\") for n in x])\n",
    "authors = dict(zip(dset.ID.tolist(), _people))\n",
    "authors"
   ]
  },
  {
   "cell_type": "markdown",
   "metadata": {},
   "source": [
    "This will be my lookup for the authorship details."
   ]
  },
  {
   "cell_type": "code",
   "execution_count": 49,
   "metadata": {
    "ExecuteTime": {
     "end_time": "2020-07-24T06:05:08.913110Z",
     "start_time": "2020-07-24T06:05:08.908982Z"
    }
   },
   "outputs": [],
   "source": [
    "with open(\"../references/authors.json\", \"w\") as f:\n",
    "    f.write(dumps(authors, indent=2))"
   ]
  },
  {
   "cell_type": "markdown",
   "metadata": {},
   "source": [
    "Now make sure I've captured all the people involved:"
   ]
  },
  {
   "cell_type": "code",
   "execution_count": 50,
   "metadata": {
    "ExecuteTime": {
     "end_time": "2020-07-24T06:05:09.100837Z",
     "start_time": "2020-07-24T06:05:09.096525Z"
    }
   },
   "outputs": [
    {
     "data": {
      "text/plain": [
       "['SIQUERA',\n",
       " 'ZAPPA',\n",
       " 'THOMPSON',\n",
       " 'LENAIN',\n",
       " 'FARRAR',\n",
       " 'ONEILL',\n",
       " 'SHCHERBINA',\n",
       " 'RODRIGUEZ',\n",
       " 'MAHADAVAN',\n",
       " 'ROCHA',\n",
       " 'GIERACH',\n",
       " 'MOLEMAKER',\n",
       " 'OMAND',\n",
       " 'MAHADEVAN']"
      ]
     },
     "execution_count": 50,
     "metadata": {},
     "output_type": "execute_result"
    }
   ],
   "source": [
    "_people = list(set(\",\".join(_people.apply(lambda x: \",\".join(x)).tolist()).replace(\" \",\"\").split(\",\")))\n",
    "_people"
   ]
  },
  {
   "cell_type": "code",
   "execution_count": 51,
   "metadata": {
    "ExecuteTime": {
     "end_time": "2020-07-24T06:05:09.110851Z",
     "start_time": "2020-07-24T06:05:09.102615Z"
    }
   },
   "outputs": [
    {
     "name": "stdout",
     "output_type": "stream",
     "text": [
      "../references/people.csv\n"
     ]
    },
    {
     "data": {
      "text/html": [
       "<div>\n",
       "<style scoped>\n",
       "    .dataframe tbody tr th:only-of-type {\n",
       "        vertical-align: middle;\n",
       "    }\n",
       "\n",
       "    .dataframe tbody tr th {\n",
       "        vertical-align: top;\n",
       "    }\n",
       "\n",
       "    .dataframe thead th {\n",
       "        text-align: right;\n",
       "    }\n",
       "</style>\n",
       "<table border=\"1\" class=\"dataframe\">\n",
       "  <thead>\n",
       "    <tr style=\"text-align: right;\">\n",
       "      <th></th>\n",
       "      <th>ROLE</th>\n",
       "      <th>person</th>\n",
       "    </tr>\n",
       "  </thead>\n",
       "  <tbody>\n",
       "    <tr>\n",
       "      <th>0</th>\n",
       "      <td>Principal Investigator</td>\n",
       "      <td>J. Tom Farrar (Woods Hole Oceanographic Instit...</td>\n",
       "    </tr>\n",
       "    <tr>\n",
       "      <th>1</th>\n",
       "      <td>Deputy Principal Investigator</td>\n",
       "      <td>Paul Matthias (Woods Hole Oceanographic Instit...</td>\n",
       "    </tr>\n",
       "    <tr>\n",
       "      <th>2</th>\n",
       "      <td>Deputy PI for Science Data Analysis</td>\n",
       "      <td>Eric D'Asaro (University of Washington)</td>\n",
       "    </tr>\n",
       "    <tr>\n",
       "      <th>3</th>\n",
       "      <td>Deputy PI for In Situ Measurements</td>\n",
       "      <td>Andrey Shcherbina (University of Washington)</td>\n",
       "    </tr>\n",
       "    <tr>\n",
       "      <th>4</th>\n",
       "      <td>Deputy PI for Aircraft Measurements</td>\n",
       "      <td>Ernesto Rodriguez (NASA Jet Propulsion Laborat...</td>\n",
       "    </tr>\n",
       "    <tr>\n",
       "      <th>5</th>\n",
       "      <td>ESSP Program Manager</td>\n",
       "      <td>Gregory Stover (NASA Langley Research Center)</td>\n",
       "    </tr>\n",
       "    <tr>\n",
       "      <th>6</th>\n",
       "      <td>EVS-3 Mission Manager</td>\n",
       "      <td>Jennifer Olson (NASA Langley Research Center)</td>\n",
       "    </tr>\n",
       "    <tr>\n",
       "      <th>7</th>\n",
       "      <td>Program Scientist - Physical Oceanography Program</td>\n",
       "      <td>Nadya Vinogradova-Shiffer (NASA Headquarters)</td>\n",
       "    </tr>\n",
       "    <tr>\n",
       "      <th>8</th>\n",
       "      <td>ESPO Project Manager</td>\n",
       "      <td>Erin Czech (NASA Ames Research Center)</td>\n",
       "    </tr>\n",
       "  </tbody>\n",
       "</table>\n",
       "</div>"
      ],
      "text/plain": [
       "                                                ROLE  \\\n",
       "0                             Principal Investigator   \n",
       "1                      Deputy Principal Investigator   \n",
       "2                Deputy PI for Science Data Analysis   \n",
       "3                 Deputy PI for In Situ Measurements   \n",
       "4                Deputy PI for Aircraft Measurements   \n",
       "5                               ESSP Program Manager   \n",
       "6                              EVS-3 Mission Manager   \n",
       "7  Program Scientist - Physical Oceanography Program   \n",
       "8                               ESPO Project Manager   \n",
       "\n",
       "                                              person  \n",
       "0  J. Tom Farrar (Woods Hole Oceanographic Instit...  \n",
       "1  Paul Matthias (Woods Hole Oceanographic Instit...  \n",
       "2            Eric D'Asaro (University of Washington)  \n",
       "3       Andrey Shcherbina (University of Washington)  \n",
       "4  Ernesto Rodriguez (NASA Jet Propulsion Laborat...  \n",
       "5      Gregory Stover (NASA Langley Research Center)  \n",
       "6      Jennifer Olson (NASA Langley Research Center)  \n",
       "7      Nadya Vinogradova-Shiffer (NASA Headquarters)  \n",
       "8             Erin Czech (NASA Ames Research Center)  "
      ]
     },
     "execution_count": 51,
     "metadata": {},
     "output_type": "execute_result"
    }
   ],
   "source": [
    "print(references['PEOPLE'][0])\n",
    "_peopold = read_csv(references['PEOPLE'][0], header=None, names=['ROLE', 'person'])\n",
    "_peopold"
   ]
  },
  {
   "cell_type": "code",
   "execution_count": 52,
   "metadata": {
    "ExecuteTime": {
     "end_time": "2020-07-24T06:05:09.124232Z",
     "start_time": "2020-07-24T06:05:09.112339Z"
    }
   },
   "outputs": [
    {
     "data": {
      "text/html": [
       "<div>\n",
       "<style scoped>\n",
       "    .dataframe tbody tr th:only-of-type {\n",
       "        vertical-align: middle;\n",
       "    }\n",
       "\n",
       "    .dataframe tbody tr th {\n",
       "        vertical-align: top;\n",
       "    }\n",
       "\n",
       "    .dataframe thead th {\n",
       "        text-align: right;\n",
       "    }\n",
       "</style>\n",
       "<table border=\"1\" class=\"dataframe\">\n",
       "  <thead>\n",
       "    <tr style=\"text-align: right;\">\n",
       "      <th></th>\n",
       "      <th>NAME</th>\n",
       "      <th>ROLE</th>\n",
       "      <th>INSTITUTION</th>\n",
       "    </tr>\n",
       "    <tr>\n",
       "      <th>ID</th>\n",
       "      <th></th>\n",
       "      <th></th>\n",
       "      <th></th>\n",
       "    </tr>\n",
       "  </thead>\n",
       "  <tbody>\n",
       "    <tr>\n",
       "      <th>FARRAR</th>\n",
       "      <td>J. Tom Farrar</td>\n",
       "      <td>Principal Investigator</td>\n",
       "      <td>Woods Hole Oceanographic Institution</td>\n",
       "    </tr>\n",
       "    <tr>\n",
       "      <th>MATTHIAS</th>\n",
       "      <td>Paul Matthias</td>\n",
       "      <td>Deputy Principal Investigator</td>\n",
       "      <td>Woods Hole Oceanographic Institution</td>\n",
       "    </tr>\n",
       "    <tr>\n",
       "      <th>DASARO</th>\n",
       "      <td>Eric D'Asaro</td>\n",
       "      <td>Deputy PI for Science Data Analysis</td>\n",
       "      <td>University of Washington</td>\n",
       "    </tr>\n",
       "    <tr>\n",
       "      <th>SHCHERBINA</th>\n",
       "      <td>Andrey Shcherbina</td>\n",
       "      <td>Deputy PI for In Situ Measurements</td>\n",
       "      <td>University of Washington</td>\n",
       "    </tr>\n",
       "    <tr>\n",
       "      <th>RODRIGUEZ</th>\n",
       "      <td>Ernesto Rodriguez</td>\n",
       "      <td>Deputy PI for Aircraft Measurements</td>\n",
       "      <td>NASA Jet Propulsion Laboratory</td>\n",
       "    </tr>\n",
       "    <tr>\n",
       "      <th>STOVER</th>\n",
       "      <td>Gregory Stover</td>\n",
       "      <td>ESSP Program Manager</td>\n",
       "      <td>NASA Langley Research Center</td>\n",
       "    </tr>\n",
       "    <tr>\n",
       "      <th>OLSON</th>\n",
       "      <td>Jennifer Olson</td>\n",
       "      <td>EVS-3 Mission Manager</td>\n",
       "      <td>NASA Langley Research Center</td>\n",
       "    </tr>\n",
       "    <tr>\n",
       "      <th>VINOGRADOVA-SHIFFER</th>\n",
       "      <td>Nadya Vinogradova-Shiffer</td>\n",
       "      <td>Program Scientist - Physical Oceanography Program</td>\n",
       "      <td>NASA Headquarters</td>\n",
       "    </tr>\n",
       "    <tr>\n",
       "      <th>CZECH</th>\n",
       "      <td>Erin Czech</td>\n",
       "      <td>ESPO Project Manager</td>\n",
       "      <td>NASA Ames Research Center</td>\n",
       "    </tr>\n",
       "  </tbody>\n",
       "</table>\n",
       "</div>"
      ],
      "text/plain": [
       "                                          NAME  \\\n",
       "ID                                               \n",
       "FARRAR                           J. Tom Farrar   \n",
       "MATTHIAS                         Paul Matthias   \n",
       "DASARO                            Eric D'Asaro   \n",
       "SHCHERBINA                   Andrey Shcherbina   \n",
       "RODRIGUEZ                    Ernesto Rodriguez   \n",
       "STOVER                          Gregory Stover   \n",
       "OLSON                           Jennifer Olson   \n",
       "VINOGRADOVA-SHIFFER  Nadya Vinogradova-Shiffer   \n",
       "CZECH                               Erin Czech   \n",
       "\n",
       "                                                                  ROLE  \\\n",
       "ID                                                                       \n",
       "FARRAR                                          Principal Investigator   \n",
       "MATTHIAS                                 Deputy Principal Investigator   \n",
       "DASARO                             Deputy PI for Science Data Analysis   \n",
       "SHCHERBINA                          Deputy PI for In Situ Measurements   \n",
       "RODRIGUEZ                          Deputy PI for Aircraft Measurements   \n",
       "STOVER                                            ESSP Program Manager   \n",
       "OLSON                                            EVS-3 Mission Manager   \n",
       "VINOGRADOVA-SHIFFER  Program Scientist - Physical Oceanography Program   \n",
       "CZECH                                             ESPO Project Manager   \n",
       "\n",
       "                                              INSTITUTION  \n",
       "ID                                                         \n",
       "FARRAR               Woods Hole Oceanographic Institution  \n",
       "MATTHIAS             Woods Hole Oceanographic Institution  \n",
       "DASARO                           University of Washington  \n",
       "SHCHERBINA                       University of Washington  \n",
       "RODRIGUEZ                  NASA Jet Propulsion Laboratory  \n",
       "STOVER                       NASA Langley Research Center  \n",
       "OLSON                        NASA Langley Research Center  \n",
       "VINOGRADOVA-SHIFFER                     NASA Headquarters  \n",
       "CZECH                           NASA Ames Research Center  "
      ]
     },
     "execution_count": 52,
     "metadata": {},
     "output_type": "execute_result"
    }
   ],
   "source": [
    "_peopold = _peopold[['person', 'ROLE']].copy()\n",
    "_peopold['NAME'] = _peopold.person.apply(lambda x: x.split(\" (\")[0])\n",
    "_peopold['ID'] = _peopold.person.apply(lambda x: x.split(\" (\")[0].split(\" \")[-1].replace(\"'\",\"\").upper())\n",
    "_peopold['INSTITUTION'] = _peopold.person.apply(lambda x: x.split(\" (\")[1][:-1])\n",
    "_peopold = _peopold.set_index(\"ID\").copy()\n",
    "_peopold = _peopold[['NAME', 'ROLE', 'INSTITUTION']]\n",
    "_peopold"
   ]
  },
  {
   "cell_type": "code",
   "execution_count": 53,
   "metadata": {
    "ExecuteTime": {
     "end_time": "2020-07-24T06:05:09.130276Z",
     "start_time": "2020-07-24T06:05:09.125589Z"
    }
   },
   "outputs": [
    {
     "name": "stdout",
     "output_type": "stream",
     "text": [
      "# IN:\n",
      "['FARRAR', 'SHCHERBINA', 'RODRIGUEZ']\n",
      "# OUT:\n",
      "['MATTHIAS', 'DASARO', 'STOVER', 'OLSON', 'VINOGRADOVA-SHIFFER', 'CZECH']\n",
      "# IN:\n",
      "['FARRAR', 'SHCHERBINA', 'RODRIGUEZ']\n",
      "# OUT:\n",
      "['SIQUERA', 'ZAPPA', 'THOMPSON', 'LENAIN', 'ONEILL', 'MAHADAVAN', 'ROCHA', 'GIERACH', 'MOLEMAKER', 'OMAND', 'MAHADEVAN']\n"
     ]
    }
   ],
   "source": [
    "_in0, _out0 = [], []\n",
    "for ix, row in _peopold.iterrows():\n",
    "    _is_in = ix in _people\n",
    "    if _is_in:\n",
    "        _in0.append(ix)\n",
    "    else:\n",
    "        _out0.append(ix)\n",
    "        \n",
    "print(f\"# IN:\\n{_in0}\")\n",
    "print(f\"# OUT:\\n{_out0}\")\n",
    "\n",
    "_in1, _out1 = [], []\n",
    "for o in _people:\n",
    "    _is_in = o in _peopold.index.values.tolist()\n",
    "    if _is_in:\n",
    "        _in1.append(o)\n",
    "    else:\n",
    "        _out1.append(o)\n",
    "        \n",
    "print(f\"# IN:\\n{_in1}\")\n",
    "print(f\"# OUT:\\n{_out1}\")"
   ]
  },
  {
   "cell_type": "code",
   "execution_count": 54,
   "metadata": {
    "ExecuteTime": {
     "end_time": "2020-07-24T06:05:09.141333Z",
     "start_time": "2020-07-24T06:05:09.132607Z"
    }
   },
   "outputs": [
    {
     "data": {
      "text/html": [
       "<div>\n",
       "<style scoped>\n",
       "    .dataframe tbody tr th:only-of-type {\n",
       "        vertical-align: middle;\n",
       "    }\n",
       "\n",
       "    .dataframe tbody tr th {\n",
       "        vertical-align: top;\n",
       "    }\n",
       "\n",
       "    .dataframe thead th {\n",
       "        text-align: right;\n",
       "    }\n",
       "</style>\n",
       "<table border=\"1\" class=\"dataframe\">\n",
       "  <thead>\n",
       "    <tr style=\"text-align: right;\">\n",
       "      <th></th>\n",
       "      <th>NAME</th>\n",
       "      <th>ROLE</th>\n",
       "      <th>INSTITUTION</th>\n",
       "    </tr>\n",
       "    <tr>\n",
       "      <th>ID</th>\n",
       "      <th></th>\n",
       "      <th></th>\n",
       "      <th></th>\n",
       "    </tr>\n",
       "  </thead>\n",
       "  <tbody>\n",
       "    <tr>\n",
       "      <th>SIQUERA</th>\n",
       "      <td>siquera</td>\n",
       "      <td>Co-Investigator</td>\n",
       "      <td>None</td>\n",
       "    </tr>\n",
       "    <tr>\n",
       "      <th>ZAPPA</th>\n",
       "      <td>zappa</td>\n",
       "      <td>Co-Investigator</td>\n",
       "      <td>None</td>\n",
       "    </tr>\n",
       "    <tr>\n",
       "      <th>THOMPSON</th>\n",
       "      <td>thompson</td>\n",
       "      <td>Co-Investigator</td>\n",
       "      <td>None</td>\n",
       "    </tr>\n",
       "    <tr>\n",
       "      <th>LENAIN</th>\n",
       "      <td>lenain</td>\n",
       "      <td>Co-Investigator</td>\n",
       "      <td>None</td>\n",
       "    </tr>\n",
       "    <tr>\n",
       "      <th>ONEILL</th>\n",
       "      <td>oneill</td>\n",
       "      <td>Co-Investigator</td>\n",
       "      <td>None</td>\n",
       "    </tr>\n",
       "    <tr>\n",
       "      <th>MAHADAVAN</th>\n",
       "      <td>mahadavan</td>\n",
       "      <td>Co-Investigator</td>\n",
       "      <td>None</td>\n",
       "    </tr>\n",
       "    <tr>\n",
       "      <th>ROCHA</th>\n",
       "      <td>rocha</td>\n",
       "      <td>Co-Investigator</td>\n",
       "      <td>None</td>\n",
       "    </tr>\n",
       "    <tr>\n",
       "      <th>GIERACH</th>\n",
       "      <td>gierach</td>\n",
       "      <td>Co-Investigator</td>\n",
       "      <td>None</td>\n",
       "    </tr>\n",
       "    <tr>\n",
       "      <th>MOLEMAKER</th>\n",
       "      <td>molemaker</td>\n",
       "      <td>Co-Investigator</td>\n",
       "      <td>None</td>\n",
       "    </tr>\n",
       "    <tr>\n",
       "      <th>OMAND</th>\n",
       "      <td>omand</td>\n",
       "      <td>Co-Investigator</td>\n",
       "      <td>None</td>\n",
       "    </tr>\n",
       "    <tr>\n",
       "      <th>MAHADEVAN</th>\n",
       "      <td>mahadevan</td>\n",
       "      <td>Co-Investigator</td>\n",
       "      <td>None</td>\n",
       "    </tr>\n",
       "  </tbody>\n",
       "</table>\n",
       "</div>"
      ],
      "text/plain": [
       "                NAME             ROLE INSTITUTION\n",
       "ID                                               \n",
       "SIQUERA      siquera  Co-Investigator        None\n",
       "ZAPPA          zappa  Co-Investigator        None\n",
       "THOMPSON    thompson  Co-Investigator        None\n",
       "LENAIN        lenain  Co-Investigator        None\n",
       "ONEILL        oneill  Co-Investigator        None\n",
       "MAHADAVAN  mahadavan  Co-Investigator        None\n",
       "ROCHA          rocha  Co-Investigator        None\n",
       "GIERACH      gierach  Co-Investigator        None\n",
       "MOLEMAKER  molemaker  Co-Investigator        None\n",
       "OMAND          omand  Co-Investigator        None\n",
       "MAHADEVAN  mahadevan  Co-Investigator        None"
      ]
     },
     "execution_count": 54,
     "metadata": {},
     "output_type": "execute_result"
    }
   ],
   "source": [
    "_new_people = DataFrame(\n",
    "    [(p, p.lower(), \"Co-Investigator\", None) for p in _out1],\n",
    "    columns=['ID'] + list(_peopold.columns),\n",
    ")\n",
    "_new_people = _new_people.set_index(\"ID\", drop=True).copy()\n",
    "_new_people"
   ]
  },
  {
   "cell_type": "markdown",
   "metadata": {},
   "source": [
    "Harvest some info from the table that we've already come up with for the global attributes. Read corresponding sheet from the XLSX to variable `glbl`:"
   ]
  },
  {
   "cell_type": "code",
   "execution_count": 55,
   "metadata": {
    "ExecuteTime": {
     "end_time": "2020-07-24T06:05:09.344234Z",
     "start_time": "2020-07-24T06:05:09.298890Z"
    }
   },
   "outputs": [
    {
     "data": {
      "text/html": [
       "<div>\n",
       "<style scoped>\n",
       "    .dataframe tbody tr th:only-of-type {\n",
       "        vertical-align: middle;\n",
       "    }\n",
       "\n",
       "    .dataframe tbody tr th {\n",
       "        vertical-align: top;\n",
       "    }\n",
       "\n",
       "    .dataframe thead th {\n",
       "        text-align: right;\n",
       "    }\n",
       "</style>\n",
       "<table border=\"1\" class=\"dataframe\">\n",
       "  <thead>\n",
       "    <tr style=\"text-align: right;\">\n",
       "      <th></th>\n",
       "      <th>DOI</th>\n",
       "      <th>creator_name</th>\n",
       "      <th>creator_institution</th>\n",
       "    </tr>\n",
       "  </thead>\n",
       "  <tbody>\n",
       "    <tr>\n",
       "      <th>0</th>\n",
       "      <td>SMODE-KABR2</td>\n",
       "      <td>Ernesto Rodriguez, Paul Siquera</td>\n",
       "      <td>UMASS-A/</td>\n",
       "    </tr>\n",
       "    <tr>\n",
       "      <th>1</th>\n",
       "      <td>SMODE-POLC2</td>\n",
       "      <td>Christopher J. Zappa</td>\n",
       "      <td>COLUMBIA/LDEO</td>\n",
       "    </tr>\n",
       "    <tr>\n",
       "      <th>2</th>\n",
       "      <td>SMODE-DSCA2</td>\n",
       "      <td>Ernesto Rodriguez, Paul Siquera</td>\n",
       "      <td>UMASS-A/</td>\n",
       "    </tr>\n",
       "    <tr>\n",
       "      <th>3</th>\n",
       "      <td>SMODE-PRSM0</td>\n",
       "      <td>Michelle M. Gierach, Andrew Thompson</td>\n",
       "      <td>NASA/JPL, CALTECH/GPS</td>\n",
       "    </tr>\n",
       "    <tr>\n",
       "      <th>4</th>\n",
       "      <td>SMODE-PRSM1</td>\n",
       "      <td>Michelle M. Gierach, Andrew Thompson</td>\n",
       "      <td>NASA/JPL, CALTECH/GPS</td>\n",
       "    </tr>\n",
       "    <tr>\n",
       "      <th>5</th>\n",
       "      <td>SMODE-PRSM2</td>\n",
       "      <td>Michelle M. Gierach, Andrew Thompson</td>\n",
       "      <td>NASA/JPL, CALTECH/GPS</td>\n",
       "    </tr>\n",
       "    <tr>\n",
       "      <th>6</th>\n",
       "      <td>SMODE-MASS0</td>\n",
       "      <td>Luc Lenain</td>\n",
       "      <td>UC SAN DIEGO/SIO/</td>\n",
       "    </tr>\n",
       "    <tr>\n",
       "      <th>7</th>\n",
       "      <td>SMODE-MASS1</td>\n",
       "      <td>Luc Lenain</td>\n",
       "      <td>UC SAN DIEGO/SIO/</td>\n",
       "    </tr>\n",
       "    <tr>\n",
       "      <th>8</th>\n",
       "      <td>SMODE-MASS2</td>\n",
       "      <td>Luc Lenain</td>\n",
       "      <td>UC SAN DIEGO/SIO/</td>\n",
       "    </tr>\n",
       "    <tr>\n",
       "      <th>9</th>\n",
       "      <td>SMODE-MOSE0</td>\n",
       "      <td>Jeroen Molemaker</td>\n",
       "      <td>UCLA/</td>\n",
       "    </tr>\n",
       "    <tr>\n",
       "      <th>10</th>\n",
       "      <td>SMODE-MOSE1</td>\n",
       "      <td>Jeroen Molemaker</td>\n",
       "      <td>UCLA/</td>\n",
       "    </tr>\n",
       "    <tr>\n",
       "      <th>11</th>\n",
       "      <td>SMODE-MOSE2</td>\n",
       "      <td>Jeroen Molemaker</td>\n",
       "      <td>UCLA/</td>\n",
       "    </tr>\n",
       "    <tr>\n",
       "      <th>12</th>\n",
       "      <td>SMODE-MOSE3</td>\n",
       "      <td>Jeroen Molemaker</td>\n",
       "      <td>UCLA/</td>\n",
       "    </tr>\n",
       "    <tr>\n",
       "      <th>13</th>\n",
       "      <td>SMODE-DSCT0</td>\n",
       "      <td>Ernesto Rodriguez</td>\n",
       "      <td>NASA/JPL</td>\n",
       "    </tr>\n",
       "    <tr>\n",
       "      <th>14</th>\n",
       "      <td>SMODE-DSCT1</td>\n",
       "      <td>Ernesto Rodriguez</td>\n",
       "      <td>NASA/JPL</td>\n",
       "    </tr>\n",
       "    <tr>\n",
       "      <th>15</th>\n",
       "      <td>SMODE-DSCT2</td>\n",
       "      <td>Ernesto Rodriguez</td>\n",
       "      <td>NASA/JPL</td>\n",
       "    </tr>\n",
       "    <tr>\n",
       "      <th>16</th>\n",
       "      <td>SMODE-RVUCT</td>\n",
       "      <td>Melissa Omand</td>\n",
       "      <td>URI/</td>\n",
       "    </tr>\n",
       "    <tr>\n",
       "      <th>17</th>\n",
       "      <td>SMODE-RVCTD</td>\n",
       "      <td>Melissa Omand</td>\n",
       "      <td>URI/</td>\n",
       "    </tr>\n",
       "    <tr>\n",
       "      <th>18</th>\n",
       "      <td>SMODE-RVMET</td>\n",
       "      <td>Melissa Omand</td>\n",
       "      <td>URI/</td>\n",
       "    </tr>\n",
       "    <tr>\n",
       "      <th>19</th>\n",
       "      <td>SMODE-RVADC</td>\n",
       "      <td>Melissa Omand</td>\n",
       "      <td>URI/</td>\n",
       "    </tr>\n",
       "    <tr>\n",
       "      <th>20</th>\n",
       "      <td>SMODE-RVTSG</td>\n",
       "      <td>Melissa Omand</td>\n",
       "      <td>URI/</td>\n",
       "    </tr>\n",
       "    <tr>\n",
       "      <th>21</th>\n",
       "      <td>SMODE-RVECT</td>\n",
       "      <td>Amala Mahadevan</td>\n",
       "      <td>WHOI/</td>\n",
       "    </tr>\n",
       "    <tr>\n",
       "      <th>22</th>\n",
       "      <td>SMODE-RVSUN</td>\n",
       "      <td>Amala Mahadevan</td>\n",
       "      <td>WHOI/</td>\n",
       "    </tr>\n",
       "    <tr>\n",
       "      <th>23</th>\n",
       "      <td>SMODE-RVBIO</td>\n",
       "      <td>Melissa Omand, Amala Mahadevan</td>\n",
       "      <td>URI/</td>\n",
       "    </tr>\n",
       "    <tr>\n",
       "      <th>24</th>\n",
       "      <td>SMODE-GLID3</td>\n",
       "      <td>Tom Farrar</td>\n",
       "      <td>WHOI/</td>\n",
       "    </tr>\n",
       "    <tr>\n",
       "      <th>25</th>\n",
       "      <td>SMODE-FLOAT</td>\n",
       "      <td>Andrey Shcherbina</td>\n",
       "      <td>UWA/</td>\n",
       "    </tr>\n",
       "    <tr>\n",
       "      <th>26</th>\n",
       "      <td>SMODE-DRIFT</td>\n",
       "      <td>Andrey Shcherbina</td>\n",
       "      <td>UWA/</td>\n",
       "    </tr>\n",
       "    <tr>\n",
       "      <th>27</th>\n",
       "      <td>SMODE-SDRON</td>\n",
       "      <td>Cesar B Rocha</td>\n",
       "      <td>WHOI/</td>\n",
       "    </tr>\n",
       "    <tr>\n",
       "      <th>28</th>\n",
       "      <td>SMODE-SONDE</td>\n",
       "      <td>Larry O'Neill</td>\n",
       "      <td>OR-STATE/</td>\n",
       "    </tr>\n",
       "    <tr>\n",
       "      <th>29</th>\n",
       "      <td>SMODE-GLID1</td>\n",
       "      <td>Tom Farrar</td>\n",
       "      <td>WHOI/</td>\n",
       "    </tr>\n",
       "  </tbody>\n",
       "</table>\n",
       "</div>"
      ],
      "text/plain": [
       "            DOI                          creator_name    creator_institution\n",
       "0   SMODE-KABR2       Ernesto Rodriguez, Paul Siquera               UMASS-A/\n",
       "1   SMODE-POLC2                  Christopher J. Zappa          COLUMBIA/LDEO\n",
       "2   SMODE-DSCA2       Ernesto Rodriguez, Paul Siquera               UMASS-A/\n",
       "3   SMODE-PRSM0  Michelle M. Gierach, Andrew Thompson  NASA/JPL, CALTECH/GPS\n",
       "4   SMODE-PRSM1  Michelle M. Gierach, Andrew Thompson  NASA/JPL, CALTECH/GPS\n",
       "5   SMODE-PRSM2  Michelle M. Gierach, Andrew Thompson  NASA/JPL, CALTECH/GPS\n",
       "6   SMODE-MASS0                            Luc Lenain      UC SAN DIEGO/SIO/\n",
       "7   SMODE-MASS1                            Luc Lenain      UC SAN DIEGO/SIO/\n",
       "8   SMODE-MASS2                            Luc Lenain      UC SAN DIEGO/SIO/\n",
       "9   SMODE-MOSE0                      Jeroen Molemaker                  UCLA/\n",
       "10  SMODE-MOSE1                      Jeroen Molemaker                  UCLA/\n",
       "11  SMODE-MOSE2                      Jeroen Molemaker                  UCLA/\n",
       "12  SMODE-MOSE3                      Jeroen Molemaker                  UCLA/\n",
       "13  SMODE-DSCT0                     Ernesto Rodriguez               NASA/JPL\n",
       "14  SMODE-DSCT1                     Ernesto Rodriguez               NASA/JPL\n",
       "15  SMODE-DSCT2                     Ernesto Rodriguez               NASA/JPL\n",
       "16  SMODE-RVUCT                         Melissa Omand                   URI/\n",
       "17  SMODE-RVCTD                         Melissa Omand                   URI/\n",
       "18  SMODE-RVMET                         Melissa Omand                   URI/\n",
       "19  SMODE-RVADC                         Melissa Omand                   URI/\n",
       "20  SMODE-RVTSG                         Melissa Omand                   URI/\n",
       "21  SMODE-RVECT                       Amala Mahadevan                  WHOI/\n",
       "22  SMODE-RVSUN                       Amala Mahadevan                  WHOI/\n",
       "23  SMODE-RVBIO        Melissa Omand, Amala Mahadevan                   URI/\n",
       "24  SMODE-GLID3                            Tom Farrar                  WHOI/\n",
       "25  SMODE-FLOAT                     Andrey Shcherbina                   UWA/\n",
       "26  SMODE-DRIFT                     Andrey Shcherbina                   UWA/\n",
       "27  SMODE-SDRON                         Cesar B Rocha                  WHOI/\n",
       "28  SMODE-SONDE                         Larry O'Neill              OR-STATE/\n",
       "29  SMODE-GLID1                            Tom Farrar                  WHOI/"
      ]
     },
     "execution_count": 55,
     "metadata": {},
     "output_type": "execute_result"
    }
   ],
   "source": [
    "glbl = read_excel(_atts[0], sheet_name=0)\n",
    "glbl_people = glbl[['DOI', 'creator_name', 'creator_institution']]\n",
    "glbl_people"
   ]
  },
  {
   "cell_type": "code",
   "execution_count": 56,
   "metadata": {
    "ExecuteTime": {
     "end_time": "2020-07-24T06:05:09.354924Z",
     "start_time": "2020-07-24T06:05:09.345766Z"
    }
   },
   "outputs": [
    {
     "name": "stdout",
     "output_type": "stream",
     "text": [
      "{\n",
      "  \"DOI\": {\n",
      "    \"0\": \"SMODE-KABR2\",\n",
      "    \"2\": \"SMODE-DSCA2\"\n",
      "  },\n",
      "  \"creator_name\": {\n",
      "    \"0\": \"Ernesto Rodriguez, Paul Siquera\",\n",
      "    \"2\": \"Ernesto Rodriguez, Paul Siquera\"\n",
      "  },\n",
      "  \"creator_institution\": {\n",
      "    \"0\": \"UMASS-A/\",\n",
      "    \"2\": \"UMASS-A/\"\n",
      "  }\n",
      "}\n"
     ]
    }
   ],
   "source": [
    "def _connect_people(x: str):\n",
    "    if x not in \",\".join(glbl_people.creator_name.tolist()).lower():\n",
    "        return None\n",
    "    return glbl_people[glbl_people.creator_name.apply(lambda y: x in y.lower())].to_dict()\n",
    "\n",
    "\n",
    "tmp_people = _new_people.NAME.apply(_connect_people)\n",
    "print(dumps(tmp_people.iloc[0], indent=2))"
   ]
  },
  {
   "cell_type": "code",
   "execution_count": 57,
   "metadata": {
    "ExecuteTime": {
     "end_time": "2020-07-24T06:05:09.363042Z",
     "start_time": "2020-07-24T06:05:09.356589Z"
    }
   },
   "outputs": [
    {
     "data": {
      "text/plain": [
       "ID\n",
       "SIQUERA      {'DOI': {0: 'SMODE-KABR2', 2: 'SMODE-DSCA2'}, ...\n",
       "ZAPPA        {'DOI': {1: 'SMODE-POLC2'}, 'creator_name': {1...\n",
       "THOMPSON     {'DOI': {3: 'SMODE-PRSM0', 4: 'SMODE-PRSM1', 5...\n",
       "LENAIN       {'DOI': {6: 'SMODE-MASS0', 7: 'SMODE-MASS1', 8...\n",
       "ONEILL                                                    None\n",
       "MAHADAVAN                                                 None\n",
       "ROCHA        {'DOI': {27: 'SMODE-SDRON'}, 'creator_name': {...\n",
       "GIERACH      {'DOI': {3: 'SMODE-PRSM0', 4: 'SMODE-PRSM1', 5...\n",
       "MOLEMAKER    {'DOI': {9: 'SMODE-MOSE0', 10: 'SMODE-MOSE1', ...\n",
       "OMAND        {'DOI': {16: 'SMODE-RVUCT', 17: 'SMODE-RVCTD',...\n",
       "MAHADEVAN    {'DOI': {21: 'SMODE-RVECT', 22: 'SMODE-RVSUN',...\n",
       "Name: NAME, dtype: object"
      ]
     },
     "execution_count": 57,
     "metadata": {},
     "output_type": "execute_result"
    }
   ],
   "source": [
    "tmp_people"
   ]
  },
  {
   "cell_type": "code",
   "execution_count": 58,
   "metadata": {
    "ExecuteTime": {
     "end_time": "2020-07-24T06:05:09.368332Z",
     "start_time": "2020-07-24T06:05:09.364648Z"
    }
   },
   "outputs": [
    {
     "data": {
      "text/plain": [
       "ID\n",
       "SIQUERA                   UMASS-A/\n",
       "ZAPPA                COLUMBIA/LDEO\n",
       "THOMPSON     NASA/JPL, CALTECH/GPS\n",
       "LENAIN           UC SAN DIEGO/SIO/\n",
       "ONEILL                        None\n",
       "MAHADAVAN                     None\n",
       "ROCHA                        WHOI/\n",
       "GIERACH      NASA/JPL, CALTECH/GPS\n",
       "MOLEMAKER                    UCLA/\n",
       "OMAND                         URI/\n",
       "MAHADEVAN                    WHOI/\n",
       "Name: NAME, dtype: object"
      ]
     },
     "execution_count": 58,
     "metadata": {},
     "output_type": "execute_result"
    }
   ],
   "source": [
    "_tmp_people = tmp_people.apply(lambda x: None if x is None else list(set(x['creator_institution'].values()))[0])\n",
    "_tmp_people"
   ]
  },
  {
   "cell_type": "code",
   "execution_count": 59,
   "metadata": {
    "ExecuteTime": {
     "end_time": "2020-07-24T06:05:09.374383Z",
     "start_time": "2020-07-24T06:05:09.369442Z"
    }
   },
   "outputs": [
    {
     "data": {
      "text/plain": [
       "ID\n",
       "SIQUERA                  [UMASS-A]\n",
       "ZAPPA             [COLUMBIA, LDEO]\n",
       "THOMPSON            [CALTECH, GPS]\n",
       "LENAIN       [UC, SAN, DIEGO, SIO]\n",
       "ONEILL                 [OR, STATE]\n",
       "MAHADAVAN                    [URI]\n",
       "ROCHA                       [WHOI]\n",
       "GIERACH                [NASA, JPL]\n",
       "MOLEMAKER                   [UCLA]\n",
       "OMAND                        [URI]\n",
       "MAHADEVAN                   [WHOI]\n",
       "Name: NAME, dtype: object"
      ]
     },
     "execution_count": 59,
     "metadata": {},
     "output_type": "execute_result"
    }
   ],
   "source": [
    "_tmp_people['GIERACH'] = \"NASA/JPL\"\n",
    "_tmp_people['THOMPSON'] = \"CALTECH/GPS\"\n",
    "_tmp_people['MAHADAVAN'] = \"URI\"\n",
    "_tmp_people['ONEILL'] = \"OR/STATE\"\n",
    "_tmp_people = _tmp_people.apply(lambda x: x.replace(\"/\", \" \").strip().split(\" \"))\n",
    "_tmp_people"
   ]
  },
  {
   "cell_type": "code",
   "execution_count": 60,
   "metadata": {
    "ExecuteTime": {
     "end_time": "2020-07-24T06:05:09.378299Z",
     "start_time": "2020-07-24T06:05:09.375395Z"
    }
   },
   "outputs": [
    {
     "data": {
      "text/plain": [
       "ID\n",
       "FARRAR                 Woods Hole Oceanographic Institution\n",
       "MATTHIAS               Woods Hole Oceanographic Institution\n",
       "DASARO                             University of Washington\n",
       "SHCHERBINA                         University of Washington\n",
       "RODRIGUEZ                    NASA Jet Propulsion Laboratory\n",
       "STOVER                         NASA Langley Research Center\n",
       "OLSON                          NASA Langley Research Center\n",
       "VINOGRADOVA-SHIFFER                       NASA Headquarters\n",
       "CZECH                             NASA Ames Research Center\n",
       "Name: INSTITUTION, dtype: object"
      ]
     },
     "execution_count": 60,
     "metadata": {},
     "output_type": "execute_result"
    }
   ],
   "source": [
    "_peopold.INSTITUTION"
   ]
  },
  {
   "cell_type": "code",
   "execution_count": 61,
   "metadata": {
    "ExecuteTime": {
     "end_time": "2020-07-24T06:05:09.384328Z",
     "start_time": "2020-07-24T06:05:09.379494Z"
    }
   },
   "outputs": [
    {
     "data": {
      "text/plain": [
       "[['WHOI', 'Woods', 'Hole', 'Oceanographic', 'Institution'],\n",
       " ['WHOI', 'Woods', 'Hole', 'Oceanographic', 'Institution'],\n",
       " ['UW', 'University', 'of', 'Washington'],\n",
       " ['UW', 'University', 'of', 'Washington'],\n",
       " ['NASA', 'JPL', 'NASA', 'Jet', 'Propulsion', 'Laboratory'],\n",
       " ['NASA', 'LARC', 'NASA', 'Langley', 'Research', 'Center'],\n",
       " ['NASA', 'LARC', 'NASA', 'Langley', 'Research', 'Center'],\n",
       " ['NASA', 'HQ', 'NASA', 'Headquarters'],\n",
       " ['NASA', 'ARC', 'NASA', 'Ames', 'Research', 'Center']]"
      ]
     },
     "execution_count": 61,
     "metadata": {},
     "output_type": "execute_result"
    }
   ],
   "source": [
    "_search_peopold = [[*l[0].split(\" \"), *l[1]] for l in list(zip([\n",
    "    'WHOI',\n",
    "    'WHOI',\n",
    "    'UW',\n",
    "    'UW',\n",
    "    'NASA JPL',\n",
    "    'NASA LARC',\n",
    "    'NASA LARC',\n",
    "    'NASA HQ',\n",
    "    'NASA ARC', \n",
    "], _peopold.INSTITUTION.apply(lambda x: x.split(\" \")).tolist()))]\n",
    "\n",
    "_search_peopold"
   ]
  },
  {
   "cell_type": "code",
   "execution_count": 79,
   "metadata": {
    "ExecuteTime": {
     "end_time": "2020-07-24T06:16:08.361716Z",
     "start_time": "2020-07-24T06:16:08.354365Z"
    }
   },
   "outputs": [
    {
     "data": {
      "text/html": [
       "<div>\n",
       "<style scoped>\n",
       "    .dataframe tbody tr th:only-of-type {\n",
       "        vertical-align: middle;\n",
       "    }\n",
       "\n",
       "    .dataframe tbody tr th {\n",
       "        vertical-align: top;\n",
       "    }\n",
       "\n",
       "    .dataframe thead th {\n",
       "        text-align: right;\n",
       "    }\n",
       "</style>\n",
       "<table border=\"1\" class=\"dataframe\">\n",
       "  <thead>\n",
       "    <tr style=\"text-align: right;\">\n",
       "      <th></th>\n",
       "      <th>NAME</th>\n",
       "      <th>ROLE</th>\n",
       "      <th>INSTITUTION</th>\n",
       "    </tr>\n",
       "    <tr>\n",
       "      <th>ID</th>\n",
       "      <th></th>\n",
       "      <th></th>\n",
       "      <th></th>\n",
       "    </tr>\n",
       "  </thead>\n",
       "  <tbody>\n",
       "    <tr>\n",
       "      <th>FARRAR</th>\n",
       "      <td>J. Tom Farrar</td>\n",
       "      <td>Principal Investigator</td>\n",
       "      <td>[WHOI, Woods, Hole, Oceanographic, Institution]</td>\n",
       "    </tr>\n",
       "    <tr>\n",
       "      <th>MATTHIAS</th>\n",
       "      <td>Paul Matthias</td>\n",
       "      <td>Deputy Principal Investigator</td>\n",
       "      <td>[WHOI, Woods, Hole, Oceanographic, Institution]</td>\n",
       "    </tr>\n",
       "    <tr>\n",
       "      <th>DASARO</th>\n",
       "      <td>Eric D'Asaro</td>\n",
       "      <td>Deputy PI for Science Data Analysis</td>\n",
       "      <td>[UW, University, of, Washington]</td>\n",
       "    </tr>\n",
       "    <tr>\n",
       "      <th>SHCHERBINA</th>\n",
       "      <td>Andrey Shcherbina</td>\n",
       "      <td>Deputy PI for In Situ Measurements</td>\n",
       "      <td>[UW, University, of, Washington]</td>\n",
       "    </tr>\n",
       "    <tr>\n",
       "      <th>RODRIGUEZ</th>\n",
       "      <td>Ernesto Rodriguez</td>\n",
       "      <td>Deputy PI for Aircraft Measurements</td>\n",
       "      <td>[NASA, JPL, NASA, Jet, Propulsion, Laboratory]</td>\n",
       "    </tr>\n",
       "    <tr>\n",
       "      <th>STOVER</th>\n",
       "      <td>Gregory Stover</td>\n",
       "      <td>ESSP Program Manager</td>\n",
       "      <td>[NASA, LARC, NASA, Langley, Research, Center]</td>\n",
       "    </tr>\n",
       "    <tr>\n",
       "      <th>OLSON</th>\n",
       "      <td>Jennifer Olson</td>\n",
       "      <td>EVS-3 Mission Manager</td>\n",
       "      <td>[NASA, LARC, NASA, Langley, Research, Center]</td>\n",
       "    </tr>\n",
       "    <tr>\n",
       "      <th>VINOGRADOVA-SHIFFER</th>\n",
       "      <td>Nadya Vinogradova-Shiffer</td>\n",
       "      <td>Program Scientist - Physical Oceanography Program</td>\n",
       "      <td>[NASA, HQ, NASA, Headquarters]</td>\n",
       "    </tr>\n",
       "    <tr>\n",
       "      <th>CZECH</th>\n",
       "      <td>Erin Czech</td>\n",
       "      <td>ESPO Project Manager</td>\n",
       "      <td>[NASA, ARC, NASA, Ames, Research, Center]</td>\n",
       "    </tr>\n",
       "  </tbody>\n",
       "</table>\n",
       "</div>"
      ],
      "text/plain": [
       "                                          NAME  \\\n",
       "ID                                               \n",
       "FARRAR                           J. Tom Farrar   \n",
       "MATTHIAS                         Paul Matthias   \n",
       "DASARO                            Eric D'Asaro   \n",
       "SHCHERBINA                   Andrey Shcherbina   \n",
       "RODRIGUEZ                    Ernesto Rodriguez   \n",
       "STOVER                          Gregory Stover   \n",
       "OLSON                           Jennifer Olson   \n",
       "VINOGRADOVA-SHIFFER  Nadya Vinogradova-Shiffer   \n",
       "CZECH                               Erin Czech   \n",
       "\n",
       "                                                                  ROLE  \\\n",
       "ID                                                                       \n",
       "FARRAR                                          Principal Investigator   \n",
       "MATTHIAS                                 Deputy Principal Investigator   \n",
       "DASARO                             Deputy PI for Science Data Analysis   \n",
       "SHCHERBINA                          Deputy PI for In Situ Measurements   \n",
       "RODRIGUEZ                          Deputy PI for Aircraft Measurements   \n",
       "STOVER                                            ESSP Program Manager   \n",
       "OLSON                                            EVS-3 Mission Manager   \n",
       "VINOGRADOVA-SHIFFER  Program Scientist - Physical Oceanography Program   \n",
       "CZECH                                             ESPO Project Manager   \n",
       "\n",
       "                                                         INSTITUTION  \n",
       "ID                                                                    \n",
       "FARRAR               [WHOI, Woods, Hole, Oceanographic, Institution]  \n",
       "MATTHIAS             [WHOI, Woods, Hole, Oceanographic, Institution]  \n",
       "DASARO                              [UW, University, of, Washington]  \n",
       "SHCHERBINA                          [UW, University, of, Washington]  \n",
       "RODRIGUEZ             [NASA, JPL, NASA, Jet, Propulsion, Laboratory]  \n",
       "STOVER                 [NASA, LARC, NASA, Langley, Research, Center]  \n",
       "OLSON                  [NASA, LARC, NASA, Langley, Research, Center]  \n",
       "VINOGRADOVA-SHIFFER                   [NASA, HQ, NASA, Headquarters]  \n",
       "CZECH                      [NASA, ARC, NASA, Ames, Research, Center]  "
      ]
     },
     "execution_count": 79,
     "metadata": {},
     "output_type": "execute_result"
    }
   ],
   "source": [
    "_peopold.INSTITUTION = _search_peopold\n",
    "_peopold"
   ]
  },
  {
   "cell_type": "markdown",
   "metadata": {},
   "source": [
    "Now concatenate the two data frames together for the full list of people. (We could still be missing a couple few)"
   ]
  },
  {
   "cell_type": "code",
   "execution_count": 80,
   "metadata": {
    "ExecuteTime": {
     "end_time": "2020-07-24T06:16:12.157700Z",
     "start_time": "2020-07-24T06:16:12.145086Z"
    }
   },
   "outputs": [
    {
     "data": {
      "text/html": [
       "<div>\n",
       "<style scoped>\n",
       "    .dataframe tbody tr th:only-of-type {\n",
       "        vertical-align: middle;\n",
       "    }\n",
       "\n",
       "    .dataframe tbody tr th {\n",
       "        vertical-align: top;\n",
       "    }\n",
       "\n",
       "    .dataframe thead th {\n",
       "        text-align: right;\n",
       "    }\n",
       "</style>\n",
       "<table border=\"1\" class=\"dataframe\">\n",
       "  <thead>\n",
       "    <tr style=\"text-align: right;\">\n",
       "      <th></th>\n",
       "      <th>NAME</th>\n",
       "      <th>ROLE</th>\n",
       "      <th>INSTITUTION</th>\n",
       "    </tr>\n",
       "    <tr>\n",
       "      <th>ID</th>\n",
       "      <th></th>\n",
       "      <th></th>\n",
       "      <th></th>\n",
       "    </tr>\n",
       "  </thead>\n",
       "  <tbody>\n",
       "    <tr>\n",
       "      <th>FARRAR</th>\n",
       "      <td>J. Tom Farrar</td>\n",
       "      <td>Principal Investigator</td>\n",
       "      <td>[WHOI, Woods, Hole, Oceanographic, Institution]</td>\n",
       "    </tr>\n",
       "    <tr>\n",
       "      <th>MATTHIAS</th>\n",
       "      <td>Paul Matthias</td>\n",
       "      <td>Deputy Principal Investigator</td>\n",
       "      <td>[WHOI, Woods, Hole, Oceanographic, Institution]</td>\n",
       "    </tr>\n",
       "    <tr>\n",
       "      <th>DASARO</th>\n",
       "      <td>Eric D'Asaro</td>\n",
       "      <td>Deputy PI for Science Data Analysis</td>\n",
       "      <td>[UW, University, of, Washington]</td>\n",
       "    </tr>\n",
       "    <tr>\n",
       "      <th>SHCHERBINA</th>\n",
       "      <td>Andrey Shcherbina</td>\n",
       "      <td>Deputy PI for In Situ Measurements</td>\n",
       "      <td>[UW, University, of, Washington]</td>\n",
       "    </tr>\n",
       "    <tr>\n",
       "      <th>RODRIGUEZ</th>\n",
       "      <td>Ernesto Rodriguez</td>\n",
       "      <td>Deputy PI for Aircraft Measurements</td>\n",
       "      <td>[NASA, JPL, NASA, Jet, Propulsion, Laboratory]</td>\n",
       "    </tr>\n",
       "    <tr>\n",
       "      <th>STOVER</th>\n",
       "      <td>Gregory Stover</td>\n",
       "      <td>ESSP Program Manager</td>\n",
       "      <td>[NASA, LARC, NASA, Langley, Research, Center]</td>\n",
       "    </tr>\n",
       "    <tr>\n",
       "      <th>OLSON</th>\n",
       "      <td>Jennifer Olson</td>\n",
       "      <td>EVS-3 Mission Manager</td>\n",
       "      <td>[NASA, LARC, NASA, Langley, Research, Center]</td>\n",
       "    </tr>\n",
       "    <tr>\n",
       "      <th>VINOGRADOVA-SHIFFER</th>\n",
       "      <td>Nadya Vinogradova-Shiffer</td>\n",
       "      <td>Program Scientist - Physical Oceanography Program</td>\n",
       "      <td>[NASA, HQ, NASA, Headquarters]</td>\n",
       "    </tr>\n",
       "    <tr>\n",
       "      <th>CZECH</th>\n",
       "      <td>Erin Czech</td>\n",
       "      <td>ESPO Project Manager</td>\n",
       "      <td>[NASA, ARC, NASA, Ames, Research, Center]</td>\n",
       "    </tr>\n",
       "    <tr>\n",
       "      <th>SIQUERA</th>\n",
       "      <td>siquera</td>\n",
       "      <td>Co-Investigator</td>\n",
       "      <td>[UMASS-A]</td>\n",
       "    </tr>\n",
       "    <tr>\n",
       "      <th>ZAPPA</th>\n",
       "      <td>zappa</td>\n",
       "      <td>Co-Investigator</td>\n",
       "      <td>[COLUMBIA, LDEO]</td>\n",
       "    </tr>\n",
       "    <tr>\n",
       "      <th>THOMPSON</th>\n",
       "      <td>thompson</td>\n",
       "      <td>Co-Investigator</td>\n",
       "      <td>[CALTECH, GPS]</td>\n",
       "    </tr>\n",
       "    <tr>\n",
       "      <th>LENAIN</th>\n",
       "      <td>lenain</td>\n",
       "      <td>Co-Investigator</td>\n",
       "      <td>[UC, SAN, DIEGO, SIO]</td>\n",
       "    </tr>\n",
       "    <tr>\n",
       "      <th>ONEILL</th>\n",
       "      <td>oneill</td>\n",
       "      <td>Co-Investigator</td>\n",
       "      <td>[OR, STATE]</td>\n",
       "    </tr>\n",
       "    <tr>\n",
       "      <th>MAHADAVAN</th>\n",
       "      <td>mahadavan</td>\n",
       "      <td>Co-Investigator</td>\n",
       "      <td>[URI]</td>\n",
       "    </tr>\n",
       "    <tr>\n",
       "      <th>ROCHA</th>\n",
       "      <td>rocha</td>\n",
       "      <td>Co-Investigator</td>\n",
       "      <td>[WHOI]</td>\n",
       "    </tr>\n",
       "    <tr>\n",
       "      <th>GIERACH</th>\n",
       "      <td>gierach</td>\n",
       "      <td>Co-Investigator</td>\n",
       "      <td>[NASA, JPL]</td>\n",
       "    </tr>\n",
       "    <tr>\n",
       "      <th>MOLEMAKER</th>\n",
       "      <td>molemaker</td>\n",
       "      <td>Co-Investigator</td>\n",
       "      <td>[UCLA]</td>\n",
       "    </tr>\n",
       "    <tr>\n",
       "      <th>OMAND</th>\n",
       "      <td>omand</td>\n",
       "      <td>Co-Investigator</td>\n",
       "      <td>[URI]</td>\n",
       "    </tr>\n",
       "    <tr>\n",
       "      <th>MAHADEVAN</th>\n",
       "      <td>mahadevan</td>\n",
       "      <td>Co-Investigator</td>\n",
       "      <td>[WHOI]</td>\n",
       "    </tr>\n",
       "  </tbody>\n",
       "</table>\n",
       "</div>"
      ],
      "text/plain": [
       "                                          NAME  \\\n",
       "ID                                               \n",
       "FARRAR                           J. Tom Farrar   \n",
       "MATTHIAS                         Paul Matthias   \n",
       "DASARO                            Eric D'Asaro   \n",
       "SHCHERBINA                   Andrey Shcherbina   \n",
       "RODRIGUEZ                    Ernesto Rodriguez   \n",
       "STOVER                          Gregory Stover   \n",
       "OLSON                           Jennifer Olson   \n",
       "VINOGRADOVA-SHIFFER  Nadya Vinogradova-Shiffer   \n",
       "CZECH                               Erin Czech   \n",
       "SIQUERA                                siquera   \n",
       "ZAPPA                                    zappa   \n",
       "THOMPSON                              thompson   \n",
       "LENAIN                                  lenain   \n",
       "ONEILL                                  oneill   \n",
       "MAHADAVAN                            mahadavan   \n",
       "ROCHA                                    rocha   \n",
       "GIERACH                                gierach   \n",
       "MOLEMAKER                            molemaker   \n",
       "OMAND                                    omand   \n",
       "MAHADEVAN                            mahadevan   \n",
       "\n",
       "                                                                  ROLE  \\\n",
       "ID                                                                       \n",
       "FARRAR                                          Principal Investigator   \n",
       "MATTHIAS                                 Deputy Principal Investigator   \n",
       "DASARO                             Deputy PI for Science Data Analysis   \n",
       "SHCHERBINA                          Deputy PI for In Situ Measurements   \n",
       "RODRIGUEZ                          Deputy PI for Aircraft Measurements   \n",
       "STOVER                                            ESSP Program Manager   \n",
       "OLSON                                            EVS-3 Mission Manager   \n",
       "VINOGRADOVA-SHIFFER  Program Scientist - Physical Oceanography Program   \n",
       "CZECH                                             ESPO Project Manager   \n",
       "SIQUERA                                                Co-Investigator   \n",
       "ZAPPA                                                  Co-Investigator   \n",
       "THOMPSON                                               Co-Investigator   \n",
       "LENAIN                                                 Co-Investigator   \n",
       "ONEILL                                                 Co-Investigator   \n",
       "MAHADAVAN                                              Co-Investigator   \n",
       "ROCHA                                                  Co-Investigator   \n",
       "GIERACH                                                Co-Investigator   \n",
       "MOLEMAKER                                              Co-Investigator   \n",
       "OMAND                                                  Co-Investigator   \n",
       "MAHADEVAN                                              Co-Investigator   \n",
       "\n",
       "                                                         INSTITUTION  \n",
       "ID                                                                    \n",
       "FARRAR               [WHOI, Woods, Hole, Oceanographic, Institution]  \n",
       "MATTHIAS             [WHOI, Woods, Hole, Oceanographic, Institution]  \n",
       "DASARO                              [UW, University, of, Washington]  \n",
       "SHCHERBINA                          [UW, University, of, Washington]  \n",
       "RODRIGUEZ             [NASA, JPL, NASA, Jet, Propulsion, Laboratory]  \n",
       "STOVER                 [NASA, LARC, NASA, Langley, Research, Center]  \n",
       "OLSON                  [NASA, LARC, NASA, Langley, Research, Center]  \n",
       "VINOGRADOVA-SHIFFER                   [NASA, HQ, NASA, Headquarters]  \n",
       "CZECH                      [NASA, ARC, NASA, Ames, Research, Center]  \n",
       "SIQUERA                                                    [UMASS-A]  \n",
       "ZAPPA                                               [COLUMBIA, LDEO]  \n",
       "THOMPSON                                              [CALTECH, GPS]  \n",
       "LENAIN                                         [UC, SAN, DIEGO, SIO]  \n",
       "ONEILL                                                   [OR, STATE]  \n",
       "MAHADAVAN                                                      [URI]  \n",
       "ROCHA                                                         [WHOI]  \n",
       "GIERACH                                                  [NASA, JPL]  \n",
       "MOLEMAKER                                                     [UCLA]  \n",
       "OMAND                                                          [URI]  \n",
       "MAHADEVAN                                                     [WHOI]  "
      ]
     },
     "execution_count": 80,
     "metadata": {},
     "output_type": "execute_result"
    }
   ],
   "source": [
    "_new_people.INSTITUTION = _tmp_people\n",
    "_all_people = concat([_peopold, _new_people])\n",
    "_all_people"
   ]
  },
  {
   "cell_type": "code",
   "execution_count": 81,
   "metadata": {
    "ExecuteTime": {
     "end_time": "2020-07-24T06:18:20.759946Z",
     "start_time": "2020-07-24T06:18:20.754566Z"
    }
   },
   "outputs": [],
   "source": [
    "_all_people.to_csv(\"../references/people2.csv\")"
   ]
  },
  {
   "cell_type": "code",
   "execution_count": 87,
   "metadata": {
    "ExecuteTime": {
     "end_time": "2020-07-24T06:21:48.046873Z",
     "start_time": "2020-07-24T06:21:48.043610Z"
    }
   },
   "outputs": [
    {
     "name": "stdout",
     "output_type": "stream",
     "text": [
      "Woods Hole Oceanographic Institution\n",
      "Woods Hole Oceanographic Institution\n",
      "University of Washington\n",
      "University of Washington\n",
      "NASA Jet Propulsion Laboratory\n",
      "NASA Langley Research Center\n",
      "NASA Langley Research Center\n",
      "NASA Headquarters\n",
      "NASA Ames Research Center\n"
     ]
    }
   ],
   "source": [
    "print(\"\\n\".join([i.split(\"(\")[1][:-1] for i in \"\"\"J. Tom Farrar (Woods Hole Oceanographic Institution)\n",
    "Paul Matthias (Woods Hole Oceanographic Institution)\n",
    "Eric D'Asaro (University of Washington)\n",
    "Andrey Shcherbina (University of Washington)\n",
    "Ernesto Rodriguez (NASA Jet Propulsion Laboratory)\n",
    "Gregory Stover (NASA Langley Research Center)\n",
    "Jennifer Olson (NASA Langley Research Center)\n",
    "Nadya Vinogradova-Shiffer (NASA Headquarters)\n",
    "Erin Czech (NASA Ames Research Center)\"\"\".split(\"\\n\")]))"
   ]
  },
  {
   "cell_type": "code",
   "execution_count": null,
   "metadata": {},
   "outputs": [],
   "source": []
  },
  {
   "cell_type": "markdown",
   "metadata": {},
   "source": [
    "Now compare row-wise against the providers table to see if there are any matches. Score them by the number of strings that are present in each keyword row joined to a string."
   ]
  },
  {
   "cell_type": "code",
   "execution_count": 78,
   "metadata": {
    "ExecuteTime": {
     "end_time": "2020-07-24T06:13:33.247427Z",
     "start_time": "2020-07-24T06:13:33.231916Z"
    },
    "scrolled": true
   },
   "outputs": [
    {
     "data": {
      "text/html": [
       "<div>\n",
       "<style scoped>\n",
       "    .dataframe tbody tr th:only-of-type {\n",
       "        vertical-align: middle;\n",
       "    }\n",
       "\n",
       "    .dataframe tbody tr th {\n",
       "        vertical-align: top;\n",
       "    }\n",
       "\n",
       "    .dataframe thead th {\n",
       "        text-align: right;\n",
       "    }\n",
       "</style>\n",
       "<table border=\"1\" class=\"dataframe\">\n",
       "  <thead>\n",
       "    <tr style=\"text-align: right;\">\n",
       "      <th></th>\n",
       "      <th>Bucket_Level0</th>\n",
       "      <th>Bucket_Level1</th>\n",
       "      <th>Bucket_Level2</th>\n",
       "      <th>Bucket_Level3</th>\n",
       "      <th>Short_Name</th>\n",
       "      <th>Long_Name</th>\n",
       "      <th>Data_Center_URL</th>\n",
       "      <th>UUID</th>\n",
       "    </tr>\n",
       "  </thead>\n",
       "  <tbody>\n",
       "    <tr>\n",
       "      <th>0</th>\n",
       "      <td>ACADEMIC</td>\n",
       "      <td>GERMANY</td>\n",
       "      <td>NaN</td>\n",
       "      <td>NaN</td>\n",
       "      <td>DE/DLR</td>\n",
       "      <td>german aerospace center (dlr)</td>\n",
       "      <td>NaN</td>\n",
       "      <td>2f9d7c12-c02d-41fb-a168-4d91794187f7</td>\n",
       "    </tr>\n",
       "    <tr>\n",
       "      <th>1</th>\n",
       "      <td>ACADEMIC</td>\n",
       "      <td>GERMANY</td>\n",
       "      <td>NaN</td>\n",
       "      <td>NaN</td>\n",
       "      <td>NaN</td>\n",
       "      <td>nan</td>\n",
       "      <td>NaN</td>\n",
       "      <td>d780c4ea-4b39-4fda-a0d3-4f5bee42530d</td>\n",
       "    </tr>\n",
       "    <tr>\n",
       "      <th>2</th>\n",
       "      <td>ACADEMIC</td>\n",
       "      <td>NaN</td>\n",
       "      <td>NaN</td>\n",
       "      <td>NaN</td>\n",
       "      <td>AALTO-AM</td>\n",
       "      <td>aalto university, school of engineering, depar...</td>\n",
       "      <td>NaN</td>\n",
       "      <td>28b4870a-e36c-4f9a-8810-5cf6d73c5f66</td>\n",
       "    </tr>\n",
       "    <tr>\n",
       "      <th>3</th>\n",
       "      <td>ACADEMIC</td>\n",
       "      <td>NaN</td>\n",
       "      <td>NaN</td>\n",
       "      <td>NaN</td>\n",
       "      <td>AALTO</td>\n",
       "      <td>aalto university</td>\n",
       "      <td>NaN</td>\n",
       "      <td>d50d54e6-6ea5-4579-bbc7-98afffd8b443</td>\n",
       "    </tr>\n",
       "    <tr>\n",
       "      <th>4</th>\n",
       "      <td>ACADEMIC</td>\n",
       "      <td>NaN</td>\n",
       "      <td>NaN</td>\n",
       "      <td>NaN</td>\n",
       "      <td>AARHUS-HYDRO</td>\n",
       "      <td>hydrogeophysics group, aarhus university</td>\n",
       "      <td>NaN</td>\n",
       "      <td>bd197c6d-8612-42c2-a818-1975c4911e45</td>\n",
       "    </tr>\n",
       "    <tr>\n",
       "      <th>...</th>\n",
       "      <td>...</td>\n",
       "      <td>...</td>\n",
       "      <td>...</td>\n",
       "      <td>...</td>\n",
       "      <td>...</td>\n",
       "      <td>...</td>\n",
       "      <td>...</td>\n",
       "      <td>...</td>\n",
       "    </tr>\n",
       "    <tr>\n",
       "      <th>3663</th>\n",
       "      <td>U.S. STATE/REGIONAL/LOCAL AGENCIES</td>\n",
       "      <td>WESTERN REGION</td>\n",
       "      <td>NaN</td>\n",
       "      <td>NaN</td>\n",
       "      <td>NaN</td>\n",
       "      <td>nan</td>\n",
       "      <td>NaN</td>\n",
       "      <td>67a6312d-9164-48c9-86b5-310320a1f50c</td>\n",
       "    </tr>\n",
       "    <tr>\n",
       "      <th>3664</th>\n",
       "      <td>U.S. STATE/REGIONAL/LOCAL AGENCIES</td>\n",
       "      <td>WYOMING</td>\n",
       "      <td>NaN</td>\n",
       "      <td>NaN</td>\n",
       "      <td>WY/CLIM</td>\n",
       "      <td>state climatologist office, wyoming</td>\n",
       "      <td>http://www-wwrc.uwyo.edu/wrds/wsc/wsc.html</td>\n",
       "      <td>0d06fcca-2b9f-4b27-aba1-9d1c3dd403eb</td>\n",
       "    </tr>\n",
       "    <tr>\n",
       "      <th>3665</th>\n",
       "      <td>U.S. STATE/REGIONAL/LOCAL AGENCIES</td>\n",
       "      <td>WYOMING</td>\n",
       "      <td>NaN</td>\n",
       "      <td>NaN</td>\n",
       "      <td>WY/TC/DEM</td>\n",
       "      <td>department of emergency management,teton count...</td>\n",
       "      <td>http://www.tetonwyo.org/em/</td>\n",
       "      <td>d51f97c7-387a-4794-b445-bb1daa486cde</td>\n",
       "    </tr>\n",
       "    <tr>\n",
       "      <th>3666</th>\n",
       "      <td>U.S. STATE/REGIONAL/LOCAL AGENCIES</td>\n",
       "      <td>WYOMING</td>\n",
       "      <td>NaN</td>\n",
       "      <td>NaN</td>\n",
       "      <td>NaN</td>\n",
       "      <td>nan</td>\n",
       "      <td>NaN</td>\n",
       "      <td>b9b55690-eeb1-4ac5-88c8-d87e2395fccc</td>\n",
       "    </tr>\n",
       "    <tr>\n",
       "      <th>3667</th>\n",
       "      <td>U.S. STATE/REGIONAL/LOCAL AGENCIES</td>\n",
       "      <td>NaN</td>\n",
       "      <td>NaN</td>\n",
       "      <td>NaN</td>\n",
       "      <td>NaN</td>\n",
       "      <td>nan</td>\n",
       "      <td>NaN</td>\n",
       "      <td>c2dbd735-cc3c-4645-91c7-1f72a7f2b938</td>\n",
       "    </tr>\n",
       "  </tbody>\n",
       "</table>\n",
       "<p>3668 rows × 8 columns</p>\n",
       "</div>"
      ],
      "text/plain": [
       "                           Bucket_Level0   Bucket_Level1 Bucket_Level2  \\\n",
       "0                               ACADEMIC         GERMANY           NaN   \n",
       "1                               ACADEMIC         GERMANY           NaN   \n",
       "2                               ACADEMIC             NaN           NaN   \n",
       "3                               ACADEMIC             NaN           NaN   \n",
       "4                               ACADEMIC             NaN           NaN   \n",
       "...                                  ...             ...           ...   \n",
       "3663  U.S. STATE/REGIONAL/LOCAL AGENCIES  WESTERN REGION           NaN   \n",
       "3664  U.S. STATE/REGIONAL/LOCAL AGENCIES         WYOMING           NaN   \n",
       "3665  U.S. STATE/REGIONAL/LOCAL AGENCIES         WYOMING           NaN   \n",
       "3666  U.S. STATE/REGIONAL/LOCAL AGENCIES         WYOMING           NaN   \n",
       "3667  U.S. STATE/REGIONAL/LOCAL AGENCIES             NaN           NaN   \n",
       "\n",
       "      Bucket_Level3    Short_Name  \\\n",
       "0               NaN        DE/DLR   \n",
       "1               NaN           NaN   \n",
       "2               NaN      AALTO-AM   \n",
       "3               NaN         AALTO   \n",
       "4               NaN  AARHUS-HYDRO   \n",
       "...             ...           ...   \n",
       "3663            NaN           NaN   \n",
       "3664            NaN       WY/CLIM   \n",
       "3665            NaN     WY/TC/DEM   \n",
       "3666            NaN           NaN   \n",
       "3667            NaN           NaN   \n",
       "\n",
       "                                              Long_Name  \\\n",
       "0                         german aerospace center (dlr)   \n",
       "1                                                   nan   \n",
       "2     aalto university, school of engineering, depar...   \n",
       "3                                      aalto university   \n",
       "4              hydrogeophysics group, aarhus university   \n",
       "...                                                 ...   \n",
       "3663                                                nan   \n",
       "3664                state climatologist office, wyoming   \n",
       "3665  department of emergency management,teton count...   \n",
       "3666                                                nan   \n",
       "3667                                                nan   \n",
       "\n",
       "                                 Data_Center_URL  \\\n",
       "0                                            NaN   \n",
       "1                                            NaN   \n",
       "2                                            NaN   \n",
       "3                                            NaN   \n",
       "4                                            NaN   \n",
       "...                                          ...   \n",
       "3663                                         NaN   \n",
       "3664  http://www-wwrc.uwyo.edu/wrds/wsc/wsc.html   \n",
       "3665                 http://www.tetonwyo.org/em/   \n",
       "3666                                         NaN   \n",
       "3667                                         NaN   \n",
       "\n",
       "                                      UUID  \n",
       "0     2f9d7c12-c02d-41fb-a168-4d91794187f7  \n",
       "1     d780c4ea-4b39-4fda-a0d3-4f5bee42530d  \n",
       "2     28b4870a-e36c-4f9a-8810-5cf6d73c5f66  \n",
       "3     d50d54e6-6ea5-4579-bbc7-98afffd8b443  \n",
       "4     bd197c6d-8612-42c2-a818-1975c4911e45  \n",
       "...                                    ...  \n",
       "3663  67a6312d-9164-48c9-86b5-310320a1f50c  \n",
       "3664  0d06fcca-2b9f-4b27-aba1-9d1c3dd403eb  \n",
       "3665  d51f97c7-387a-4794-b445-bb1daa486cde  \n",
       "3666  b9b55690-eeb1-4ac5-88c8-d87e2395fccc  \n",
       "3667  c2dbd735-cc3c-4645-91c7-1f72a7f2b938  \n",
       "\n",
       "[3668 rows x 8 columns]"
      ]
     },
     "execution_count": 78,
     "metadata": {},
     "output_type": "execute_result"
    }
   ],
   "source": [
    "KEYWORDS['providers'][0].Long_Name = KEYWORDS['providers'][0].Long_Name.apply(lambda x: str(x).lower())\n",
    "KEYWORDS['providers'][0]"
   ]
  },
  {
   "cell_type": "code",
   "execution_count": null,
   "metadata": {},
   "outputs": [],
   "source": [
    "#KEYWORDS['providers'][0].apply(lambda x: f'''{x.values.tolist()}'''.lower(), axis=1)"
   ]
  },
  {
   "cell_type": "code",
   "execution_count": null,
   "metadata": {},
   "outputs": [],
   "source": []
  },
  {
   "cell_type": "code",
   "execution_count": null,
   "metadata": {},
   "outputs": [],
   "source": []
  },
  {
   "cell_type": "code",
   "execution_count": null,
   "metadata": {},
   "outputs": [],
   "source": []
  },
  {
   "cell_type": "code",
   "execution_count": null,
   "metadata": {},
   "outputs": [],
   "source": []
  },
  {
   "cell_type": "markdown",
   "metadata": {},
   "source": [
    "# PLAN: Search & Score"
   ]
  },
  {
   "cell_type": "code",
   "execution_count": null,
   "metadata": {
    "ExecuteTime": {
     "end_time": "2020-07-24T05:48:14.668036Z",
     "start_time": "2020-07-24T05:48:14.663175Z"
    }
   },
   "outputs": [],
   "source": []
  },
  {
   "cell_type": "code",
   "execution_count": null,
   "metadata": {
    "ExecuteTime": {
     "end_time": "2020-07-24T05:47:43.992849Z",
     "start_time": "2020-07-24T05:47:43.989711Z"
    }
   },
   "outputs": [],
   "source": []
  },
  {
   "cell_type": "code",
   "execution_count": null,
   "metadata": {
    "ExecuteTime": {
     "end_time": "2020-07-24T05:42:48.402214Z",
     "start_time": "2020-07-24T05:42:48.398989Z"
    }
   },
   "outputs": [],
   "source": [
    "len(_tmp_peopold)"
   ]
  },
  {
   "cell_type": "code",
   "execution_count": null,
   "metadata": {
    "ExecuteTime": {
     "end_time": "2020-07-24T05:25:00.315917Z",
     "start_time": "2020-07-24T05:25:00.293433Z"
    }
   },
   "outputs": [],
   "source": [
    "dset"
   ]
  },
  {
   "cell_type": "code",
   "execution_count": null,
   "metadata": {
    "ExecuteTime": {
     "end_time": "2020-07-24T05:42:59.693317Z",
     "start_time": "2020-07-24T05:42:59.690575Z"
    }
   },
   "outputs": [],
   "source": [
    "_peopold.index.size"
   ]
  },
  {
   "cell_type": "code",
   "execution_count": null,
   "metadata": {},
   "outputs": [],
   "source": []
  },
  {
   "cell_type": "code",
   "execution_count": null,
   "metadata": {},
   "outputs": [],
   "source": []
  },
  {
   "cell_type": "code",
   "execution_count": null,
   "metadata": {},
   "outputs": [],
   "source": []
  },
  {
   "cell_type": "code",
   "execution_count": null,
   "metadata": {},
   "outputs": [],
   "source": []
  },
  {
   "cell_type": "markdown",
   "metadata": {},
   "source": [
    "Now turn the `DESCRIPTION` column into `sources.json` with some string chops:"
   ]
  },
  {
   "cell_type": "code",
   "execution_count": null,
   "metadata": {
    "ExecuteTime": {
     "end_time": "2020-07-24T05:19:13.656541Z",
     "start_time": "2020-07-24T05:19:13.653667Z"
    }
   },
   "outputs": [],
   "source": [
    "#dset.DESCRIPTION\n",
    "\n",
    "\n",
    "\n"
   ]
  },
  {
   "cell_type": "code",
   "execution_count": null,
   "metadata": {
    "ExecuteTime": {
     "end_time": "2020-07-24T04:02:58.078046Z",
     "start_time": "2020-07-24T04:02:57.867143Z"
    }
   },
   "outputs": [],
   "source": []
  },
  {
   "cell_type": "code",
   "execution_count": null,
   "metadata": {},
   "outputs": [],
   "source": []
  },
  {
   "cell_type": "code",
   "execution_count": null,
   "metadata": {},
   "outputs": [],
   "source": [
    ".at[17] = \"TBD / TBD\"\n",
    "dset.VOLUME.at[18] = \"TBD / TBD\"\n",
    "dset['FILE_VOLUME'] = dset.VOLUME.apply(lambda x: x.split(\" / \")[0])\n",
    "dset['TOTAL_VOLUME'] = dset.VOLUME.apply(lambda x: x.split(\" / \")[1])\n",
    "dset.iloc[0]"
   ]
  },
  {
   "cell_type": "code",
   "execution_count": null,
   "metadata": {},
   "outputs": [],
   "source": []
  },
  {
   "cell_type": "markdown",
   "metadata": {},
   "source": [
    "A few minor improvements first:"
   ]
  },
  {
   "cell_type": "markdown",
   "metadata": {},
   "source": [
    "#### map/index\n",
    "\n",
    "An index (or the starting point for one):"
   ]
  },
  {
   "cell_type": "code",
   "execution_count": null,
   "metadata": {
    "ExecuteTime": {
     "end_time": "2020-07-24T03:36:38.308428Z",
     "start_time": "2020-07-24T03:36:38.289432Z"
    }
   },
   "outputs": [],
   "source": [
    "DSIX = DSET.copy()\n",
    "DSIX.style.set_properties(subset=['ID', 'LEVEL', 'PEOPLE', 'INSTITUTION', 'FORMAT'], **{'text-align': 'center'})\n",
    "DSIX = DSET.copy().set_index(\"ID\")\n",
    "\n",
    "# GROW THESE REFERENCE TABLES (WIDE) BY MAPPING\n",
    "# GCMD, CF, NCEI, etc KEYWORDS/VOCABULARIES:\n",
    "DSIX_REFS = {\n",
    "    'LEVEL': None,\n",
    "    'PEOPLE': \"../references/people.csv\",\n",
    "    'INSTITUTION': \"../references/institutions.csv\",\n",
    "    'FORMAT': None,\n",
    "    'VOLUME': None,\n",
    "    'DESCRIPTION': None,\n",
    "}\n",
    "\n",
    "DSIX[list(DSIX_REFS.keys())[1:]]"
   ]
  },
  {
   "cell_type": "markdown",
   "metadata": {
    "ExecuteTime": {
     "end_time": "2020-07-24T03:20:46.400513Z",
     "start_time": "2020-07-24T03:20:46.397875Z"
    }
   },
   "source": [
    "Improve the original table a little bit."
   ]
  },
  {
   "cell_type": "code",
   "execution_count": null,
   "metadata": {
    "ExecuteTime": {
     "end_time": "2020-07-24T03:21:45.805223Z",
     "start_time": "2020-07-24T03:21:45.787360Z"
    }
   },
   "outputs": [],
   "source": [
    "DSET['DESCRIPTION'] = DSET.DATASET.copy()\n",
    "DSET[]"
   ]
  },
  {
   "cell_type": "code",
   "execution_count": null,
   "metadata": {},
   "outputs": [],
   "source": []
  },
  {
   "cell_type": "code",
   "execution_count": null,
   "metadata": {},
   "outputs": [],
   "source": []
  },
  {
   "cell_type": "code",
   "execution_count": null,
   "metadata": {
    "ExecuteTime": {
     "end_time": "2020-07-24T03:18:56.855497Z",
     "start_time": "2020-07-24T03:18:56.817092Z"
    }
   },
   "outputs": [],
   "source": [
    "DSID = DSET[['DATASET', 'LEVEL', 'PEOPLE', 'INSTITUTION', 'FORMAT']].copy().reset_index(drop=True)\n",
    "DSID.style.set_properties(subset=['DATASET'], **{'text-align': 'left'})\n",
    "DSID.style.set_properties(subset=['LEVEL', 'PEOPLE', 'INSTITUTION', 'FORMAT'], **{'text-align': 'center'})"
   ]
  },
  {
   "cell_type": "markdown",
   "metadata": {},
   "source": [
    "### maps\n",
    "\n",
    "Lookups that grow and refine to describe the `DSET` fields."
   ]
  },
  {
   "cell_type": "code",
   "execution_count": null,
   "metadata": {},
   "outputs": [],
   "source": [
    "MAPS = {\n",
    "    'ID': None, \n",
    "    'DATASET': None, \n",
    "    'LEVEL': None, \n",
    "    'PEOPLE': None, \n",
    "    'INSTITUTION': None, \n",
    "    'FORMAT': None, \n",
    "}\n",
    "\n",
    "DSET[]"
   ]
  },
  {
   "cell_type": "markdown",
   "metadata": {
    "ExecuteTime": {
     "end_time": "2020-07-24T02:28:06.324805Z",
     "start_time": "2020-07-24T02:28:06.322440Z"
    }
   },
   "source": [
    "### instruments"
   ]
  },
  {
   "cell_type": "code",
   "execution_count": null,
   "metadata": {
    "ExecuteTime": {
     "end_time": "2020-07-24T02:55:39.003389Z",
     "start_time": "2020-07-24T02:55:38.992575Z"
    }
   },
   "outputs": [],
   "source": [
    "INST = read_csv(\"../references/instruments.csv\")\n",
    "INST"
   ]
  },
  {
   "cell_type": "markdown",
   "metadata": {},
   "source": [
    "### people"
   ]
  },
  {
   "cell_type": "code",
   "execution_count": null,
   "metadata": {
    "ExecuteTime": {
     "end_time": "2020-07-24T02:57:27.927850Z",
     "start_time": "2020-07-24T02:57:27.913229Z"
    },
    "scrolled": false
   },
   "outputs": [],
   "source": []
  },
  {
   "cell_type": "markdown",
   "metadata": {},
   "source": [
    "https://pandas.pydata.org/pandas-docs/stable/reference/api/pandas.read_excel.html\n",
    "\n",
    "```python\n",
    "FILE,\n",
    "sheet_name=0,\n",
    "header=0,\n",
    "names=None,\n",
    "index_col=None,\n",
    "usecols=None,\n",
    "squeeze=False,\n",
    "dtype=None,\n",
    "engine=None,\n",
    "converters=None,\n",
    "true_values=None,\n",
    "false_values=None,\n",
    "skiprows=None,\n",
    "nrows=None,\n",
    "na_values=None,\n",
    "keep_default_na=True,\n",
    "verbose=False,\n",
    "parse_dates=False,\n",
    "date_parser=None,\n",
    "thousands=None,\n",
    "comment=None,\n",
    "skipfooter=0,\n",
    "convert_float=True,\n",
    "mangle_dupe_cols=True,\n",
    "```"
   ]
  },
  {
   "cell_type": "markdown",
   "metadata": {},
   "source": [
    "### netcdf\n",
    "\n",
    "#### global attributes"
   ]
  },
  {
   "cell_type": "code",
   "execution_count": null,
   "metadata": {
    "ExecuteTime": {
     "end_time": "2020-07-24T02:58:11.627701Z",
     "start_time": "2020-07-24T02:58:11.589211Z"
    },
    "scrolled": true
   },
   "outputs": [],
   "source": [
    "ATTS = read_excel(_atts[0], sheet_name=2)\n",
    "ATTS.head()"
   ]
  },
  {
   "cell_type": "code",
   "execution_count": null,
   "metadata": {
    "ExecuteTime": {
     "end_time": "2020-07-24T02:58:09.887004Z",
     "start_time": "2020-07-24T02:58:09.842872Z"
    },
    "scrolled": false
   },
   "outputs": [],
   "source": [
    "GLOB = read_excel(_atts[0], sheet_name=0)\n",
    "list(GLOB.columns)"
   ]
  },
  {
   "cell_type": "code",
   "execution_count": null,
   "metadata": {},
   "outputs": [],
   "source": []
  }
 ],
 "metadata": {
  "kernelspec": {
   "display_name": "Python 3.8.2 64-bit ('geo': conda)",
   "language": "python",
   "name": "python38264bitgeoconda68469ab7a3c44e969080e19c63965fc7"
  },
  "language_info": {
   "codemirror_mode": {
    "name": "ipython",
    "version": 3
   },
   "file_extension": ".py",
   "mimetype": "text/x-python",
   "name": "python",
   "nbconvert_exporter": "python",
   "pygments_lexer": "ipython3",
   "version": "3.8.2"
  },
  "toc": {
   "base_numbering": 1,
   "nav_menu": {},
   "number_sections": true,
   "sideBar": true,
   "skip_h1_title": true,
   "title_cell": "Table of Contents",
   "title_sidebar": "Contents",
   "toc_cell": true,
   "toc_position": {
    "height": "calc(100% - 180px)",
    "left": "10px",
    "top": "150px",
    "width": "277.535px"
   },
   "toc_section_display": true,
   "toc_window_display": true
  }
 },
 "nbformat": 4,
 "nbformat_minor": 4
}
